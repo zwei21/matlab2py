{
 "cells": [
  {
   "cell_type": "code",
   "execution_count": 2,
   "metadata": {},
   "outputs": [],
   "source": [
    "import sys\n",
    "sys.path.append('..')\n",
    "import generate_potential_2d_spiral as gp2Sp\n",
    "import generate_potential_2d_Zshape as gp2Zs\n",
    "import generate_trajectory_Langevin_2D_from_symbolic as gt2La"
   ]
  },
  {
   "cell_type": "code",
   "execution_count": 3,
   "metadata": {},
   "outputs": [
    {
     "data": {
      "text/plain": [
       "['__builtins__',\n",
       " '__cached__',\n",
       " '__doc__',\n",
       " '__file__',\n",
       " '__loader__',\n",
       " '__name__',\n",
       " '__package__',\n",
       " '__spec__',\n",
       " 'cm',\n",
       " 'generate_potential_2d_spirals_numeric',\n",
       " 'generate_potential_2d_spirals_symbolic',\n",
       " 'np',\n",
       " 'plt',\n",
       " 'spy',\n",
       " 'stats',\n",
       " 'tqdm']"
      ]
     },
     "execution_count": 3,
     "metadata": {},
     "output_type": "execute_result"
    }
   ],
   "source": [
    "dir(gp2Sp)"
   ]
  },
  {
   "cell_type": "code",
   "execution_count": 21,
   "metadata": {},
   "outputs": [],
   "source": [
    "potential_Spiral_symbolic, dx, dy = gp2Sp.generate_potential_2d_spirals_symbolic([100,100],2,False,True)"
   ]
  },
  {
   "cell_type": "code",
   "execution_count": 22,
   "metadata": {},
   "outputs": [
    {
     "data": {
      "text/latex": [
       "$\\displaystyle - 0.1 x_{symb} e^{- \\frac{1.02040816326531}{\\left(0.05 \\left(x_{symb}^{2} + y_{symb}^{2}\\right) \\sin{\\left(0.02 x_{symb}^{2} + 0.02 y_{symb}^{2} + 2 \\operatorname{atan_{2}}{\\left(x_{symb},y_{symb} \\right)} \\right)} + 1\\right)^{2}}} - \\frac{1.02040816326531 \\left(- 0.2 x_{symb} \\sin{\\left(0.02 x_{symb}^{2} + 0.02 y_{symb}^{2} + 2 \\operatorname{atan_{2}}{\\left(x_{symb},y_{symb} \\right)} \\right)} - 2 \\left(0.04 x_{symb} + \\frac{2 y_{symb}}{x_{symb}^{2} + y_{symb}^{2}}\\right) \\left(0.05 x_{symb}^{2} + 0.05 y_{symb}^{2}\\right) \\cos{\\left(0.02 x_{symb}^{2} + 0.02 y_{symb}^{2} + 2 \\operatorname{atan_{2}}{\\left(x_{symb},y_{symb} \\right)} \\right)}\\right) \\left(- 0.05 x_{symb}^{2} - 0.05 y_{symb}^{2} - 1\\right) e^{- \\frac{1.02040816326531}{\\left(0.05 \\left(x_{symb}^{2} + y_{symb}^{2}\\right) \\sin{\\left(0.02 x_{symb}^{2} + 0.02 y_{symb}^{2} + 2 \\operatorname{atan_{2}}{\\left(x_{symb},y_{symb} \\right)} \\right)} + 1\\right)^{2}}}}{\\left(0.05 \\left(x_{symb}^{2} + y_{symb}^{2}\\right) \\sin{\\left(0.02 x_{symb}^{2} + 0.02 y_{symb}^{2} + 2 \\operatorname{atan_{2}}{\\left(x_{symb},y_{symb} \\right)} \\right)} + 1\\right)^{3}}$"
      ],
      "text/plain": [
       "-0.1*x_symb*exp(-1.02040816326531/(0.05*(x_symb**2 + y_symb**2)*sin(0.02*x_symb**2 + 0.02*y_symb**2 + 2*atan2(x_symb, y_symb)) + 1)**2) - 1.02040816326531*(-0.2*x_symb*sin(0.02*x_symb**2 + 0.02*y_symb**2 + 2*atan2(x_symb, y_symb)) - 2*(0.04*x_symb + 2*y_symb/(x_symb**2 + y_symb**2))*(0.05*x_symb**2 + 0.05*y_symb**2)*cos(0.02*x_symb**2 + 0.02*y_symb**2 + 2*atan2(x_symb, y_symb)))*(-0.05*x_symb**2 - 0.05*y_symb**2 - 1)*exp(-1.02040816326531/(0.05*(x_symb**2 + y_symb**2)*sin(0.02*x_symb**2 + 0.02*y_symb**2 + 2*atan2(x_symb, y_symb)) + 1)**2)/(0.05*(x_symb**2 + y_symb**2)*sin(0.02*x_symb**2 + 0.02*y_symb**2 + 2*atan2(x_symb, y_symb)) + 1)**3"
      ]
     },
     "execution_count": 22,
     "metadata": {},
     "output_type": "execute_result"
    }
   ],
   "source": [
    "dx"
   ]
  },
  {
   "cell_type": "code",
   "execution_count": 23,
   "metadata": {},
   "outputs": [
    {
     "data": {
      "text/latex": [
       "$\\displaystyle - 0.1 y_{symb} e^{- \\frac{1.02040816326531}{\\left(0.05 \\left(x_{symb}^{2} + y_{symb}^{2}\\right) \\sin{\\left(0.02 x_{symb}^{2} + 0.02 y_{symb}^{2} + 2 \\operatorname{atan_{2}}{\\left(x_{symb},y_{symb} \\right)} \\right)} + 1\\right)^{2}}} - \\frac{1.02040816326531 \\left(- 0.2 y_{symb} \\sin{\\left(0.02 x_{symb}^{2} + 0.02 y_{symb}^{2} + 2 \\operatorname{atan_{2}}{\\left(x_{symb},y_{symb} \\right)} \\right)} - 2 \\left(0.05 x_{symb}^{2} + 0.05 y_{symb}^{2}\\right) \\left(- \\frac{2 x_{symb}}{x_{symb}^{2} + y_{symb}^{2}} + 0.04 y_{symb}\\right) \\cos{\\left(0.02 x_{symb}^{2} + 0.02 y_{symb}^{2} + 2 \\operatorname{atan_{2}}{\\left(x_{symb},y_{symb} \\right)} \\right)}\\right) \\left(- 0.05 x_{symb}^{2} - 0.05 y_{symb}^{2} - 1\\right) e^{- \\frac{1.02040816326531}{\\left(0.05 \\left(x_{symb}^{2} + y_{symb}^{2}\\right) \\sin{\\left(0.02 x_{symb}^{2} + 0.02 y_{symb}^{2} + 2 \\operatorname{atan_{2}}{\\left(x_{symb},y_{symb} \\right)} \\right)} + 1\\right)^{2}}}}{\\left(0.05 \\left(x_{symb}^{2} + y_{symb}^{2}\\right) \\sin{\\left(0.02 x_{symb}^{2} + 0.02 y_{symb}^{2} + 2 \\operatorname{atan_{2}}{\\left(x_{symb},y_{symb} \\right)} \\right)} + 1\\right)^{3}}$"
      ],
      "text/plain": [
       "-0.1*y_symb*exp(-1.02040816326531/(0.05*(x_symb**2 + y_symb**2)*sin(0.02*x_symb**2 + 0.02*y_symb**2 + 2*atan2(x_symb, y_symb)) + 1)**2) - 1.02040816326531*(-0.2*y_symb*sin(0.02*x_symb**2 + 0.02*y_symb**2 + 2*atan2(x_symb, y_symb)) - 2*(0.05*x_symb**2 + 0.05*y_symb**2)*(-2*x_symb/(x_symb**2 + y_symb**2) + 0.04*y_symb)*cos(0.02*x_symb**2 + 0.02*y_symb**2 + 2*atan2(x_symb, y_symb)))*(-0.05*x_symb**2 - 0.05*y_symb**2 - 1)*exp(-1.02040816326531/(0.05*(x_symb**2 + y_symb**2)*sin(0.02*x_symb**2 + 0.02*y_symb**2 + 2*atan2(x_symb, y_symb)) + 1)**2)/(0.05*(x_symb**2 + y_symb**2)*sin(0.02*x_symb**2 + 0.02*y_symb**2 + 2*atan2(x_symb, y_symb)) + 1)**3"
      ]
     },
     "execution_count": 23,
     "metadata": {},
     "output_type": "execute_result"
    }
   ],
   "source": [
    "dy"
   ]
  },
  {
   "cell_type": "code",
   "execution_count": 5,
   "metadata": {},
   "outputs": [
    {
     "data": {
      "text/latex": [
       "$\\displaystyle - \\left(0.05 x_{symb}^{2} + 0.05 y_{symb}^{2} + 1\\right) e^{- \\frac{1.02040816326531}{\\left(0.05 \\left(x_{symb}^{2} + y_{symb}^{2}\\right) \\sin{\\left(0.02 x_{symb}^{2} + 0.02 y_{symb}^{2} + 2 \\operatorname{atan_{2}}{\\left(x_{symb},y_{symb} \\right)} \\right)} + 1\\right)^{2}}}$"
      ],
      "text/plain": [
       "-(0.05*x_symb**2 + 0.05*y_symb**2 + 1)*exp(-1.02040816326531/(0.05*(x_symb**2 + y_symb**2)*sin(0.02*x_symb**2 + 0.02*y_symb**2 + 2*atan2(x_symb, y_symb)) + 1)**2)"
      ]
     },
     "execution_count": 5,
     "metadata": {},
     "output_type": "execute_result"
    }
   ],
   "source": [
    "potential_Spiral_symbolic"
   ]
  },
  {
   "cell_type": "code",
   "execution_count": 6,
   "metadata": {},
   "outputs": [
    {
     "data": {
      "text/plain": [
       "['__builtins__',\n",
       " '__cached__',\n",
       " '__doc__',\n",
       " '__file__',\n",
       " '__loader__',\n",
       " '__name__',\n",
       " '__package__',\n",
       " '__spec__',\n",
       " 'cm',\n",
       " 'generate_potential_2d_Zshape_numeric',\n",
       " 'generate_potential_2d_spirals_numeric',\n",
       " 'generate_potential_2d_spirals_symbolic',\n",
       " 'generate_trajectory_Langevin_from_symbolic_2D',\n",
       " 'np',\n",
       " 'plt',\n",
       " 'spy',\n",
       " 'stats',\n",
       " 'time',\n",
       " 'tqdm']"
      ]
     },
     "execution_count": 6,
     "metadata": {},
     "output_type": "execute_result"
    }
   ],
   "source": [
    "dir(gt2La)"
   ]
  },
  {
   "cell_type": "code",
   "execution_count": 7,
   "metadata": {},
   "outputs": [
    {
     "name": "stderr",
     "output_type": "stream",
     "text": [
      "  0%|          | 0/4999 [00:00<?, ?it/s]"
     ]
    },
    {
     "name": "stdout",
     "output_type": "stream",
     "text": [
      "{y_symb, x_symb}\n",
      "{y_symb, x_symb}\n",
      "part1: 0.00043702125549316406\n",
      "part2: 0.0006792545318603516\n",
      "part3: 0.0001289844512939453\n"
     ]
    },
    {
     "name": "stderr",
     "output_type": "stream",
     "text": [
      "100%|██████████| 4999/4999 [07:58<00:00, 10.44it/s]"
     ]
    },
    {
     "name": "stdout",
     "output_type": "stream",
     "text": [
      "part4: 478.94054102897644\n"
     ]
    },
    {
     "name": "stderr",
     "output_type": "stream",
     "text": [
      "\n"
     ]
    }
   ],
   "source": [
    "traj_test = gt2La.generate_trajectory_Langevin_from_symbolic_2D(potential_Spiral_symbolic, [0.1,0.1], 10, 0.25, 5000)"
   ]
  },
  {
   "cell_type": "code",
   "execution_count": 9,
   "metadata": {},
   "outputs": [],
   "source": [
    "#from generate_trajectory_Langevin_2D_from_symbolic import *\n",
    "from generate_potential_2d_spiral import *\n",
    "from generate_potential_2d_Zshape import *\n",
    "import numpy as np\n",
    "import scipy.stats as stats\n",
    "import matplotlib.pyplot as plt\n",
    "from matplotlib import cm\n",
    "from tqdm import tqdm\n",
    "import sympy as spy\n",
    "import time\n",
    "\n",
    "def generate_trajectory_Langevin_from_symbolic_2D(potential_symbolic,position_initial, friction,simul_lagtime,n_steps):\n",
    "    KbT = 0.5981 * (10 ** 5)\n",
    "\n",
    "    # Temp vars is not required since symbolic math would include them directly\n",
    "    # But it would be good to take a log as debugging propose \n",
    "    t1 = time.time()\n",
    "    temp_vars = potential_symbolic.free_symbols\n",
    "    print(temp_vars)\n",
    "    n_dim = len(temp_vars)\n",
    "    x_symb, y_symb = list(temp_vars) \n",
    "    print(temp_vars)\n",
    "    t2 = time.time()\n",
    "    print('part1:', t2-t1)\n",
    "    # Symbolic derivatives with respect to x and y\n",
    "    # x_symb and y_symb is includeded in the potential symbolic equations that passed into this function\n",
    "    t1 = time.time()\n",
    "    dpotsym_dx = potential_symbolic.diff(x_symb)\n",
    "    dpotsym_dy = potential_symbolic.diff(y_symb)    \n",
    "    t2 = time.time()\n",
    "    print('part2:', t2-t1)\n",
    "    #Initialize the traj container\n",
    "    t1 = time.time()\n",
    "    traj_langevin = np.zeros((n_dim, n_steps))\n",
    "    traj_langevin[:,0] = position_initial # Transfer indices from matlab to python: -1 each, start from 0\n",
    "    t2 = time.time()\n",
    "    print('part3:', t2 - t1)\n",
    "\n",
    "    t1 = time.time()\n",
    "    for step in tqdm(range(1,n_steps)):\n",
    "        x_symb_val = traj_langevin[0, step-1] # Update values of x_symb for current position\n",
    "        y_symb_val = traj_langevin[1, step-1]\n",
    "        subs_dict = {x_symb:x_symb_val,y_symb:y_symb_val}\n",
    "        drift = np.dot(-1,[dpotsym_dx.evalf(subs=subs_dict), dpotsym_dy.evalf(subs=subs_dict)])\n",
    "\n",
    "        traj_langevin[:, step] = traj_langevin[:, step-1] + drift * simul_lagtime/friction + np.dot(np.random.randn(2,),np.sqrt(simul_lagtime*KbT/friction))\n",
    "    t2 = time.time()\n",
    "    print('part4:', t2-t1)\n",
    "    return traj_langevin, dpotsym_dx, dpotsym_dx\n"
   ]
  },
  {
   "cell_type": "code",
   "execution_count": 25,
   "metadata": {},
   "outputs": [
    {
     "name": "stderr",
     "output_type": "stream",
     "text": [
      "  0%|          | 1/999 [00:00<01:50,  9.04it/s]"
     ]
    },
    {
     "name": "stdout",
     "output_type": "stream",
     "text": [
      "{y_symb, x_symb}\n",
      "{y_symb, x_symb}\n",
      "part1: 0.00039696693420410156\n",
      "part2: 0.0007081031799316406\n",
      "part3: 0.00014734268188476562\n"
     ]
    },
    {
     "name": "stderr",
     "output_type": "stream",
     "text": [
      "100%|██████████| 999/999 [02:22<00:00,  7.03it/s]"
     ]
    },
    {
     "name": "stdout",
     "output_type": "stream",
     "text": [
      "part4: 142.16887712478638\n"
     ]
    },
    {
     "name": "stderr",
     "output_type": "stream",
     "text": [
      "\n"
     ]
    }
   ],
   "source": [
    "traj_test = generate_trajectory_Langevin_from_symbolic_2D(potential_Spiral_symbolic, [0.1,0.1], 10, 0.01, 1000)"
   ]
  },
  {
   "cell_type": "code",
   "execution_count": 12,
   "metadata": {},
   "outputs": [
    {
     "data": {
      "text/plain": [
       "[<matplotlib.lines.Line2D at 0x7faf47dc1d90>]"
      ]
     },
     "execution_count": 12,
     "metadata": {},
     "output_type": "execute_result"
    },
    {
     "data": {
      "image/png": "[encoded data removed]",
      "text/plain": [
       "<Figure size 432x288 with 1 Axes>"
      ]
     },
     "metadata": {
      "needs_background": "light"
     },
     "output_type": "display_data"
    }
   ],
   "source": [
    "import matplotlib.pyplot as plt\n",
    "plt.plot(traj_test[0][0], traj_test[0][1])"
   ]
  },
  {
   "cell_type": "code",
   "execution_count": 19,
   "metadata": {},
   "outputs": [],
   "source": [
    "import numpy as np\n",
    "import scipy.stats as stats\n",
    "import matplotlib.pyplot as plt\n",
    "from matplotlib import cm\n",
    "from tqdm import tqdm\n",
    "import sympy as spy\n",
    "\n",
    "def generate_potential_2d_spirals_numeric(IN_n_states,IN_number_of_branches,flag_visualize):\n",
    "    \"\"\"\n",
    "    The spiral surface is a modification of the Anormal distribution, which is\n",
    "    a kind of generalization of the multivariate normal distribution\n",
    "\n",
    "    INPUT : \n",
    "    [IN_n_states] : array with integers giving the number of states is each dimension\n",
    "    (IN_n_states = [100,50] then x = linspace(x_min,x_max,n_states(1)) and y = linspace(x_min,x_max,n_states(2))\n",
    "    [IN_n_states] : array with integers giving the number of states is each\n",
    "    \"\"\"\n",
    "    x_min = -20\n",
    "    x_max = 20\n",
    "    y_min = -20\n",
    "    y_max = 20\n",
    "\n",
    "    x = np.linspace(x_min,x_max,IN_n_states[0])\n",
    "    y = np.linspace(y_min,y_max,IN_n_states[1])\n",
    "\n",
    "    # Hyper Parameters\n",
    "    sigma = 0.35 # Spiral\n",
    "    warping_coeff = 0.01\n",
    "    decrease_coeff = 0.05 # decrease how Potential decrease when we get further from center\n",
    "    sinus_to_distance_coeff = 0.1\n",
    "\n",
    "    # Instantiation\n",
    "    potential_numeric = np.zeros(IN_n_states)\n",
    "\n",
    "    # Run\n",
    "    n_petals = IN_number_of_branches\n",
    "    for x_id in tqdm(range(IN_n_states[0])):\n",
    "        for y_id in range(IN_n_states[1]):\n",
    "\n",
    "            # Transform coordinates from (x,y) to (angle,Distance)\n",
    "            angle = np.arctan2(x[x_id], y[y_id])\n",
    "            distance_squared = x[x_id]**2 + y[y_id]**2;  # BIG MODIFICATION\n",
    "            \n",
    "            # Use the chosen shape function\n",
    "            r = (np.sin((angle+warping_coeff*distance_squared)*n_petals)*sinus_to_distance_coeff*distance_squared+2)\n",
    "\n",
    "            # Apply the formula\n",
    "            potential_numeric[x_id,y_id] = -1*np.exp( -1/2*(1)/(sigma*r)**2)*(1+decrease_coeff*distance_squared)\n",
    "\n",
    "    potential_numeric = potential_numeric - np.min(potential_numeric[:]) # Shift so that minimum=0\n",
    "    #potential_numeric = potential_numeric/np.sum(potential_numeric[:]) # Normalize at the end because used non-normalized shape function r.\n",
    "\n",
    "    if flag_visualize:\n",
    "        x, y = np.meshgrid(x, y)\n",
    "        z = potential_numeric\n",
    "        fig = plt.figure()\n",
    "        ax = plt.axes(projection='3d')\n",
    "\n",
    "        surf = ax.plot_surface(x,y,z,cmap=cm.coolwarm,\\\n",
    "                            linewidth=0, antialiased=False)\n",
    "        ax.set_xlabel('x')\n",
    "        ax.set_ylabel('y')\n",
    "        ax.set_zlabel('z')\n",
    "\n",
    "        fig.colorbar(surf, shrink=0.5, aspect=5)\n",
    "        \n",
    "    return x, y, potential_numeric\n",
    "\n",
    "\n",
    "def generate_potential_2d_spirals_symbolic(IN_n_states,IN_number_of_branches,flag_visualize, flag_puresymbolic=False):\n",
    "    # Sympy\n",
    "\n",
    "    x_min = -20\n",
    "    x_max = 20\n",
    "    y_min = -20\n",
    "    y_max = 20\n",
    "\n",
    "    x = np.linspace(x_min,x_max,IN_n_states[0])\n",
    "    y = np.linspace(y_min,y_max,IN_n_states[1])\n",
    "\n",
    "    # Hyper Parameters\n",
    "    sigma = 0.35 # Spiral\n",
    "    warping_coeff = 0.01\n",
    "    decrease_coeff = 0.05 # decrease how Potential decrease when we get further from center\n",
    "    sinus_to_distance_coeff = 0.1\n",
    "\n",
    "    # Instantiation\n",
    "    potential_symbolic_value = np.zeros(IN_n_states)\n",
    "    n_petals = IN_number_of_branches\n",
    "\n",
    "    #--Symbolic Version of the potential--#\n",
    "    # Requires Sympy\n",
    "\n",
    "    # Symbolic variables for symbolic expression of the potential\n",
    "    x_symb, y_symb = spy.symbols('x_symb, y_symb', real=True)\n",
    "\n",
    "    # Transform coordinates from (x, y) to (angle, Distance)\n",
    "    angle_symb = spy.atan2(x_symb, y_symb)\n",
    "    distance_squared_symb = x_symb ** 2 + y_symb ** 2\n",
    "\n",
    "    # Use the chosen shape function\n",
    "    r_symb = (spy.sin((angle_symb + warping_coeff * distance_squared_symb) * n_petals) * sinus_to_distance_coeff * distance_squared_symb + 2)\n",
    "\n",
    "    # Apply the formula\n",
    "    # Const to multi\n",
    "    mul = -1000\n",
    "    potential_symbolic = mul*spy.exp( -1/2*(1)/(sigma*r_symb)**2)*(1+decrease_coeff*distance_squared_symb)\n",
    "\n",
    "    # Symbolic derivatives with respect to x and y\n",
    "    dpotsym_dx = potential_symbolic.diff(x_symb)\n",
    "    dpotsym_dy = potential_symbolic.diff(y_symb)\n",
    "    if flag_puresymbolic:\n",
    "        return potential_symbolic, dpotsym_dx, dpotsym_dy\n",
    "    # Compute the expression over our discrete set of bins for checking purposes\n",
    "    # x = np.linspace(x_min, x_max, IN_n_states[0])\n",
    "    # y = np.linspace(y_min, y_max, IN_n_states[1])\n",
    "\n",
    "    for x_id in tqdm(range(IN_n_states[0])):\n",
    "        for y_id in range(IN_n_states[1]):\n",
    "            potential_symbolic_value[x_id, y_id] = potential_symbolic.evalf(subs={x_symb:x[x_id], y_symb:y[y_id]})\n",
    "            # worker <- paralleled \n",
    "\n",
    "    potential_symbolic_value = potential_symbolic_value - np.min(potential_symbolic_value[:]) # Shift so that minimum=0\n",
    "    #potential_symbolic_value = potential_symbolic_value/np.sum(potential_symbolic_value[:]) # Normalize at the end because used non-normalized shape function r.\n",
    "    \n",
    "    if flag_visualize:\n",
    "        x, y = np.meshgrid(x, y)\n",
    "        z = potential_symbolic_value\n",
    "        fig = plt.figure()\n",
    "        ax = plt.axes(projection='3d')\n",
    "\n",
    "        surf = ax.plot_surface(x,y,z,cmap=cm.coolwarm,\\\n",
    "                            linewidth=0, antialiased=False)\n",
    "        ax.set_xlabel('x')\n",
    "        ax.set_ylabel('y')\n",
    "        ax.set_zlabel('z')\n",
    "\n",
    "        fig.colorbar(surf, shrink=0.5, aspect=5)\n",
    "\n",
    "    return x, y, potential_symbolic_value, potential_symbolic\n"
   ]
  },
  {
   "cell_type": "code",
   "execution_count": 20,
   "metadata": {},
   "outputs": [
    {
     "name": "stderr",
     "output_type": "stream",
     "text": [
      "100%|██████████| 100/100 [00:00<00:00, 1308.81it/s]\n"
     ]
    },
    {
     "data": {
      "text/plain": [
       "(array([[-20.        , -19.5959596 , -19.19191919, ...,  19.19191919,\n",
       "          19.5959596 ,  20.        ],\n",
       "        [-20.        , -19.5959596 , -19.19191919, ...,  19.19191919,\n",
       "          19.5959596 ,  20.        ],\n",
       "        [-20.        , -19.5959596 , -19.19191919, ...,  19.19191919,\n",
       "          19.5959596 ,  20.        ],\n",
       "        ...,\n",
       "        [-20.        , -19.5959596 , -19.19191919, ...,  19.19191919,\n",
       "          19.5959596 ,  20.        ],\n",
       "        [-20.        , -19.5959596 , -19.19191919, ...,  19.19191919,\n",
       "          19.5959596 ,  20.        ],\n",
       "        [-20.        , -19.5959596 , -19.19191919, ...,  19.19191919,\n",
       "          19.5959596 ,  20.        ]]),\n",
       " array([[-20.        , -20.        , -20.        , ..., -20.        ,\n",
       "         -20.        , -20.        ],\n",
       "        [-19.5959596 , -19.5959596 , -19.5959596 , ..., -19.5959596 ,\n",
       "         -19.5959596 , -19.5959596 ],\n",
       "        [-19.19191919, -19.19191919, -19.19191919, ..., -19.19191919,\n",
       "         -19.19191919, -19.19191919],\n",
       "        ...,\n",
       "        [ 19.19191919,  19.19191919,  19.19191919, ...,  19.19191919,\n",
       "          19.19191919,  19.19191919],\n",
       "        [ 19.5959596 ,  19.5959596 ,  19.5959596 , ...,  19.5959596 ,\n",
       "          19.5959596 ,  19.5959596 ],\n",
       "        [ 20.        ,  20.        ,  20.        , ...,  20.        ,\n",
       "          20.        ,  20.        ]]),\n",
       " array([[2.97916098e-03, 8.00950919e-01, 1.58798924e+00, ...,\n",
       "         1.58639228e+00, 7.98281483e-01, 0.00000000e+00],\n",
       "        [8.01016750e-01, 1.60538692e+00, 2.40267172e+00, ...,\n",
       "         2.39954601e+00, 1.60196595e+00, 7.98224998e-01],\n",
       "        [1.58994920e+00, 2.40588521e+00, 3.23953563e+00, ...,\n",
       "         3.22202633e+00, 2.39692068e+00, 1.58473192e+00],\n",
       "        ...,\n",
       "        [1.58473192e+00, 2.39692068e+00, 3.22202633e+00, ...,\n",
       "         3.23953563e+00, 2.40588521e+00, 1.58994920e+00],\n",
       "        [7.98224998e-01, 1.60196595e+00, 2.39954601e+00, ...,\n",
       "         2.40267172e+00, 1.60538692e+00, 8.01016750e-01],\n",
       "        [0.00000000e+00, 7.98281483e-01, 1.58639228e+00, ...,\n",
       "         1.58798924e+00, 8.00950919e-01, 2.97916098e-03]]))"
      ]
     },
     "execution_count": 20,
     "metadata": {},
     "output_type": "execute_result"
    }
   ],
   "source": [
    "%matplotlib qt\n",
    "generate_potential_2d_spirals_numeric(IN_n_states=[100,100],IN_number_of_branches=2,flag_visualize=True)"
   ]
  },
  {
   "cell_type": "code",
   "execution_count": 24,
   "metadata": {},
   "outputs": [
    {
     "data": {
      "text/latex": [
       "$\\displaystyle - \\frac{\\left(0.1 x_{symb} \\left(0.05 \\left(x_{symb}^{2} + y_{symb}^{2}\\right) \\sin{\\left(0.02 x_{symb}^{2} + 0.02 y_{symb}^{2} + 2 \\operatorname{atan_{2}}{\\left(x_{symb},y_{symb} \\right)} \\right)} + 1\\right)^{3} + \\left(0.2 x_{symb} \\sin{\\left(0.02 x_{symb}^{2} + 0.02 y_{symb}^{2} + 2 \\operatorname{atan_{2}}{\\left(x_{symb},y_{symb} \\right)} \\right)} + \\left(0.004 x_{symb} \\left(x_{symb}^{2} + y_{symb}^{2}\\right) + 0.2 y_{symb}\\right) \\cos{\\left(0.02 x_{symb}^{2} + 0.02 y_{symb}^{2} + 2 \\operatorname{atan_{2}}{\\left(x_{symb},y_{symb} \\right)} \\right)}\\right) \\left(0.0510204081632653 x_{symb}^{2} + 0.0510204081632653 y_{symb}^{2} + 1.02040816326531\\right)\\right) e^{- \\frac{1.02040816326531}{\\left(0.05 \\left(x_{symb}^{2} + y_{symb}^{2}\\right) \\sin{\\left(0.02 x_{symb}^{2} + 0.02 y_{symb}^{2} + 2 \\operatorname{atan_{2}}{\\left(x_{symb},y_{symb} \\right)} \\right)} + 1\\right)^{2}}}}{\\left(0.05 \\left(x_{symb}^{2} + y_{symb}^{2}\\right) \\sin{\\left(0.02 x_{symb}^{2} + 0.02 y_{symb}^{2} + 2 \\operatorname{atan_{2}}{\\left(x_{symb},y_{symb} \\right)} \\right)} + 1\\right)^{3}}$"
      ],
      "text/plain": [
       "-(0.1*x_symb*(0.05*(x_symb**2 + y_symb**2)*sin(0.02*x_symb**2 + 0.02*y_symb**2 + 2*atan2(x_symb, y_symb)) + 1)**3 + (0.2*x_symb*sin(0.02*x_symb**2 + 0.02*y_symb**2 + 2*atan2(x_symb, y_symb)) + (0.004*x_symb*(x_symb**2 + y_symb**2) + 0.2*y_symb)*cos(0.02*x_symb**2 + 0.02*y_symb**2 + 2*atan2(x_symb, y_symb)))*(0.0510204081632653*x_symb**2 + 0.0510204081632653*y_symb**2 + 1.02040816326531))*exp(-1.02040816326531/(0.05*(x_symb**2 + y_symb**2)*sin(0.02*x_symb**2 + 0.02*y_symb**2 + 2*atan2(x_symb, y_symb)) + 1)**2)/(0.05*(x_symb**2 + y_symb**2)*sin(0.02*x_symb**2 + 0.02*y_symb**2 + 2*atan2(x_symb, y_symb)) + 1)**3"
      ]
     },
     "execution_count": 24,
     "metadata": {},
     "output_type": "execute_result"
    }
   ],
   "source": [
    "spy.simplify(dx)"
   ]
  },
  {
   "cell_type": "code",
   "execution_count": 26,
   "metadata": {},
   "outputs": [
    {
     "data": {
      "text/latex": [
       "$\\displaystyle - \\frac{\\left(0.1 y_{symb} \\left(0.05 \\left(x_{symb}^{2} + y_{symb}^{2}\\right) \\sin{\\left(0.02 x_{symb}^{2} + 0.02 y_{symb}^{2} + 2 \\operatorname{atan_{2}}{\\left(x_{symb},y_{symb} \\right)} \\right)} + 1\\right)^{3} + \\left(0.2 y_{symb} \\sin{\\left(0.02 x_{symb}^{2} + 0.02 y_{symb}^{2} + 2 \\operatorname{atan_{2}}{\\left(x_{symb},y_{symb} \\right)} \\right)} - \\left(0.2 x_{symb} - 0.004 y_{symb} \\left(x_{symb}^{2} + y_{symb}^{2}\\right)\\right) \\cos{\\left(0.02 x_{symb}^{2} + 0.02 y_{symb}^{2} + 2 \\operatorname{atan_{2}}{\\left(x_{symb},y_{symb} \\right)} \\right)}\\right) \\left(0.0510204081632653 x_{symb}^{2} + 0.0510204081632653 y_{symb}^{2} + 1.02040816326531\\right)\\right) e^{- \\frac{1.02040816326531}{\\left(0.05 \\left(x_{symb}^{2} + y_{symb}^{2}\\right) \\sin{\\left(0.02 x_{symb}^{2} + 0.02 y_{symb}^{2} + 2 \\operatorname{atan_{2}}{\\left(x_{symb},y_{symb} \\right)} \\right)} + 1\\right)^{2}}}}{\\left(0.05 \\left(x_{symb}^{2} + y_{symb}^{2}\\right) \\sin{\\left(0.02 x_{symb}^{2} + 0.02 y_{symb}^{2} + 2 \\operatorname{atan_{2}}{\\left(x_{symb},y_{symb} \\right)} \\right)} + 1\\right)^{3}}$"
      ],
      "text/plain": [
       "-(0.1*y_symb*(0.05*(x_symb**2 + y_symb**2)*sin(0.02*x_symb**2 + 0.02*y_symb**2 + 2*atan2(x_symb, y_symb)) + 1)**3 + (0.2*y_symb*sin(0.02*x_symb**2 + 0.02*y_symb**2 + 2*atan2(x_symb, y_symb)) - (0.2*x_symb - 0.004*y_symb*(x_symb**2 + y_symb**2))*cos(0.02*x_symb**2 + 0.02*y_symb**2 + 2*atan2(x_symb, y_symb)))*(0.0510204081632653*x_symb**2 + 0.0510204081632653*y_symb**2 + 1.02040816326531))*exp(-1.02040816326531/(0.05*(x_symb**2 + y_symb**2)*sin(0.02*x_symb**2 + 0.02*y_symb**2 + 2*atan2(x_symb, y_symb)) + 1)**2)/(0.05*(x_symb**2 + y_symb**2)*sin(0.02*x_symb**2 + 0.02*y_symb**2 + 2*atan2(x_symb, y_symb)) + 1)**3"
      ]
     },
     "execution_count": 26,
     "metadata": {},
     "output_type": "execute_result"
    }
   ],
   "source": [
    "spy.simplify(dy)"
   ]
  },
  {
   "cell_type": "code",
   "execution_count": 29,
   "metadata": {},
   "outputs": [
    {
     "name": "stderr",
     "output_type": "stream",
     "text": [
      "  0%|          | 2/9999 [00:00<12:47, 13.02it/s]"
     ]
    },
    {
     "name": "stdout",
     "output_type": "stream",
     "text": [
      "{y_symb, x_symb}\n",
      "{y_symb, x_symb}\n",
      "part1: 0.0002510547637939453\n",
      "part2: 0.0007688999176025391\n",
      "part3: 0.0003230571746826172\n"
     ]
    },
    {
     "name": "stderr",
     "output_type": "stream",
     "text": [
      "100%|██████████| 9999/9999 [11:39<00:00, 14.30it/s]"
     ]
    },
    {
     "name": "stdout",
     "output_type": "stream",
     "text": [
      "part4: 699.1300070285797\n",
      "单线程计算 共消耗: 699.14 秒\n"
     ]
    },
    {
     "name": "stderr",
     "output_type": "stream",
     "text": [
      "\n"
     ]
    }
   ],
   "source": [
    "import sys\n",
    "sys.path.append('../')\n",
    "import multiprocessing as mp\n",
    "import math\n",
    "import datetime\n",
    "import generate_potential_2d_spiral as gp2Sp\n",
    "import generate_potential_2d_Zshape as gp2Zs\n",
    "import generate_trajectory_Langevin_2D_from_symbolic as gt2La\n",
    "import sympy as spy\n",
    "\n",
    "start_t = datetime.datetime.now()\n",
    "potential_spiral, _, _ = gp2Sp.generate_potential_2d_spirals_symbolic(IN_n_states=[100,100],IN_number_of_branches=1,flag_visualize=False, flag_puresymbolic=True)\n",
    "traj, _, _ = gt2La.generate_trajectory_Langevin_from_symbolic_2D(potential_symbolic=potential_spiral,position_initial=[0.01,0.01], friction=10,simul_lagtime=0.1,n_steps=10000)\n",
    "end_t = datetime.datetime.now()\n",
    "elapsed_sec = (end_t - start_t).total_seconds()\n",
    "print(\"单线程计算 共消耗: \" + \"{:.2f}\".format(elapsed_sec) + \" 秒\")"
   ]
  },
  {
   "cell_type": "code",
   "execution_count": 34,
   "metadata": {},
   "outputs": [
    {
     "data": {
      "text/plain": [
       "[<matplotlib.lines.Line2D at 0x7faf46945f10>]"
      ]
     },
     "execution_count": 34,
     "metadata": {},
     "output_type": "execute_result"
    },
    {
     "data": {
      "image/png": "[encoded data removed]",
      "text/plain": [
       "<Figure size 432x288 with 1 Axes>"
      ]
     },
     "metadata": {
      "needs_background": "light"
     },
     "output_type": "display_data"
    }
   ],
   "source": [
    "import matplotlib.pyplot as plt\n",
    "%matplotlib inline\n",
    "plt.plot(traj[0], traj[1])"
   ]
  },
  {
   "cell_type": "code",
   "execution_count": 33,
   "metadata": {},
   "outputs": [
    {
     "data": {
      "text/plain": [
       "(2, 10000)"
      ]
     },
     "execution_count": 33,
     "metadata": {},
     "output_type": "execute_result"
    }
   ],
   "source": [
    "traj.shape"
   ]
  },
  {
   "cell_type": "code",
   "execution_count": 35,
   "metadata": {},
   "outputs": [
    {
     "name": "stdout",
     "output_type": "stream",
     "text": [
      "[[ 1.00000000e-02  9.74156644e-02  6.70702679e-02 ... -7.89732439e+00\n",
      "  -7.82603136e+00 -7.64522662e+00]\n",
      " [ 1.00000000e-02  7.77516029e-02  1.31052247e-01 ...  1.84387224e+01\n",
      "   1.83557248e+01  1.83251725e+01]]\n"
     ]
    }
   ],
   "source": [
    "print(traj)"
   ]
  },
  {
   "cell_type": "code",
   "execution_count": 36,
   "metadata": {},
   "outputs": [
    {
     "name": "stderr",
     "output_type": "stream",
     "text": [
      "  2%|▏         | 2/99 [00:00<00:06, 14.32it/s]"
     ]
    },
    {
     "name": "stdout",
     "output_type": "stream",
     "text": [
      "{y_symb, x_symb}\n",
      "{y_symb, x_symb}\n",
      "part1: 0.0002467632293701172\n",
      "part2: 0.00066375732421875\n",
      "part3: 1.5735626220703125e-05\n"
     ]
    },
    {
     "name": "stderr",
     "output_type": "stream",
     "text": [
      "100%|██████████| 99/99 [00:06<00:00, 15.21it/s]"
     ]
    },
    {
     "name": "stdout",
     "output_type": "stream",
     "text": [
      "part4: 6.512383937835693\n",
      "单线程计算 共消耗: 6.53 秒\n",
      "[[ 1.00000000e-02 -6.10813920e-02 -9.32659378e-02 -9.31455146e-02\n",
      "  -3.18947875e-02  2.67497780e-02  5.56282575e-02  6.39974809e-02\n",
      "   1.34640295e-01  6.76947360e-02  1.23804812e-01  1.78088674e-02\n",
      "  -1.36672570e-02  6.95117737e-02 -3.44542695e-02 -6.57360204e-02\n",
      "   4.66092733e-05 -2.18749998e-03  1.30951335e-01  5.49800968e-02\n",
      "   1.72733155e-02 -7.15750759e-02 -4.20689915e-02 -8.05531974e-02\n",
      "   6.79523356e-02  1.60122821e-01  1.68529330e-01  3.66611621e-02\n",
      "   7.35973201e-02  4.27711521e-02  5.40529369e-02  7.17324629e-02\n",
      "  -6.50930163e-03 -2.25936679e-02 -7.49378549e-02  2.37868790e-02\n",
      "  -5.72223831e-02  4.92467674e-02 -1.24085601e-01  5.72306329e-02\n",
      "   4.85652093e-02  5.59120945e-02  1.60739104e-01  1.37549571e-01\n",
      "   1.50267735e-01  1.02904637e-01  1.22727384e-01  1.83823546e-01\n",
      "   1.88187897e-01  1.42954352e-01  1.28433469e-01 -9.80956384e-03\n",
      "   8.82463353e-02  1.08540952e-01  2.51569236e-01  2.29643457e-01\n",
      "   5.42315207e-02 -5.28410503e-02  3.14341878e-02  1.11576025e-01\n",
      "   7.74407329e-02  2.18290074e-02 -8.27757469e-02 -9.00108352e-02\n",
      "  -8.92686303e-02 -7.25547735e-02 -1.57911641e-01 -2.30972942e-01\n",
      "  -2.13405463e-01 -1.59306914e-01 -1.76823035e-01 -1.96008052e-01\n",
      "  -2.86694484e-02 -6.93019857e-02 -1.67291017e-02  2.35030060e-02\n",
      "   3.85443902e-02  1.48350896e-02 -1.62628280e-01 -1.91217072e-02\n",
      "   9.52115292e-02 -2.06569474e-02  4.01497056e-02 -1.08409330e-01\n",
      "  -1.40103587e-01 -7.78957424e-02 -1.46682725e-02 -2.89502052e-02\n",
      "  -8.28592388e-02 -8.91693049e-02 -3.59245755e-02 -9.85821845e-02\n",
      "  -1.49588032e-01 -1.93583836e-01 -1.84764334e-01 -1.56336134e-01\n",
      "  -1.98961721e-01 -1.65269046e-01 -3.39941958e-01 -4.80229659e-01]\n",
      " [ 1.00000000e-02  5.35485885e-02  6.86757632e-03 -2.34905470e-02\n",
      "  -9.28624709e-02 -1.38510839e-01 -1.25375851e-01 -2.30681340e-01\n",
      "  -2.38772846e-01 -2.66396606e-01 -2.41512534e-01 -2.49924869e-01\n",
      "  -3.21275397e-01 -4.00194213e-01 -5.11815468e-01 -4.17947200e-01\n",
      "  -4.80005411e-01 -5.04866791e-01 -4.52351939e-01 -3.31062270e-01\n",
      "  -3.16073209e-01 -3.10200048e-01 -1.51122513e-01 -1.71749809e-01\n",
      "  -1.17065443e-01 -1.13463735e-01 -1.46940808e-01  5.56559972e-02\n",
      "   5.76145271e-02 -9.84311982e-03 -1.01677901e-01 -1.32892217e-01\n",
      "  -8.96394303e-02 -1.52764179e-01 -2.62234467e-01 -3.31218174e-01\n",
      "  -3.35431901e-01 -3.23944287e-01 -3.33126650e-01 -1.45974432e-01\n",
      "  -7.12502974e-02 -8.17918095e-02 -2.58449765e-02  1.22207138e-01\n",
      "   6.84614297e-02  2.35839826e-04  1.87000534e-01  1.84035122e-01\n",
      "   2.52456573e-01  2.61013330e-01  3.94669862e-01  4.12118987e-01\n",
      "   4.31099301e-01  5.09909402e-01  5.70705145e-01  4.60159896e-01\n",
      "   5.59316181e-01  6.23897432e-01  5.10241268e-01  5.30351231e-01\n",
      "   5.16054503e-01  5.08957473e-01  3.95032642e-01  3.44661613e-01\n",
      "   3.07311422e-01  3.51226540e-01  3.65941142e-01  2.09442483e-01\n",
      "   2.99078774e-01  3.08530844e-01  2.97896456e-01  1.56570792e-01\n",
      "   1.58758245e-01  2.26761216e-01 -4.39894249e-02 -2.15533138e-02\n",
      "   6.27957040e-02  4.37593802e-02 -1.08055879e-01 -5.00833074e-02\n",
      "  -4.78593462e-02 -5.72292342e-02 -1.06883895e-01 -5.75445993e-02\n",
      "  -3.72440510e-03 -1.43424266e-02  8.26282880e-02  3.69340549e-02\n",
      "   3.65830992e-02  1.86070351e-02 -7.04774797e-02  5.99676146e-02\n",
      "   2.06032910e-02 -5.11777223e-02 -9.62185379e-02 -6.12514751e-02\n",
      "  -7.38487200e-02 -5.09679946e-02  6.18781342e-02 -2.28272094e-02]]\n"
     ]
    },
    {
     "name": "stderr",
     "output_type": "stream",
     "text": [
      "\n"
     ]
    },
    {
     "data": {
      "image/png": "[encoded data removed]",
      "text/plain": [
       "<Figure size 432x288 with 1 Axes>"
      ]
     },
     "metadata": {
      "needs_background": "light"
     },
     "output_type": "display_data"
    }
   ],
   "source": [
    "import sys\n",
    "sys.path.append('../')\n",
    "import multiprocessing as mp\n",
    "import math\n",
    "import datetime\n",
    "import generate_potential_2d_spiral as gp2Sp\n",
    "import generate_potential_2d_Zshape as gp2Zs\n",
    "import generate_trajectory_Langevin_2D_from_symbolic as gt2La\n",
    "import sympy as spy\n",
    "import matplotlib.pyplot as plt\n",
    "\n",
    "if __name__ == '__main__':\n",
    "    start_t = datetime.datetime.now()\n",
    "    potential_spiral, _, _ = gp2Sp.generate_potential_2d_spirals_symbolic(IN_n_states=[100,100],IN_number_of_branches=1,flag_visualize=False, flag_puresymbolic=True)\n",
    "    traj, _, _ = gt2La.generate_trajectory_Langevin_from_symbolic_2D(potential_symbolic=potential_spiral,position_initial=[0.01,0.01], friction=10,simul_lagtime=0.1,n_steps=100)\n",
    "    end_t = datetime.datetime.now()\n",
    "    elapsed_sec = (end_t - start_t).total_seconds()\n",
    "    print(\"单线程计算 共消耗: \" + \"{:.2f}\".format(elapsed_sec) + \" 秒\")\n",
    "    print(traj)\n",
    "    plt.plot(traj[0], traj[1])\n",
    "    plt.show()"
   ]
  },
  {
   "cell_type": "code",
   "execution_count": 39,
   "metadata": {},
   "outputs": [
    {
     "name": "stderr",
     "output_type": "stream",
     "text": [
      "  2%|▏         | 2/99 [00:00<00:06, 16.07it/s]"
     ]
    },
    {
     "name": "stdout",
     "output_type": "stream",
     "text": [
      "{y_symb, x_symb}\n",
      "{y_symb, x_symb}\n",
      "part1: 0.0003077983856201172\n",
      "part2: 0.0008282661437988281\n",
      "part3: 5.0067901611328125e-05\n"
     ]
    },
    {
     "name": "stderr",
     "output_type": "stream",
     "text": [
      "100%|██████████| 99/99 [00:06<00:00, 15.28it/s]\n"
     ]
    },
    {
     "name": "stdout",
     "output_type": "stream",
     "text": [
      "part4: 6.4821929931640625\n",
      "单线程计算 共消耗: 6.49 秒\n",
      "[[ 0.01        0.03029815 -0.00179504 -0.04781558  0.08183964  0.14920904\n",
      "   0.1746423   0.05662999  0.05769487  0.09950418  0.02482129 -0.00498338\n",
      "  -0.06229677 -0.06217775 -0.12658094 -0.18932553 -0.02972806 -0.07092774\n",
      "  -0.02417714 -0.09758872 -0.1612663  -0.26017978 -0.23092174 -0.21987421\n",
      "  -0.18492786 -0.19529779 -0.22310575 -0.21505931 -0.20637181 -0.2321091\n",
      "  -0.32434844 -0.19145183 -0.34779376 -0.36006665 -0.34249352 -0.31668844\n",
      "  -0.39286582 -0.27642379 -0.32462713 -0.30256798 -0.23109585 -0.26346749\n",
      "  -0.23375355 -0.34680685 -0.31368083 -0.48688591 -0.54801809 -0.5994459\n",
      "  -0.72464546 -0.76514903 -0.77566999 -0.80179541 -0.79118396 -0.81192847\n",
      "  -0.87445323 -0.92467703 -0.98525939 -1.07489762 -1.01177176 -0.97934057\n",
      "  -0.94490871 -0.91899322 -0.78459139 -0.73345835 -0.56137071 -0.55450861\n",
      "  -0.68267634 -0.73664166 -0.72875994 -0.66629805 -0.61577966 -0.72425428\n",
      "  -0.72194185 -0.61758297 -0.56926706 -0.64571838 -0.71581496 -0.69705977\n",
      "  -0.84847253 -0.92945612 -0.87100791 -0.80073761 -0.83564408 -0.75224588\n",
      "  -0.70064598 -0.69723826 -0.71769607 -0.65529487 -0.71437007 -0.84989398\n",
      "  -0.89835869 -0.85035885 -0.84375973 -0.79323437 -0.89103435 -0.87108995\n",
      "  -0.90774677 -0.81793861 -0.90774943 -1.0332074 ]\n",
      " [ 0.01        0.05001905  0.12083138  0.01737782 -0.13465996 -0.12223453\n",
      "  -0.1186082  -0.15904021 -0.18150224 -0.28307331 -0.22509376 -0.1869241\n",
      "  -0.29674041 -0.289309   -0.23661084 -0.24276974 -0.29898634 -0.32974442\n",
      "  -0.32538185 -0.28706943 -0.40475009 -0.38033711 -0.44276531 -0.51601217\n",
      "  -0.44937002 -0.42419286 -0.33970307 -0.37591454 -0.38435555 -0.36976443\n",
      "  -0.27645525 -0.21923533 -0.28164192 -0.33432685 -0.26837131 -0.22557926\n",
      "  -0.17630901 -0.12550593 -0.08778692 -0.09934988 -0.05225004 -0.20506255\n",
      "  -0.11048918 -0.13512222 -0.19589306 -0.26512535 -0.27719483 -0.33723081\n",
      "  -0.32655568 -0.29161156 -0.23549764 -0.0729335  -0.00916621  0.09200247\n",
      "   0.14988529  0.10756667  0.12000182  0.05097354 -0.0143909   0.10427793\n",
      "   0.11240484  0.06074901  0.09202352  0.08353617 -0.041839   -0.00600503\n",
      "  -0.14441912 -0.15785035 -0.2670827  -0.36540879 -0.4049941  -0.3262848\n",
      "  -0.22102404 -0.30413611 -0.18459919 -0.14382538 -0.00564055 -0.07788798\n",
      "  -0.15633515  0.02752695 -0.03616608 -0.04235936 -0.02347912  0.00370275\n",
      "   0.00637197  0.08486368  0.02648709  0.10773227 -0.0834858  -0.0258552\n",
      "   0.08480956  0.08924376  0.16233552  0.27094415  0.26086067  0.26875118\n",
      "   0.28086973  0.30914733  0.39752583  0.28811622]]\n"
     ]
    },
    {
     "data": {
      "image/png": "[encoded data removed]",
      "text/plain": [
       "<Figure size 432x288 with 1 Axes>"
      ]
     },
     "metadata": {
      "needs_background": "light"
     },
     "output_type": "display_data"
    },
    {
     "ename": "AttributeError",
     "evalue": "module 'matplotlib.pyplot' has no attribute 'save'",
     "output_type": "error",
     "traceback": [
      "\u001b[0;31m---------------------------------------------------------------------------\u001b[0m",
      "\u001b[0;31mAttributeError\u001b[0m                            Traceback (most recent call last)",
      "\u001b[0;32m<ipython-input-39-cebcfd570b26>\u001b[0m in \u001b[0;36m<module>\u001b[0;34m\u001b[0m\n\u001b[1;32m      1\u001b[0m \u001b[0;32mfrom\u001b[0m \u001b[0mtest_accuracy\u001b[0m \u001b[0;32mimport\u001b[0m \u001b[0mtest_main\u001b[0m\u001b[0;34m\u001b[0m\u001b[0;34m\u001b[0m\u001b[0m\n\u001b[1;32m      2\u001b[0m \u001b[0;34m\u001b[0m\u001b[0m\n\u001b[0;32m----> 3\u001b[0;31m \u001b[0mserial\u001b[0m\u001b[0;34m,\u001b[0m \u001b[0mparallel\u001b[0m \u001b[0;34m=\u001b[0m \u001b[0mtest_main\u001b[0m\u001b[0;34m(\u001b[0m\u001b[0;34m)\u001b[0m\u001b[0;34m\u001b[0m\u001b[0;34m\u001b[0m\u001b[0m\n\u001b[0m",
      "\u001b[0;32m~/Desktop/ucl research/matlab2py/test_accuracy.py\u001b[0m in \u001b[0;36mtest_main\u001b[0;34m()\u001b[0m\n\u001b[1;32m     19\u001b[0m \u001b[0;34m\u001b[0m\u001b[0m\n\u001b[1;32m     20\u001b[0m         \u001b[0mtraj\u001b[0m\u001b[0;34m,\u001b[0m \u001b[0m_\u001b[0m\u001b[0;34m,\u001b[0m \u001b[0m_\u001b[0m \u001b[0;34m=\u001b[0m \u001b[0mgt2La\u001b[0m\u001b[0;34m.\u001b[0m\u001b[0mgenerate_trajectory_Langevin_from_symbolic_2D\u001b[0m\u001b[0;34m(\u001b[0m\u001b[0mpotential_symbolic\u001b[0m\u001b[0;34m=\u001b[0m\u001b[0mpotential_spiral\u001b[0m\u001b[0;34m,\u001b[0m\u001b[0mposition_initial\u001b[0m\u001b[0;34m=\u001b[0m\u001b[0;34m[\u001b[0m\u001b[0;36m0.01\u001b[0m\u001b[0;34m,\u001b[0m\u001b[0;36m0.01\u001b[0m\u001b[0;34m]\u001b[0m\u001b[0;34m,\u001b[0m \u001b[0mfriction\u001b[0m\u001b[0;34m=\u001b[0m\u001b[0;36m10\u001b[0m\u001b[0;34m,\u001b[0m\u001b[0msimul_lagtime\u001b[0m\u001b[0;34m=\u001b[0m\u001b[0;36m0.1\u001b[0m\u001b[0;34m,\u001b[0m\u001b[0mn_steps\u001b[0m\u001b[0;34m=\u001b[0m\u001b[0;36m100\u001b[0m\u001b[0;34m)\u001b[0m\u001b[0;34m\u001b[0m\u001b[0;34m\u001b[0m\u001b[0m\n\u001b[0;32m---> 21\u001b[0;31m         \u001b[0mresult_s\u001b[0m\u001b[0;34m.\u001b[0m\u001b[0mappend\u001b[0m\u001b[0;34m(\u001b[0m\u001b[0;34m{\u001b[0m\u001b[0mi\u001b[0m\u001b[0;34m:\u001b[0m\u001b[0mtraj\u001b[0m\u001b[0;34m}\u001b[0m\u001b[0;34m)\u001b[0m\u001b[0;34m\u001b[0m\u001b[0;34m\u001b[0m\u001b[0m\n\u001b[0m\u001b[1;32m     22\u001b[0m         \u001b[0mresults_s\u001b[0m \u001b[0;34m=\u001b[0m \u001b[0;34m[\u001b[0m\u001b[0mp\u001b[0m\u001b[0;34m.\u001b[0m\u001b[0mget\u001b[0m\u001b[0;34m(\u001b[0m\u001b[0;34m)\u001b[0m \u001b[0;32mfor\u001b[0m \u001b[0mp\u001b[0m \u001b[0;32min\u001b[0m \u001b[0mresult_s\u001b[0m\u001b[0;34m]\u001b[0m\u001b[0;34m\u001b[0m\u001b[0;34m\u001b[0m\u001b[0m\n\u001b[1;32m     23\u001b[0m     \u001b[0mend_t\u001b[0m \u001b[0;34m=\u001b[0m \u001b[0mdatetime\u001b[0m\u001b[0;34m.\u001b[0m\u001b[0mdatetime\u001b[0m\u001b[0;34m.\u001b[0m\u001b[0mnow\u001b[0m\u001b[0;34m(\u001b[0m\u001b[0;34m)\u001b[0m\u001b[0;34m\u001b[0m\u001b[0;34m\u001b[0m\u001b[0m\n",
      "\u001b[0;31mAttributeError\u001b[0m: module 'matplotlib.pyplot' has no attribute 'save'"
     ]
    }
   ],
   "source": [
    "from test_accuracy import test_main\n",
    "\n",
    "serial, parallel = test_main()"
   ]
  },
  {
   "cell_type": "code",
   "execution_count": null,
   "metadata": {},
   "outputs": [],
   "source": []
  }
 ],
 "metadata": {
  "interpreter": {
   "hash": "fd5f5f84e59910c5f7d4089c607dd90582167b3294b9e561d008852cbc43b1dd"
  },
  "kernelspec": {
   "display_name": "Python 3.8.8 ('base')",
   "language": "python",
   "name": "python3"
  },
  "language_info": {
   "codemirror_mode": {
    "name": "ipython",
    "version": 3
   },
   "file_extension": ".py",
   "mimetype": "text/x-python",
   "name": "python",
   "nbconvert_exporter": "python",
   "pygments_lexer": "ipython3",
   "version": "3.8.8"
  },
  "orig_nbformat": 4
 },
 "nbformat": 4,
 "nbformat_minor": 2
}
