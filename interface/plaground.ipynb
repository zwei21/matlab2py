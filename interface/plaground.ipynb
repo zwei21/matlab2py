{
 "cells": [
  {
   "cell_type": "code",
   "execution_count": null,
   "id": "eaff84b4-1be4-4cc2-ae9d-b9eb71e9e449",
   "metadata": {},
   "outputs": [],
   "source": [
    "import scipy.stats as stats\n",
    "import numpy as np\n",
    "\n",
    "x = np.linspace(0, 5, 10, endpoint=False)\n",
    "y = stats.multivariate_normal.pdf(x, mean=2.5, cov=0.5)"
   ]
  },
  {
   "cell_type": "code",
   "execution_count": null,
   "id": "cc8ce2e8",
   "metadata": {},
   "outputs": [],
   "source": [
    "y"
   ]
  },
  {
   "cell_type": "code",
   "execution_count": null,
   "id": "16717877",
   "metadata": {},
   "outputs": [],
   "source": [
    "x"
   ]
  },
  {
   "cell_type": "markdown",
   "id": "9609a2b7",
   "metadata": {},
   "source": [
    "## Matlab output(as ref)\n",
    "y =\n",
    "\n",
    "    0.0011\n",
    "    0.0103\n",
    "    0.0595\n",
    "    0.2076\n",
    "    0.4394\n",
    "    0.5642\n",
    "    0.4394\n",
    "    0.2076\n",
    "    0.0595\n",
    "    0.0103\n"
   ]
  },
  {
   "cell_type": "markdown",
   "id": "b15ed388",
   "metadata": {},
   "source": [
    "# Test for z-shape mumeric"
   ]
  },
  {
   "cell_type": "code",
   "execution_count": null,
   "id": "dd4d8923",
   "metadata": {},
   "outputs": [],
   "source": [
    "%matplotlib qt\n",
    "import numpy as np\n",
    "import scipy.stats as stats\n",
    "import matplotlib.pyplot as plt\n",
    "from matplotlib import cm\n",
    "from tqdm import tqdm\n",
    "\n",
    "def generate_potential_2d_Zshape_numeric(IN_n_states,flag_visualize):\n",
    "    \"\"\"\n",
    "    The Zshape surface is a weighted sum of 2d Normal distributions and\n",
    "    exponential functions\n",
    "    \n",
    "    INPUT : \n",
    "    [IN_n_states] : array with integers giving the number of states is each dimension\n",
    "    (IN_n_states = [100,50] then x = linspace(x_min,x_max,n_states(1)) and y = linspace(x_min,x_max,n_states(2))\n",
    "    [IN_n_states] : array with integers giving the number of states is each\n",
    "    \"\"\"\n",
    "    # Q1: Will we change the limit later? A: Not required, could be optional paras.\n",
    "    x_min = -2\n",
    "    x_max = 2\n",
    "    y_min = -1\n",
    "    y_max = 3\n",
    "    # Q2: The length of each range should be the same for now.\n",
    "\n",
    "    x = np.linspace(x_min,x_max,IN_n_states[0]);\n",
    "    y = np.linspace(y_min,y_max,IN_n_states[1]);\n",
    "\n",
    "    #---Hyper-parameters---#\n",
    "    border_coeff = 1; # Coefficient of borders \n",
    "    well_coeff = 10; # Coefficient of wells (larger value makes wells deeper and barrier between them bigger)\n",
    "\n",
    "\n",
    "    #---PARAMETERS OF NORMAL DISTRIBUTIONS---#\n",
    "    # Section \"Bivariate case\" in [https://en.wikipedia.org/wiki/Multivariate_normal_distribution]\n",
    "    mu_1 = [-1.5,-0.5]\n",
    "    mu_2 = [1.5,2.5]\n",
    "    sigm_center_well = 0.4 # Sigma of some of the wells, sigm for sigma\n",
    "    covar_mat_well = np.diag(np.dot(np.ones((len(IN_n_states))),sigm_center_well))\n",
    "    ###Debugging\n",
    "    print(covar_mat_well)\n",
    "\n",
    "    mu_3 = [-0.5, 0]\n",
    "    sig = [0.7, 0.28] # Origion: [1, 0.4] * 0.7 = result, flat one\n",
    "    ro = 0.7\n",
    "    colvar_mat_3 = [[sig[0]**2, ro*sig[0]*sig[1]],[ro*sig[0]*sig[1], sig[1]**2]]\n",
    "\n",
    "    mu_4 = [0, 1]\n",
    "    sig = [0.7, 0.7] # Origion: [1, 1] * 0.7, Diagonal one\n",
    "    ro = -0.8\n",
    "    colvar_mat_4 = [[sig[0]**2, ro*sig[0]*sig[1]],[ro*sig[0]*sig[1], sig[1]**2]]\n",
    "\n",
    "    mu_5 = [0.5, 2]\n",
    "    sig = [0.7, 0.28] # Origion: [1, 0.4] * 0.7 = result, flat one\n",
    "    ro = 0.7\n",
    "    colvar_mat_5 = [[sig[0]**2, ro*sig[0]*sig[1]],[ro*sig[0]*sig[1], sig[1]**2]]\n",
    "\n",
    "    #---INSTANTIATION---#\n",
    "    potential_numeric = np.zeros(IN_n_states)\n",
    "\n",
    "    #---Run---#\n",
    "    for x_id in tqdm(range(IN_n_states[0])):\n",
    "        for y_id in range(IN_n_states[1]):\n",
    "\n",
    "            #--Borders (Potential increase to infinity outside of [x_min,x_max] and [y_min,y_max])--#\n",
    "            border_1 = np.exp(x_min - x[x_id])\n",
    "            border_2 = np.exp(x[x_id] - x_max)\n",
    "            border_3 = np.exp(y_min - y[y_id])\n",
    "            border_4 = np.exp(y[y_id] - y_max)\n",
    "\n",
    "            #--WELLS--# # This requires multivariate normal distribution generating function\n",
    "            well_1 = stats.multivariate_normal.pdf(x=[x[x_id],y[y_id]],mean=mu_1, cov=covar_mat_well)\n",
    "            well_2 = stats.multivariate_normal.pdf(x=[x[x_id],y[y_id]],mean=mu_2, cov=covar_mat_well)\n",
    "            well_3 = stats.multivariate_normal.pdf(x=[x[x_id],y[y_id]],mean=mu_3, cov=colvar_mat_3) # Numeric expression\n",
    "            well_4 = stats.multivariate_normal.pdf(x=[x[x_id],y[y_id]],mean=mu_4, cov=colvar_mat_4)\n",
    "            well_5 = stats.multivariate_normal.pdf(x=[x[x_id],y[y_id]],mean=mu_5, cov=colvar_mat_5)  \n",
    "\n",
    "            border_contribution = (border_1 + border_2 + border_3 + border_4) * border_coeff\n",
    "            well_contribution = (well_1 + well_2+ well_3+ well_4 + well_5) * well_coeff\n",
    "\n",
    "            potential_numeric[x_id,y_id] = border_contribution - well_contribution\n",
    "\n",
    "    if flag_visualize:\n",
    "        #assert()\n",
    "        x, y = np.meshgrid(x, y)\n",
    "        z = potential_numeric\n",
    "        fig = plt.figure()\n",
    "        ax = plt.axes(projection='3d')\n",
    "\n",
    "        surf = ax.plot_surface(x,y,z,cmap=cm.coolwarm,\\\n",
    "                            linewidth=0, antialiased=False)\n",
    "        ax.set_xlabel('x')\n",
    "        ax.set_ylabel('y')\n",
    "        ax.set_zlabel('z')\n",
    "\n",
    "        fig.colorbar(surf, shrink=0.5, aspect=5)\n",
    "        \n",
    "    return potential_numeric, x, y\n",
    "\n",
    "    # Sympy\n",
    "    # TODO"
   ]
  },
  {
   "cell_type": "code",
   "execution_count": null,
   "id": "a28dd175",
   "metadata": {},
   "outputs": [],
   "source": [
    "test_instates = [100,100]"
   ]
  },
  {
   "cell_type": "code",
   "execution_count": null,
   "id": "9f4afe71",
   "metadata": {},
   "outputs": [],
   "source": [
    "test_potential, test_x, test_y = generate_potential_2d_Zshape_numeric(test_instates, True)"
   ]
  },
  {
   "cell_type": "code",
   "execution_count": null,
   "id": "3f3dcc05",
   "metadata": {},
   "outputs": [],
   "source": []
  },
  {
   "cell_type": "code",
   "execution_count": null,
   "id": "098f838c",
   "metadata": {},
   "outputs": [],
   "source": [
    "%matplotlib qt\n",
    "import matplotlib.pyplot as plt\n",
    "from matplotlib import cm\n",
    "import numpy as np \n",
    "x = test_x\n",
    "y = test_y\n",
    "x, y = np.meshgrid(x, y)\n",
    "z = test_potential\n",
    "fig = plt.figure()\n",
    "ax = plt.axes(projection='3d')\n",
    "\n",
    "surf = ax.plot_surface(x,y,z,cmap=cm.coolwarm,\\\n",
    "                       linewidth=0, antialiased=False)\n",
    "ax.set_xlabel('x')\n",
    "ax.set_ylabel('y')\n",
    "ax.set_zlabel('z')\n",
    "\n",
    "fig.colorbar(surf, shrink=0.5, aspect=5)\n"
   ]
  },
  {
   "cell_type": "code",
   "execution_count": null,
   "id": "5deda6d9",
   "metadata": {},
   "outputs": [],
   "source": [
    "import numpy as np\n",
    "import sympy as spy\n",
    "\n",
    "def generate_potential_2d_spirals_numeric(IN_n_states,IN_number_of_branches,flag_visualize):\n",
    "    \"\"\"\n",
    "    The spiral surface is a modification of the Anormal distribution, which is\n",
    "    a kind of generalization of the multivariate normal distribution\n",
    "\n",
    "    INPUT : \n",
    "    [IN_n_states] : array with integers giving the number of states is each dimension\n",
    "    (IN_n_states = [100,50] then x = linspace(x_min,x_max,n_states(1)) and y = linspace(x_min,x_max,n_states(2))\n",
    "    [IN_n_states] : array with integers giving the number of states is each\n",
    "    \"\"\"\n",
    "    x_min = -20\n",
    "    x_max = 20\n",
    "    y_min = -20\n",
    "    y_max = 20\n",
    "\n",
    "    x = np.linspace(x_min,x_max,IN_n_states[0])\n",
    "    y = np.linspace(y_min,y_max,IN_n_states[1])\n",
    "\n",
    "    # Hyper Parameters\n",
    "    sigma = 0.35 # Spiral\n",
    "    warping_coeff = 0.01\n",
    "    decrease_coeff = 0.05 # decrease how Potential decrease when we get further from center\n",
    "    sinus_to_distance_coeff = 0.1\n",
    "\n",
    "    # Instantiation\n",
    "    potential_numeric = np.zeros(IN_n_states)\n",
    "\n",
    "    # Run\n",
    "    n_petals = IN_number_of_branches\n",
    "    for x_id in tqdm(range(IN_n_states[0])):\n",
    "        for y_id in range(IN_n_states[1]):\n",
    "\n",
    "            # Transform coordinates from (x,y) to (angle,Distance)\n",
    "            angle = np.arctan2(x[x_id], y[y_id])\n",
    "            distance_squared = x[x_id]**2 + y[y_id]**2;  # BIG MODIFICATION\n",
    "            \n",
    "            # Use the chosen shape function\n",
    "            r = (np.sin((angle+warping_coeff*distance_squared)*n_petals)*sinus_to_distance_coeff*distance_squared+2)\n",
    "\n",
    "            # Apply the formula\n",
    "            potential_numeric[x_id,y_id] = -1*np.exp( -1/2*(1)/(sigma*r)**2)*(1+decrease_coeff*distance_squared)\n",
    "\n",
    "    potential_numeric = potential_numeric - np.min(potential_numeric[:]) # Shift so that minimum=0\n",
    "    potential_numeric = potential_numeric/np.sum(potential_numeric[:]) # Normalize at the end because used non-normalized shape function r.\n",
    "\n",
    "    if flag_visualize:\n",
    "        x, y = np.meshgrid(x, y)\n",
    "        z = potential_numeric\n",
    "        fig = plt.figure()\n",
    "        ax = plt.axes(projection='3d')\n",
    "\n",
    "        surf = ax.plot_surface(x,y,z,cmap=cm.coolwarm,\\\n",
    "                            linewidth=0, antialiased=False)\n",
    "        ax.set_xlabel('x')\n",
    "        ax.set_ylabel('y')\n",
    "        ax.set_zlabel('z')\n",
    "\n",
    "        fig.colorbar(surf, shrink=0.5, aspect=5)\n",
    "        \n",
    "    return potential_numeric, x, y\n",
    "\n",
    "# Sympy\n",
    "# TODO"
   ]
  },
  {
   "cell_type": "code",
   "execution_count": null,
   "id": "72ac487e",
   "metadata": {},
   "outputs": [],
   "source": [
    "test_potential, test_x, test_y = generate_potential_2d_spirals_numeric([100,100], 2, True)"
   ]
  },
  {
   "cell_type": "code",
   "execution_count": null,
   "id": "3a025a24",
   "metadata": {},
   "outputs": [],
   "source": [
    "test_potential, test_x, test_y = generate_potential_2d_Zshape_numeric(test_instates, True)"
   ]
  },
  {
   "cell_type": "code",
   "execution_count": null,
   "id": "5daf7133",
   "metadata": {},
   "outputs": [],
   "source": [
    "a = np.array([np.nan] * 100)\n",
    "a_affix = [1] * 50"
   ]
  },
  {
   "cell_type": "code",
   "execution_count": null,
   "id": "b4d1bf0c",
   "metadata": {},
   "outputs": [],
   "source": [
    "b = range(100)"
   ]
  },
  {
   "cell_type": "code",
   "execution_count": null,
   "id": "d9f35931",
   "metadata": {},
   "outputs": [],
   "source": [
    "%matplotlib inline\n",
    "a[0:50] = 1\n",
    "plt.plot(b,a)\n",
    "plt.show()"
   ]
  },
  {
   "cell_type": "code",
   "execution_count": null,
   "id": "b661add9",
   "metadata": {},
   "outputs": [],
   "source": [
    "print(a)"
   ]
  },
  {
   "cell_type": "code",
   "execution_count": null,
   "id": "54ab4302",
   "metadata": {},
   "outputs": [],
   "source": [
    "import sympy as spy\n",
    "from math import exp, atan2\n",
    "import numpy as np"
   ]
  },
  {
   "cell_type": "code",
   "execution_count": null,
   "id": "b3ddaf01",
   "metadata": {},
   "outputs": [],
   "source": [
    "spy.symbols?"
   ]
  },
  {
   "cell_type": "code",
   "execution_count": null,
   "id": "101d6562",
   "metadata": {},
   "outputs": [],
   "source": [
    "a = spy.symbols('a', real=True)"
   ]
  },
  {
   "cell_type": "code",
   "execution_count": null,
   "id": "59d18103",
   "metadata": {},
   "outputs": [],
   "source": [
    "b = 0.2"
   ]
  },
  {
   "cell_type": "code",
   "execution_count": null,
   "id": "b88be28f",
   "metadata": {},
   "outputs": [],
   "source": [
    "c = b * a * spy.exp(a)"
   ]
  },
  {
   "cell_type": "code",
   "execution_count": null,
   "id": "58093c6c",
   "metadata": {},
   "outputs": [],
   "source": [
    "c.subs(a, 0.2)"
   ]
  },
  {
   "cell_type": "code",
   "execution_count": null,
   "id": "35d02394",
   "metadata": {},
   "outputs": [],
   "source": [
    "x, y = spy.symbols('x, y', real=True)\n"
   ]
  },
  {
   "cell_type": "code",
   "execution_count": null,
   "id": "f9166e19",
   "metadata": {},
   "outputs": [],
   "source": [
    "z = atan2(x.subs(x, 2), y.subs(y, 2))"
   ]
  },
  {
   "cell_type": "code",
   "execution_count": null,
   "id": "a488541f",
   "metadata": {},
   "outputs": [],
   "source": [
    "z"
   ]
  },
  {
   "cell_type": "code",
   "execution_count": null,
   "id": "c5292b1d",
   "metadata": {},
   "outputs": [],
   "source": [
    "z = spy.atan2(x,y)"
   ]
  },
  {
   "cell_type": "code",
   "execution_count": null,
   "id": "5f468bec",
   "metadata": {},
   "outputs": [],
   "source": [
    "z.subs?"
   ]
  },
  {
   "cell_type": "code",
   "execution_count": null,
   "id": "d8b75f80",
   "metadata": {},
   "outputs": [],
   "source": [
    "a"
   ]
  },
  {
   "cell_type": "code",
   "execution_count": null,
   "id": "1a2fd8d5",
   "metadata": {},
   "outputs": [],
   "source": [
    "x,y"
   ]
  },
  {
   "cell_type": "code",
   "execution_count": null,
   "id": "8b464695",
   "metadata": {},
   "outputs": [],
   "source": [
    "x"
   ]
  },
  {
   "cell_type": "code",
   "execution_count": null,
   "id": "cfe807ae",
   "metadata": {},
   "outputs": [],
   "source": [
    "y"
   ]
  },
  {
   "cell_type": "code",
   "execution_count": null,
   "id": "683505a4",
   "metadata": {},
   "outputs": [],
   "source": [
    "z = x ** y"
   ]
  },
  {
   "cell_type": "code",
   "execution_count": null,
   "id": "e0e7e72e",
   "metadata": {},
   "outputs": [],
   "source": [
    "(x**x).diff(x)"
   ]
  },
  {
   "cell_type": "code",
   "execution_count": null,
   "id": "d1edcb22",
   "metadata": {},
   "outputs": [],
   "source": [
    "x = 1"
   ]
  },
  {
   "cell_type": "code",
   "execution_count": null,
   "id": "9de45fe3",
   "metadata": {},
   "outputs": [],
   "source": [
    "z"
   ]
  },
  {
   "cell_type": "code",
   "execution_count": null,
   "id": "941d5775",
   "metadata": {},
   "outputs": [],
   "source": [
    "z.subs(x,x)"
   ]
  },
  {
   "cell_type": "code",
   "execution_count": null,
   "id": "57adb293",
   "metadata": {},
   "outputs": [],
   "source": [
    "z.subs(y,x)"
   ]
  },
  {
   "cell_type": "code",
   "execution_count": null,
   "id": "f9f3a14c",
   "metadata": {},
   "outputs": [],
   "source": [
    "z"
   ]
  },
  {
   "cell_type": "code",
   "execution_count": null,
   "id": "c2c025de",
   "metadata": {},
   "outputs": [],
   "source": [
    "x, y, z = spy.symbols('x, y, z')"
   ]
  },
  {
   "cell_type": "code",
   "execution_count": null,
   "id": "528c5210",
   "metadata": {},
   "outputs": [],
   "source": [
    "z = x + y"
   ]
  },
  {
   "cell_type": "code",
   "execution_count": null,
   "id": "24ef01a7",
   "metadata": {},
   "outputs": [],
   "source": [
    "z"
   ]
  },
  {
   "cell_type": "code",
   "execution_count": null,
   "id": "42485cee",
   "metadata": {},
   "outputs": [],
   "source": [
    "z_value = z"
   ]
  },
  {
   "cell_type": "code",
   "execution_count": null,
   "id": "88f656cc",
   "metadata": {},
   "outputs": [],
   "source": [
    "val = z_value.subs([x,y],[1,2])"
   ]
  },
  {
   "cell_type": "code",
   "execution_count": null,
   "id": "cc984e0a",
   "metadata": {},
   "outputs": [],
   "source": [
    "import sympy as spy"
   ]
  },
  {
   "cell_type": "code",
   "execution_count": null,
   "id": "e19aaf3d",
   "metadata": {},
   "outputs": [],
   "source": [
    "value = val.subs({x:1,y:1})"
   ]
  },
  {
   "cell_type": "code",
   "execution_count": null,
   "id": "03f5bb0f",
   "metadata": {},
   "outputs": [],
   "source": [
    "int(value)"
   ]
  },
  {
   "cell_type": "code",
   "execution_count": null,
   "id": "809d015c",
   "metadata": {},
   "outputs": [],
   "source": [
    "z"
   ]
  },
  {
   "cell_type": "code",
   "execution_count": null,
   "id": "f3eacfd2",
   "metadata": {},
   "outputs": [],
   "source": [
    "a = z + z"
   ]
  },
  {
   "cell_type": "code",
   "execution_count": null,
   "id": "c69de4df",
   "metadata": {},
   "outputs": [],
   "source": [
    "a"
   ]
  },
  {
   "cell_type": "code",
   "execution_count": null,
   "id": "ed39876b",
   "metadata": {},
   "outputs": [],
   "source": [
    "#Pre set coeffs\n",
    "IN_n_states = [100, 100]\n",
    "IN_number_of_branches = 2\n",
    "\n",
    "# Hyper Parameters\n",
    "sigma = 0.35 # Spiral\n",
    "warping_coeff = 0.01\n",
    "decrease_coeff = 0.05 # decrease how Potential decrease when we get further from center\n",
    "sinus_to_distance_coeff = 0.1\n",
    "\n",
    "# Instantiation\n",
    "potential_numeric = np.zeros(IN_n_states)\n",
    "n_petals = IN_number_of_branches\n",
    "\n",
    "#--Symbolic Version of the potential--#\n",
    "# Requires Sympy\n",
    "\n",
    "# Symbolic variables for symbolic expression of the potential\n",
    "x_symb, y_symb = spy.symbols('x_symb, y_symb', real=True)\n",
    "\n",
    "# Transform coordinates from (x, y) to (angle, Distance)\n",
    "angle_symb = spy.atan2(x_symb, y_symb)\n",
    "distance_squared_symb = x_symb ** 2 + y_symb ** 2\n",
    "\n",
    "# Use the chosen shape function\n",
    "r_symb = (spy.sin((angle_symb + warping_coeff * distance_squared_symb) * n_petals) * sinus_to_distance_coeff * distance_squared_symb + 2)\n",
    "\n",
    "# Apply the formula\n",
    "potential_symbolic = -1*spy.exp( -1/2*(1)/(sigma*r_symb)**2)*(1+decrease_coeff*distance_squared_symb)"
   ]
  },
  {
   "cell_type": "code",
   "execution_count": null,
   "id": "a081d2bc",
   "metadata": {},
   "outputs": [],
   "source": [
    "val.subs?"
   ]
  },
  {
   "cell_type": "code",
   "execution_count": null,
   "id": "6d0c353e",
   "metadata": {},
   "outputs": [],
   "source": [
    "potential_symbolic.subs({x:1,y:1})"
   ]
  },
  {
   "cell_type": "code",
   "execution_count": null,
   "id": "34124bb2",
   "metadata": {},
   "outputs": [],
   "source": [
    "val.evalf(subs={x_symb:2,y_symb:2})"
   ]
  },
  {
   "cell_type": "code",
   "execution_count": null,
   "id": "b61de913",
   "metadata": {},
   "outputs": [],
   "source": [
    "val"
   ]
  },
  {
   "cell_type": "code",
   "execution_count": null,
   "id": "ffa7d60f",
   "metadata": {},
   "outputs": [],
   "source": [
    "from time import time\n",
    "import numpy as np\n",
    "import scipy.stats as stats\n",
    "import matplotlib.pyplot as plt\n",
    "from matplotlib import cm\n",
    "from tqdm import tqdm\n",
    "import sympy as spy\n",
    "\n",
    "def generate_potential_2d_spirals_numeric(IN_n_states,IN_number_of_branches,flag_visualize):\n",
    "    \"\"\"\n",
    "    The spiral surface is a modification of the Anormal distribution, which is\n",
    "    a kind of generalization of the multivariate normal distribution\n",
    "\n",
    "    INPUT : \n",
    "    [IN_n_states] : array with integers giving the number of states is each dimension\n",
    "    (IN_n_states = [100,50] then x = linspace(x_min,x_max,n_states(1)) and y = linspace(x_min,x_max,n_states(2))\n",
    "    [IN_n_states] : array with integers giving the number of states is each\n",
    "    \"\"\"\n",
    "    start = time()\n",
    "    x_min = -20\n",
    "    x_max = 20\n",
    "    y_min = -20\n",
    "    y_max = 20\n",
    "\n",
    "    x = np.linspace(x_min,x_max,IN_n_states[0])\n",
    "    y = np.linspace(y_min,y_max,IN_n_states[1])\n",
    "    end = time()\n",
    "    print(\"Time: \", end - start)\n",
    "    # Hyper Parameters\n",
    "    start = time()\n",
    "    sigma = 0.35 # Spiral\n",
    "    warping_coeff = 0.01\n",
    "    decrease_coeff = 0.05 # decrease how Potential decrease when we get further from center\n",
    "    sinus_to_distance_coeff = 0.1\n",
    "    end = time()\n",
    "    print(\"Time: \", end - start)\n",
    "    # Instantiation\n",
    "    potential_numeric = np.zeros(IN_n_states)\n",
    "\n",
    "    # Run\n",
    "    n_petals = IN_number_of_branches\n",
    "    for x_id in tqdm(range(IN_n_states[0])):\n",
    "        for y_id in range(IN_n_states[1]):\n",
    "\n",
    "            # Transform coordinates from (x,y) to (angle,Distance)\n",
    "            angle = np.arctan2(x[x_id], y[y_id])\n",
    "            distance_squared = x[x_id]**2 + y[y_id]**2;  # BIG MODIFICATION\n",
    "            \n",
    "            # Use the chosen shape function\n",
    "            r = (np.sin((angle+warping_coeff*distance_squared)*n_petals)*sinus_to_distance_coeff*distance_squared+2)\n",
    "\n",
    "            # Apply the formula\n",
    "            potential_numeric[x_id,y_id] = -1*np.exp( -1/2*(1)/(sigma*r)**2)*(1+decrease_coeff*distance_squared)\n",
    "\n",
    "    potential_numeric = potential_numeric - np.min(potential_numeric[:]) # Shift so that minimum=0\n",
    "    potential_numeric = potential_numeric/np.sum(potential_numeric[:]) # Normalize at the end because used non-normalized shape function r.\n",
    "\n",
    "    if flag_visualize:\n",
    "        x, y = np.meshgrid(x, y)\n",
    "        z = potential_numeric\n",
    "        fig = plt.figure()\n",
    "        ax = plt.axes(projection='3d')\n",
    "\n",
    "        surf = ax.plot_surface(x,y,z,cmap=cm.coolwarm,\\\n",
    "                            linewidth=0, antialiased=False)\n",
    "        ax.set_xlabel('x')\n",
    "        ax.set_ylabel('y')\n",
    "        ax.set_zlabel('z')\n",
    "\n",
    "        fig.colorbar(surf, shrink=0.5, aspect=5)\n",
    "        \n",
    "    return x, y, potential_numeric\n",
    "\n",
    "\n",
    "def generate_potential_2d_spirals_symbolic(IN_n_states,IN_number_of_branches,flag_visualize):\n",
    "    # Sympy\n",
    "    start = time()\n",
    "    x_min = -20\n",
    "    x_max = 20\n",
    "    y_min = -20\n",
    "    y_max = 20\n",
    "\n",
    "    x = np.linspace(x_min,x_max,IN_n_states[0])\n",
    "    y = np.linspace(y_min,y_max,IN_n_states[1])\n",
    "\n",
    "    # Hyper Parameters\n",
    "    sigma = 0.35 # Spiral\n",
    "    warping_coeff = 0.01\n",
    "    decrease_coeff = 0.05 # decrease how Potential decrease when we get further from center\n",
    "    sinus_to_distance_coeff = 0.1\n",
    "\n",
    "    # Instantiation\n",
    "    potential_symbolic_value = np.zeros(IN_n_states)\n",
    "    n_petals = IN_number_of_branches\n",
    "\n",
    "    #--Symbolic Version of the potential--#\n",
    "    # Requires Sympy\n",
    "\n",
    "    # Symbolic variables for symbolic expression of the potential\n",
    "    x_symb, y_symb = spy.symbols('x_symb, y_symb', real=True)\n",
    "\n",
    "    # Transform coordinates from (x, y) to (angle, Distance)\n",
    "    angle_symb = spy.atan2(x_symb, y_symb)\n",
    "    distance_squared_symb = x_symb ** 2 + y_symb ** 2\n",
    "\n",
    "    # Use the chosen shape function\n",
    "    r_symb = (spy.sin((angle_symb + warping_coeff * distance_squared_symb) * n_petals) * sinus_to_distance_coeff * distance_squared_symb + 2)\n",
    "\n",
    "    # Apply the formula\n",
    "    potential_symbolic = -1*spy.exp( -1/2*(1)/(sigma*r_symb)**2)*(1+decrease_coeff*distance_squared_symb)\n",
    "    end = time()\n",
    "    print(\"Time generating the potential: \", end - start)\n",
    "    # Symbolic derivatives with respect to x and y\n",
    "    dpotsym_dx = potential_symbolic.diff(x_symb)\n",
    "    dpotsym_dy = potential_symbolic.diff(y_symb)\n",
    "\n",
    "    # Compute the expression over our discrete set of bins for checking purposes\n",
    "    # x = np.linspace(x_min, x_max, IN_n_states[0])\n",
    "    # y = np.linspace(y_min, y_max, IN_n_states[1])\n",
    "    start = time()\n",
    "    for x_id in tqdm(range(IN_n_states[0])):\n",
    "        for y_id in range(IN_n_states[1]):\n",
    "            start = time()\n",
    "            potential_symbolic_value[x_id, y_id] = potential_symbolic.evalf(n=10,subs={x_symb:x[x_id], y_symb:y[y_id]})\n",
    "            #print(\"Elapsed\", time() - start )\n",
    "\n",
    "    potential_symbolic_value = potential_symbolic_value - np.min(potential_symbolic_value[:]) # Shift so that minimum=0\n",
    "    potential_symbolic_value = potential_symbolic_value/np.sum(potential_symbolic_value[:]) # Normalize at the end because used non-normalized shape function r.\n",
    "    end = time()\n",
    "    print(\"Time substituting the discrete values: \", end - start)\n",
    "    if flag_visualize:\n",
    "        x, y = np.meshgrid(x, y)\n",
    "        z = potential_symbolic_value\n",
    "        fig = plt.figure()\n",
    "        ax = plt.axes(projection='3d')\n",
    "\n",
    "        surf = ax.plot_surface(x,y,z,cmap=cm.coolwarm,\\\n",
    "                            linewidth=0, antialiased=False)\n",
    "        ax.set_xlabel('x')\n",
    "        ax.set_ylabel('y')\n",
    "        ax.set_zlabel('z')\n",
    "\n",
    "        fig.colorbar(surf, shrink=0.5, aspect=5)\n",
    "\n",
    "    return x, y, potential_symbolic_value, potential_symbolic\n"
   ]
  },
  {
   "cell_type": "code",
   "execution_count": null,
   "id": "068f7575",
   "metadata": {},
   "outputs": [],
   "source": [
    "%matplotlib qt"
   ]
  },
  {
   "cell_type": "code",
   "execution_count": null,
   "id": "5d57ca38",
   "metadata": {},
   "outputs": [],
   "source": [
    "x_spy, y_spy, potential_spy, potential_func = generate_potential_2d_spirals_symbolic(IN_n_states=[100,100],IN_number_of_branches=2,flag_visualize=True)"
   ]
  },
  {
   "cell_type": "code",
   "execution_count": null,
   "id": "e7ec10ec",
   "metadata": {},
   "outputs": [],
   "source": [
    "x_num, y_num, potential_num = generate_potential_2d_spirals_numeric(IN_n_states=[100,100],IN_number_of_branches=2,flag_visualize=True)"
   ]
  },
  {
   "cell_type": "code",
   "execution_count": null,
   "id": "17c4b235",
   "metadata": {},
   "outputs": [],
   "source": [
    "z = spy.symbols('z')"
   ]
  },
  {
   "cell_type": "code",
   "execution_count": null,
   "id": "25af7b28",
   "metadata": {},
   "outputs": [],
   "source": [
    "from multiprocessing import Pool\n",
    "from itertools import combinations\n",
    "import numba as nb"
   ]
  },
  {
   "cell_type": "code",
   "execution_count": null,
   "id": "88627f2e",
   "metadata": {},
   "outputs": [],
   "source": [
    "x_test = np.linspace(0,1,10)\n",
    "y_test = np.linspace(0,1,10)\n",
    "\n",
    "def add_func(*inputs):\n",
    "    x = inputs[0]\n",
    "    y = inputs[1]\n",
    "    print(\"x+y:\")\n",
    "    return x + y\n",
    "\n",
    "# Serial runtime:\n",
    "\n",
    "\n",
    "def test_func_serial():\n",
    "    start = time()\n",
    "    for x in x_test:\n",
    "        for y in y_test:\n",
    "            test_result = add_func(x, y)\n",
    "    end = time()\n",
    "\n",
    "    print(\"Serial Runtime is:\", end - start)\n",
    "\n",
    "\n",
    "\n",
    "\n"
   ]
  },
  {
   "cell_type": "code",
   "execution_count": null,
   "id": "396c60cc",
   "metadata": {},
   "outputs": [],
   "source": [
    "# Mock list for parallel\n",
    "list_xy = []\n",
    "for x in x_test:\n",
    "    for y in y_test:\n",
    "        list_xy.append([x,y])\n",
    "# Parallelization runtime:\n",
    "print(\"I am running\")\n",
    "start = time()\n",
    "n_threads = 2\n",
    "print(\"threads done\")\n",
    "d = Pool(processes=int(n_threads))\n",
    "print(\"pool done\")\n",
    "striding = d.map(add_func, list_xy)\n",
    "print(\"calculating done\")\n",
    "d.close()\n",
    "d.join()\n",
    "\n",
    "end = time()"
   ]
  },
  {
   "cell_type": "code",
   "execution_count": null,
   "id": "b5252c10",
   "metadata": {},
   "outputs": [],
   "source": [
    "test_func_serial()\n",
    "test_func_parallel()"
   ]
  },
  {
   "cell_type": "code",
   "execution_count": null,
   "id": "ee50ef15",
   "metadata": {},
   "outputs": [],
   "source": [
    "a = [1,2,3]\n",
    "b = [4,5,6]\n",
    "[t for t in a]\n",
    "[k for k in ]\n",
    "[[t, k] for t, k in combinations(a,b)]"
   ]
  },
  {
   "cell_type": "code",
   "execution_count": null,
   "id": "90d57d94",
   "metadata": {},
   "outputs": [],
   "source": [
    "combinations?"
   ]
  },
  {
   "cell_type": "code",
   "execution_count": null,
   "id": "2b4cc2ce",
   "metadata": {},
   "outputs": [],
   "source": [
    "import itertools\n",
    "list1=['a','b','c']\n",
    "list2=[1,2]\n",
    "\n",
    "[list(zip(x,list2)) for x in itertools.permutations(list1,len(list2))]"
   ]
  },
  {
   "cell_type": "code",
   "execution_count": null,
   "id": "375b47f7",
   "metadata": {},
   "outputs": [],
   "source": [
    "c = np.meshgrid(a,b)"
   ]
  },
  {
   "cell_type": "code",
   "execution_count": null,
   "id": "c72a961a",
   "metadata": {},
   "outputs": [],
   "source": []
  },
  {
   "cell_type": "code",
   "execution_count": null,
   "id": "407f5beb",
   "metadata": {},
   "outputs": [],
   "source": [
    "np.arange(0,100)"
   ]
  },
  {
   "cell_type": "code",
   "execution_count": null,
   "id": "2fcd7e40",
   "metadata": {},
   "outputs": [],
   "source": [
    "np_vec_add_func = np.vectorize(add_func)"
   ]
  },
  {
   "cell_type": "code",
   "execution_count": null,
   "id": "bb125c16",
   "metadata": {},
   "outputs": [],
   "source": [
    "outputs = np_vec_add_func(1,2)"
   ]
  },
  {
   "cell_type": "code",
   "execution_count": null,
   "id": "3f733a42",
   "metadata": {},
   "outputs": [],
   "source": [
    "import numpy as np\n",
    "import scipy.stats as stats\n",
    "import matplotlib.pyplot as plt\n",
    "from matplotlib import cm\n",
    "from tqdm import tqdm\n",
    "import sympy as spy\n",
    "#----Utils----#\n",
    "\n",
    "\n",
    "def generate_potential_2d_Zshape_numeric(IN_n_states,flag_visualize):\n",
    "    \"\"\"\n",
    "    The Zshape surface is a weighted sum of 2d Normal distributions and\n",
    "    exponential functions\n",
    "    \n",
    "    INPUT : \n",
    "    [IN_n_states] : array with integers giving the number of states is each dimension\n",
    "    (IN_n_states = [100,50] then x = linspace(x_min,x_max,n_states(1)) and y = linspace(x_min,x_max,n_states(2))\n",
    "    [IN_n_states] : array with integers giving the number of states is each\n",
    "    \"\"\"\n",
    "    x_min = -2\n",
    "    x_max = 2\n",
    "    y_min = -1\n",
    "    y_max = 3\n",
    "\n",
    "    x = np.linspace(x_min,x_max,IN_n_states[0]);\n",
    "    y = np.linspace(y_min,y_max,IN_n_states[1]);\n",
    "\n",
    "    #---Hyper-parameters---#\n",
    "    border_coeff = 1; # Coefficient of borders \n",
    "    well_coeff = 10; # Coefficient of wells (larger value makes wells deeper and barrier between them bigger)\n",
    "\n",
    "\n",
    "    #---PARAMETERS OF NORMAL DISTRIBUTIONS---#\n",
    "    # Section \"Bivariate case\" in [https://en.wikipedia.org/wiki/Multivariate_normal_distribution]\n",
    "    mu_1 = [-1.5,-0.5]\n",
    "    mu_2 = [1.5,2.5]\n",
    "    sigm_center_well = 0.4 # Sigma of some of the wells, sigm for sigma\n",
    "    covar_mat_well = np.diag(np.dot(np.ones((len(IN_n_states))),sigm_center_well))\n",
    "    ###Debugging\n",
    "    print(covar_mat_well)\n",
    "\n",
    "    mu_3 = [-0.5, 0]\n",
    "    sig = [0.7, 0.28] # Origion: [1, 0.4] * 0.7 = result, flat one\n",
    "    ro = 0.7\n",
    "    colvar_mat_3 = [[sig[0]**2, ro*sig[0]*sig[1]],[ro*sig[0]*sig[1], sig[1]**2]]\n",
    "\n",
    "    mu_4 = [0, 1]\n",
    "    sig = [0.7, 0.7] # Origion: [1, 1] * 0.7, Diagonal one\n",
    "    ro = -0.8\n",
    "    colvar_mat_4 = [[sig[0]**2, ro*sig[0]*sig[1]],[ro*sig[0]*sig[1], sig[1]**2]]\n",
    "\n",
    "    mu_5 = [0.5, 2]\n",
    "    sig = [0.7, 0.28] # Origion: [1, 0.4] * 0.7 = result, flat one\n",
    "    ro = 0.7\n",
    "    colvar_mat_5 = [[sig[0]**2, ro*sig[0]*sig[1]],[ro*sig[0]*sig[1], sig[1]**2]]\n",
    "\n",
    "    #---INSTANTIATION---#\n",
    "    potential_numeric = np.zeros(IN_n_states)\n",
    "\n",
    "    #---Run---#\n",
    "    for x_id in tqdm(range(IN_n_states[0])):\n",
    "        for y_id in range(IN_n_states[1]):\n",
    "\n",
    "            #--Borders (Potential increase to infinity outside of [x_min,x_max] and [y_min,y_max])--#\n",
    "            border_1 = np.exp(x_min - x[x_id])\n",
    "            border_2 = np.exp(x[x_id] - x_max)\n",
    "            border_3 = np.exp(y_min - y[y_id])\n",
    "            border_4 = np.exp(y[y_id] - y_max)\n",
    "\n",
    "            #--WELLS--# # This requires multivariate normal distribution generating function\n",
    "            well_1 = stats.multivariate_normal.pdf(x=[x[x_id],y[y_id]],mean=mu_1, cov=covar_mat_well)\n",
    "            well_2 = stats.multivariate_normal.pdf(x=[x[x_id],y[y_id]],mean=mu_2, cov=covar_mat_well)\n",
    "            well_3 = stats.multivariate_normal.pdf(x=[x[x_id],y[y_id]],mean=mu_3, cov=colvar_mat_3) # Numeric expression\n",
    "            well_4 = stats.multivariate_normal.pdf(x=[x[x_id],y[y_id]],mean=mu_4, cov=colvar_mat_4)\n",
    "            well_5 = stats.multivariate_normal.pdf(x=[x[x_id],y[y_id]],mean=mu_5, cov=colvar_mat_5)  \n",
    "\n",
    "            border_contribution = (border_1 + border_2 + border_3 + border_4) * border_coeff\n",
    "            well_contribution = (well_1 + well_2+ well_3+ well_4 + well_5) * well_coeff\n",
    "\n",
    "            potential_numeric[x_id,y_id] = border_contribution - well_contribution\n",
    "\n",
    "    return potential_numeric, x, y\n",
    "\n",
    "    # Sympy\n",
    "    # TODO"
   ]
  },
  {
   "cell_type": "code",
   "execution_count": null,
   "id": "64209323",
   "metadata": {},
   "outputs": [],
   "source": [
    "%matplotlib qt"
   ]
  },
  {
   "cell_type": "code",
   "execution_count": null,
   "id": "7c3962f7",
   "metadata": {},
   "outputs": [],
   "source": [
    "generate_potential_2d_Zshape_numeric(IN_n_states=[100,100],flag_visualize=True)"
   ]
  },
  {
   "cell_type": "code",
   "execution_count": null,
   "id": "1d22e661",
   "metadata": {},
   "outputs": [],
   "source": [
    "n_points = [10, 20, 30, 50, 100]\n",
    "n_times = []\n",
    "for i in n_points:\n",
    "    start = time()\n",
    "    x_spy, y_spy, potential_spy, potential_func = generate_potential_2d_spirals_symbolic(IN_n_states=[i,i],IN_number_of_branches=2,flag_visualize=False)\n",
    "    end = time()\n",
    "    n_times.append(end - start)\n",
    "\n",
    "plt.xlabel('Number of IN_n_states')\n",
    "plt.ylabel('Time consumption (s)')\n",
    "plt.plot(n_points, n_times)\n",
    "plt.show()\n"
   ]
  },
  {
   "cell_type": "code",
   "execution_count": null,
   "id": "b648a49c",
   "metadata": {},
   "outputs": [],
   "source": [
    "plt.xlabel('Number of IN_n_states')\n",
    "plt.ylabel('Time consumption (s)')\n",
    "plt.plot(n_points, n_times)\n",
    "plt.title('Time Consumption for n_petals = 2')\n",
    "plt.show()"
   ]
  },
  {
   "cell_type": "markdown",
   "id": "a5e4b7a8",
   "metadata": {},
   "source": [
    "# Importing files"
   ]
  },
  {
   "cell_type": "code",
   "execution_count": null,
   "id": "1eb656ee",
   "metadata": {},
   "outputs": [],
   "source": [
    "from generate_potential_2d_spiral import *\n",
    "from generate_potential_2d_Zshape import *\n"
   ]
  },
  {
   "cell_type": "markdown",
   "id": "230c7908",
   "metadata": {},
   "source": [
    "## - numeric plots"
   ]
  },
  {
   "cell_type": "code",
   "execution_count": null,
   "id": "a29e0721",
   "metadata": {},
   "outputs": [],
   "source": [
    "%matplotlib qt\n",
    "generate_potential_2d_spirals_numeric(IN_n_states=[100,100],IN_number_of_branches=2,flag_visualize=True)"
   ]
  },
  {
   "cell_type": "code",
   "execution_count": null,
   "id": "430c95dc",
   "metadata": {},
   "outputs": [],
   "source": []
  },
  {
   "cell_type": "markdown",
   "id": "20b8ea35",
   "metadata": {},
   "source": []
  },
  {
   "cell_type": "code",
   "execution_count": 5,
   "id": "04565048",
   "metadata": {},
   "outputs": [],
   "source": [
    "#from generate_trajectory_Langevin_2D_from_symbolic import *\n",
    "from generate_potential_2d_spiral import *\n",
    "from generate_potential_2d_Zshape import *\n",
    "import numpy as np\n",
    "import scipy.stats as stats\n",
    "import matplotlib.pyplot as plt\n",
    "from matplotlib import cm\n",
    "from tqdm import tqdm\n",
    "import sympy as spy\n",
    "import time\n",
    "\n",
    "def generate_trajectory_Langevin_from_symbolic_2D(potential_symbolic,position_initial, friction,simul_lagtime,n_steps):\n",
    "    KbT = 0.5981\n",
    "\n",
    "    # Temp vars is not required since symbolic math would include them directly\n",
    "    # But it would be good to take a log as debugging propose \n",
    "    t1 = time.time()\n",
    "    temp_vars = potential_symbolic.free_symbols\n",
    "    print(temp_vars)\n",
    "    n_dim = len(temp_vars)\n",
    "    x_symb, y_symb = list(temp_vars) \n",
    "    print(temp_vars)\n",
    "    t2 = time.time()\n",
    "    print('part1:', t2-t1)\n",
    "    # Symbolic derivatives with respect to x and y\n",
    "    # x_symb and y_symb is includeded in the potential symbolic equations that passed into this function\n",
    "    t1 = time.time()\n",
    "    dpotsym_dx = potential_symbolic.diff(x_symb)\n",
    "    dpotsym_dy = potential_symbolic.diff(y_symb)    \n",
    "    t2 = time.time()\n",
    "    print('part2:', t2-t1)\n",
    "    #Initialize the traj container\n",
    "    t1 = time.time()\n",
    "    traj_langevin = np.zeros((n_dim, n_steps))\n",
    "    traj_langevin[:,0] = position_initial # Transfer indices from matlab to python: -1 each, start from 0\n",
    "    t2 = time.time()\n",
    "    print('part3:', t2 - t1)\n",
    "\n",
    "    t1 = time.time()\n",
    "    for step in tqdm(range(1,n_steps)):\n",
    "        x_symb_val = traj_langevin[0, step-1] # Update values of x_symb for current position\n",
    "        y_symb_val = traj_langevin[1, step-1]\n",
    "        subs_dict = {x_symb:x_symb_val,y_symb:y_symb_val}\n",
    "        drift = np.dot(-1,[dpotsym_dx.evalf(subs=subs_dict), dpotsym_dy.evalf(subs=subs_dict)])\n",
    "\n",
    "        traj_langevin[:, step] = traj_langevin[:, step-1] + drift * simul_lagtime/friction + np.dot(np.random.randn(2,),np.sqrt(simul_lagtime*KbT/friction))\n",
    "    t2 = time.time()\n",
    "    print('part4:', t2-t1)\n",
    "    return traj_langevin, dpotsym_dx, dpotsym_dx\n"
   ]
  },
  {
   "cell_type": "code",
   "execution_count": 7,
   "id": "ad51359a",
   "metadata": {},
   "outputs": [
    {
     "name": "stderr",
     "output_type": "stream",
     "text": [
      "100%|██████████| 100/100 [02:52<00:00,  1.72s/it]\n"
     ]
    }
   ],
   "source": [
    "_,_,_,spiral_potential_symbolic = generate_potential_2d_spirals_symbolic(IN_n_states=[100,100],IN_number_of_branches=2,flag_visualize=False)"
   ]
  },
  {
   "cell_type": "code",
   "execution_count": 8,
   "id": "0e91c483",
   "metadata": {},
   "outputs": [
    {
     "data": {
      "text/latex": [
       "$\\displaystyle - \\left(0.05 x_{symb}^{2} + 0.05 y_{symb}^{2} + 1\\right) e^{- \\frac{1.02040816326531}{\\left(0.05 \\left(x_{symb}^{2} + y_{symb}^{2}\\right) \\sin{\\left(0.02 x_{symb}^{2} + 0.02 y_{symb}^{2} + 2 \\operatorname{atan_{2}}{\\left(x_{symb},y_{symb} \\right)} \\right)} + 1\\right)^{2}}}$"
      ],
      "text/plain": [
       "-(0.05*x_symb**2 + 0.05*y_symb**2 + 1)*exp(-1.02040816326531/(0.05*(x_symb**2 + y_symb**2)*sin(0.02*x_symb**2 + 0.02*y_symb**2 + 2*atan2(x_symb, y_symb)) + 1)**2)"
      ]
     },
     "execution_count": 8,
     "metadata": {},
     "output_type": "execute_result"
    }
   ],
   "source": [
    "spiral_potential_symbolic"
   ]
  },
  {
   "cell_type": "code",
   "execution_count": 9,
   "id": "f54c3290",
   "metadata": {},
   "outputs": [
    {
     "name": "stderr",
     "output_type": "stream",
     "text": [
      "  0%|          | 1/4999 [00:00<08:44,  9.52it/s]"
     ]
    },
    {
     "name": "stdout",
     "output_type": "stream",
     "text": [
      "{x_symb, y_symb}\n",
      "{x_symb, y_symb}\n",
      "part1: 0.0006279945373535156\n",
      "part2: 0.0009238719940185547\n",
      "part3: 2.5033950805664062e-05\n"
     ]
    },
    {
     "name": "stderr",
     "output_type": "stream",
     "text": [
      "100%|██████████| 4999/4999 [07:48<00:00, 10.66it/s]"
     ]
    },
    {
     "name": "stdout",
     "output_type": "stream",
     "text": [
      "part4: 468.87520003318787\n"
     ]
    },
    {
     "name": "stderr",
     "output_type": "stream",
     "text": [
      "\n"
     ]
    }
   ],
   "source": [
    "traj, dx, dy = generate_trajectory_Langevin_from_symbolic_2D(spiral_potential_symbolic,position_initial=[0.1,0.1], friction=10,simul_lagtime=0.25,n_steps=5000)"
   ]
  },
  {
   "cell_type": "code",
   "execution_count": 16,
   "id": "af3f5141",
   "metadata": {},
   "outputs": [
    {
     "name": "stderr",
     "output_type": "stream",
     "text": [
      "  0%|          | 2/4999 [00:00<08:01, 10.37it/s]"
     ]
    },
    {
     "name": "stdout",
     "output_type": "stream",
     "text": [
      "{x_symb, y_symb}\n",
      "{x_symb, y_symb}\n",
      "part1: 0.0003418922424316406\n",
      "part2: 0.0007512569427490234\n",
      "part3: 0.000164031982421875\n"
     ]
    },
    {
     "name": "stderr",
     "output_type": "stream",
     "text": [
      "100%|██████████| 4999/4999 [08:30<00:00,  9.79it/s]"
     ]
    },
    {
     "name": "stdout",
     "output_type": "stream",
     "text": [
      "part4: 510.520956993103\n"
     ]
    },
    {
     "name": "stderr",
     "output_type": "stream",
     "text": [
      "\n"
     ]
    }
   ],
   "source": [
    "traj2, dx, dy = generate_trajectory_Langevin_from_symbolic_2D(spiral_potential_symbolic,position_initial=[0.1,0.1], friction=10,simul_lagtime=0.25,n_steps=5000)"
   ]
  },
  {
   "cell_type": "code",
   "execution_count": 15,
   "id": "5940a384",
   "metadata": {},
   "outputs": [
    {
     "data": {
      "text/plain": [
       "array([[ 0.1       ,  0.07538779,  0.0503812 , ...,  9.87040799,\n",
       "         9.99288651, 10.08108491],\n",
       "       [ 0.1       , -0.18388593, -0.13209521, ..., 10.66579446,\n",
       "        10.70177957, 10.60349559]])"
      ]
     },
     "execution_count": 15,
     "metadata": {},
     "output_type": "execute_result"
    }
   ],
   "source": [
    "traj"
   ]
  },
  {
   "cell_type": "code",
   "execution_count": 11,
   "id": "da7ace8c",
   "metadata": {},
   "outputs": [
    {
     "data": {
      "text/plain": [
       "[<matplotlib.lines.Line2D at 0x7fa35b0c6640>]"
      ]
     },
     "execution_count": 11,
     "metadata": {},
     "output_type": "execute_result"
    },
    {
     "data": {
      "image/png": "[encoded data removed]",
      "text/plain": [
       "<Figure size 432x288 with 1 Axes>"
      ]
     },
     "metadata": {
      "needs_background": "light"
     },
     "output_type": "display_data"
    }
   ],
   "source": [
    "import matplotlib.pyplot as plt\n",
    "plt.plot(traj[0], traj[1])"
   ]
  },
  {
   "cell_type": "code",
   "execution_count": 63,
   "id": "d865be65",
   "metadata": {},
   "outputs": [
    {
     "data": {
      "text/latex": [
       "$\\displaystyle - 0.1 x_{symb} e^{- \\frac{1.02040816326531}{\\left(0.05 \\left(x_{symb}^{2} + y_{symb}^{2}\\right) \\sin{\\left(0.02 x_{symb}^{2} + 0.02 y_{symb}^{2} + 2 \\operatorname{atan_{2}}{\\left(x_{symb},y_{symb} \\right)} \\right)} + 1\\right)^{2}}} - \\frac{1.02040816326531 \\left(- 0.2 x_{symb} \\sin{\\left(0.02 x_{symb}^{2} + 0.02 y_{symb}^{2} + 2 \\operatorname{atan_{2}}{\\left(x_{symb},y_{symb} \\right)} \\right)} - 2 \\left(0.04 x_{symb} + \\frac{2 y_{symb}}{x_{symb}^{2} + y_{symb}^{2}}\\right) \\left(0.05 x_{symb}^{2} + 0.05 y_{symb}^{2}\\right) \\cos{\\left(0.02 x_{symb}^{2} + 0.02 y_{symb}^{2} + 2 \\operatorname{atan_{2}}{\\left(x_{symb},y_{symb} \\right)} \\right)}\\right) \\left(- 0.05 x_{symb}^{2} - 0.05 y_{symb}^{2} - 1\\right) e^{- \\frac{1.02040816326531}{\\left(0.05 \\left(x_{symb}^{2} + y_{symb}^{2}\\right) \\sin{\\left(0.02 x_{symb}^{2} + 0.02 y_{symb}^{2} + 2 \\operatorname{atan_{2}}{\\left(x_{symb},y_{symb} \\right)} \\right)} + 1\\right)^{2}}}}{\\left(0.05 \\left(x_{symb}^{2} + y_{symb}^{2}\\right) \\sin{\\left(0.02 x_{symb}^{2} + 0.02 y_{symb}^{2} + 2 \\operatorname{atan_{2}}{\\left(x_{symb},y_{symb} \\right)} \\right)} + 1\\right)^{3}}$"
      ],
      "text/plain": [
       "-0.1*x_symb*exp(-1.02040816326531/(0.05*(x_symb**2 + y_symb**2)*sin(0.02*x_symb**2 + 0.02*y_symb**2 + 2*atan2(x_symb, y_symb)) + 1)**2) - 1.02040816326531*(-0.2*x_symb*sin(0.02*x_symb**2 + 0.02*y_symb**2 + 2*atan2(x_symb, y_symb)) - 2*(0.04*x_symb + 2*y_symb/(x_symb**2 + y_symb**2))*(0.05*x_symb**2 + 0.05*y_symb**2)*cos(0.02*x_symb**2 + 0.02*y_symb**2 + 2*atan2(x_symb, y_symb)))*(-0.05*x_symb**2 - 0.05*y_symb**2 - 1)*exp(-1.02040816326531/(0.05*(x_symb**2 + y_symb**2)*sin(0.02*x_symb**2 + 0.02*y_symb**2 + 2*atan2(x_symb, y_symb)) + 1)**2)/(0.05*(x_symb**2 + y_symb**2)*sin(0.02*x_symb**2 + 0.02*y_symb**2 + 2*atan2(x_symb, y_symb)) + 1)**3"
      ]
     },
     "execution_count": 63,
     "metadata": {},
     "output_type": "execute_result"
    }
   ],
   "source": [
    "dx -> fun_dx(subs)"
   ]
  },
  {
   "cell_type": "markdown",
   "id": "6e557138",
   "metadata": {},
   "source": [
    "# List to bin"
   ]
  },
  {
   "cell_type": "markdown",
   "id": "b39ed623",
   "metadata": {},
   "source": []
  },
  {
   "cell_type": "code",
   "execution_count": 27,
   "id": "d0a07ae6",
   "metadata": {},
   "outputs": [],
   "source": [
    "import pickle\n",
    "import datetime\n",
    "data1 = traj\n",
    "data2 = traj2\n",
    "def save_traj(data, filename=None):\n",
    "    assert type(filename) == str or filename == None, \"filename must be string\"\n",
    "    if filename == None:\n",
    "        time_stamp = datetime.datetime.now().strftime('%Y-%m-%dT%H-%M-%S')\n",
    "        filename = 'traj'+ datetime.datetime.now().strftime('%Y-%m-%dT%H-%M-%S')\n",
    "\n",
    "    data_output = open(filename, 'wb')\n",
    "    pickle.dump(data, data_output)\n",
    "    data_output.close()\n",
    "\n",
    "def read_traj(filename):\n",
    "    data_input = open(filename, 'rb')\n",
    "    read_data = pickle.load(data_input)\n",
    "    data_input.close\n",
    "    return read_data"
   ]
  },
  {
   "cell_type": "code",
   "execution_count": 28,
   "id": "0adbf785",
   "metadata": {},
   "outputs": [],
   "source": [
    "save_traj(traj)\n"
   ]
  },
  {
   "cell_type": "code",
   "execution_count": 22,
   "id": "d4f6499f",
   "metadata": {},
   "outputs": [],
   "source": [
    "import datetime\n",
    "filename = 'traj'+ datetime.datetime.now().strftime('%Y-%m-%dT%H-%M-%S')"
   ]
  },
  {
   "cell_type": "code",
   "execution_count": 29,
   "id": "38479941",
   "metadata": {},
   "outputs": [],
   "source": [
    "save_traj(traj2)\n"
   ]
  },
  {
   "cell_type": "code",
   "execution_count": 24,
   "id": "4437379f",
   "metadata": {},
   "outputs": [
    {
     "data": {
      "text/plain": [
       "str"
      ]
     },
     "execution_count": 24,
     "metadata": {},
     "output_type": "execute_result"
    }
   ],
   "source": [
    "type('a')"
   ]
  },
  {
   "cell_type": "code",
   "execution_count": 31,
   "id": "576242c9",
   "metadata": {},
   "outputs": [],
   "source": [
    "traj1 = read_traj(\"traj2022-02-16T01-50-12\")"
   ]
  },
  {
   "cell_type": "code",
   "execution_count": 32,
   "id": "1f6c5441",
   "metadata": {},
   "outputs": [
    {
     "data": {
      "text/plain": [
       "True"
      ]
     },
     "execution_count": 32,
     "metadata": {},
     "output_type": "execute_result"
    }
   ],
   "source": [
    "# Validation\n",
    "np.all(traj1 == traj)"
   ]
  },
  {
   "cell_type": "code",
   "execution_count": null,
   "id": "71e39464",
   "metadata": {},
   "outputs": [],
   "source": []
  },
  {
   "cell_type": "code",
   "execution_count": 1,
   "id": "8834a127",
   "metadata": {},
   "outputs": [],
   "source": [
    "def my_func(a,b=False):\n",
    "    if b:\n",
    "        return 0\n",
    "    return a"
   ]
  },
  {
   "cell_type": "code",
   "execution_count": 3,
   "id": "bd8d57cb",
   "metadata": {},
   "outputs": [
    {
     "data": {
      "text/plain": [
       "0"
      ]
     },
     "execution_count": 3,
     "metadata": {},
     "output_type": "execute_result"
    }
   ],
   "source": [
    "my_func(1, True)"
   ]
  },
  {
   "cell_type": "code",
   "execution_count": null,
   "id": "447f0ce3",
   "metadata": {},
   "outputs": [],
   "source": []
  }
 ],
 "metadata": {
  "kernelspec": {
   "display_name": "Python 3",
   "language": "python",
   "name": "python3"
  },
  "language_info": {
   "codemirror_mode": {
    "name": "ipython",
    "version": 3
   },
   "file_extension": ".py",
   "mimetype": "text/x-python",
   "name": "python",
   "nbconvert_exporter": "python",
   "pygments_lexer": "ipython3",
   "version": "3.8.8"
  }
 },
 "nbformat": 4,
 "nbformat_minor": 5
}
