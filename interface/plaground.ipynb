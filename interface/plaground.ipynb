{
 "cells": [
  {
   "cell_type": "code",
   "execution_count": null,
   "id": "eaff84b4-1be4-4cc2-ae9d-b9eb71e9e449",
   "metadata": {},
   "outputs": [],
   "source": [
    "import scipy.stats as stats\n",
    "import numpy as np\n",
    "\n",
    "x = np.linspace(0, 5, 10, endpoint=False)\n",
    "y = stats.multivariate_normal.pdf(x, mean=2.5, cov=0.5)"
   ]
  },
  {
   "cell_type": "code",
   "execution_count": null,
   "id": "cc8ce2e8",
   "metadata": {},
   "outputs": [],
   "source": [
    "y"
   ]
  },
  {
   "cell_type": "code",
   "execution_count": null,
   "id": "16717877",
   "metadata": {},
   "outputs": [],
   "source": [
    "x"
   ]
  },
  {
   "cell_type": "markdown",
   "id": "9609a2b7",
   "metadata": {},
   "source": [
    "## Matlab output(as ref)\n",
    "y =\n",
    "\n",
    "    0.0011\n",
    "    0.0103\n",
    "    0.0595\n",
    "    0.2076\n",
    "    0.4394\n",
    "    0.5642\n",
    "    0.4394\n",
    "    0.2076\n",
    "    0.0595\n",
    "    0.0103\n"
   ]
  },
  {
   "cell_type": "markdown",
   "id": "b15ed388",
   "metadata": {},
   "source": [
    "# Test for z-shape mumeric"
   ]
  },
  {
   "cell_type": "code",
   "execution_count": null,
   "id": "dd4d8923",
   "metadata": {},
   "outputs": [],
   "source": [
    "%matplotlib qt\n",
    "import numpy as np\n",
    "import scipy.stats as stats\n",
    "import matplotlib.pyplot as plt\n",
    "from matplotlib import cm\n",
    "from tqdm import tqdm\n",
    "\n",
    "def generate_potential_2d_Zshape_numeric(IN_n_states,flag_visualize):\n",
    "    \"\"\"\n",
    "    The Zshape surface is a weighted sum of 2d Normal distributions and\n",
    "    exponential functions\n",
    "    \n",
    "    INPUT : \n",
    "    [IN_n_states] : array with integers giving the number of states is each dimension\n",
    "    (IN_n_states = [100,50] then x = linspace(x_min,x_max,n_states(1)) and y = linspace(x_min,x_max,n_states(2))\n",
    "    [IN_n_states] : array with integers giving the number of states is each\n",
    "    \"\"\"\n",
    "    # Q1: Will we change the limit later? A: Not required, could be optional paras.\n",
    "    x_min = -2\n",
    "    x_max = 2\n",
    "    y_min = -1\n",
    "    y_max = 3\n",
    "    # Q2: The length of each range should be the same for now.\n",
    "\n",
    "    x = np.linspace(x_min,x_max,IN_n_states[0]);\n",
    "    y = np.linspace(y_min,y_max,IN_n_states[1]);\n",
    "\n",
    "    #---Hyper-parameters---#\n",
    "    border_coeff = 1; # Coefficient of borders \n",
    "    well_coeff = 10; # Coefficient of wells (larger value makes wells deeper and barrier between them bigger)\n",
    "\n",
    "\n",
    "    #---PARAMETERS OF NORMAL DISTRIBUTIONS---#\n",
    "    # Section \"Bivariate case\" in [https://en.wikipedia.org/wiki/Multivariate_normal_distribution]\n",
    "    mu_1 = [-1.5,-0.5]\n",
    "    mu_2 = [1.5,2.5]\n",
    "    sigm_center_well = 0.4 # Sigma of some of the wells, sigm for sigma\n",
    "    covar_mat_well = np.diag(np.dot(np.ones((len(IN_n_states))),sigm_center_well))\n",
    "    ###Debugging\n",
    "    print(covar_mat_well)\n",
    "\n",
    "    mu_3 = [-0.5, 0]\n",
    "    sig = [0.7, 0.28] # Origion: [1, 0.4] * 0.7 = result, flat one\n",
    "    ro = 0.7\n",
    "    colvar_mat_3 = [[sig[0]**2, ro*sig[0]*sig[1]],[ro*sig[0]*sig[1], sig[1]**2]]\n",
    "\n",
    "    mu_4 = [0, 1]\n",
    "    sig = [0.7, 0.7] # Origion: [1, 1] * 0.7, Diagonal one\n",
    "    ro = -0.8\n",
    "    colvar_mat_4 = [[sig[0]**2, ro*sig[0]*sig[1]],[ro*sig[0]*sig[1], sig[1]**2]]\n",
    "\n",
    "    mu_5 = [0.5, 2]\n",
    "    sig = [0.7, 0.28] # Origion: [1, 0.4] * 0.7 = result, flat one\n",
    "    ro = 0.7\n",
    "    colvar_mat_5 = [[sig[0]**2, ro*sig[0]*sig[1]],[ro*sig[0]*sig[1], sig[1]**2]]\n",
    "\n",
    "    #---INSTANTIATION---#\n",
    "    potential_numeric = np.zeros(IN_n_states)\n",
    "\n",
    "    #---Run---#\n",
    "    for x_id in tqdm(range(IN_n_states[0])):\n",
    "        for y_id in range(IN_n_states[1]):\n",
    "\n",
    "            #--Borders (Potential increase to infinity outside of [x_min,x_max] and [y_min,y_max])--#\n",
    "            border_1 = np.exp(x_min - x[x_id])\n",
    "            border_2 = np.exp(x[x_id] - x_max)\n",
    "            border_3 = np.exp(y_min - y[y_id])\n",
    "            border_4 = np.exp(y[y_id] - y_max)\n",
    "\n",
    "            #--WELLS--# # This requires multivariate normal distribution generating function\n",
    "            well_1 = stats.multivariate_normal.pdf(x=[x[x_id],y[y_id]],mean=mu_1, cov=covar_mat_well)\n",
    "            well_2 = stats.multivariate_normal.pdf(x=[x[x_id],y[y_id]],mean=mu_2, cov=covar_mat_well)\n",
    "            well_3 = stats.multivariate_normal.pdf(x=[x[x_id],y[y_id]],mean=mu_3, cov=colvar_mat_3) # Numeric expression\n",
    "            well_4 = stats.multivariate_normal.pdf(x=[x[x_id],y[y_id]],mean=mu_4, cov=colvar_mat_4)\n",
    "            well_5 = stats.multivariate_normal.pdf(x=[x[x_id],y[y_id]],mean=mu_5, cov=colvar_mat_5)  \n",
    "\n",
    "            border_contribution = (border_1 + border_2 + border_3 + border_4) * border_coeff\n",
    "            well_contribution = (well_1 + well_2+ well_3+ well_4 + well_5) * well_coeff\n",
    "\n",
    "            potential_numeric[x_id,y_id] = border_contribution - well_contribution\n",
    "\n",
    "    if flag_visualize:\n",
    "        #assert()\n",
    "        x, y = np.meshgrid(x, y)\n",
    "        z = potential_numeric\n",
    "        fig = plt.figure()\n",
    "        ax = plt.axes(projection='3d')\n",
    "\n",
    "        surf = ax.plot_surface(x,y,z,cmap=cm.coolwarm,\\\n",
    "                            linewidth=0, antialiased=False)\n",
    "        ax.set_xlabel('x')\n",
    "        ax.set_ylabel('y')\n",
    "        ax.set_zlabel('z')\n",
    "\n",
    "        fig.colorbar(surf, shrink=0.5, aspect=5)\n",
    "        \n",
    "    return potential_numeric, x, y\n",
    "\n",
    "    # Sympy\n",
    "    # TODO"
   ]
  },
  {
   "cell_type": "code",
   "execution_count": null,
   "id": "a28dd175",
   "metadata": {},
   "outputs": [],
   "source": [
    "test_instates = [100,100]"
   ]
  },
  {
   "cell_type": "code",
   "execution_count": null,
   "id": "9f4afe71",
   "metadata": {},
   "outputs": [],
   "source": [
    "test_potential, test_x, test_y = generate_potential_2d_Zshape_numeric(test_instates, True)"
   ]
  },
  {
   "cell_type": "code",
   "execution_count": null,
   "id": "3f3dcc05",
   "metadata": {},
   "outputs": [],
   "source": []
  },
  {
   "cell_type": "code",
   "execution_count": null,
   "id": "098f838c",
   "metadata": {},
   "outputs": [],
   "source": [
    "%matplotlib qt\n",
    "import matplotlib.pyplot as plt\n",
    "from matplotlib import cm\n",
    "import numpy as np \n",
    "x = test_x\n",
    "y = test_y\n",
    "x, y = np.meshgrid(x, y)\n",
    "z = test_potential\n",
    "fig = plt.figure()\n",
    "ax = plt.axes(projection='3d')\n",
    "\n",
    "surf = ax.plot_surface(x,y,z,cmap=cm.coolwarm,\\\n",
    "                       linewidth=0, antialiased=False)\n",
    "ax.set_xlabel('x')\n",
    "ax.set_ylabel('y')\n",
    "ax.set_zlabel('z')\n",
    "\n",
    "fig.colorbar(surf, shrink=0.5, aspect=5)\n"
   ]
  },
  {
   "cell_type": "code",
   "execution_count": null,
   "id": "5deda6d9",
   "metadata": {},
   "outputs": [],
   "source": [
    "import numpy as np\n",
    "import sympy as spy\n",
    "\n",
    "def generate_potential_2d_spirals_numeric(IN_n_states,IN_number_of_branches,flag_visualize):\n",
    "    \"\"\"\n",
    "    The spiral surface is a modification of the Anormal distribution, which is\n",
    "    a kind of generalization of the multivariate normal distribution\n",
    "\n",
    "    INPUT : \n",
    "    [IN_n_states] : array with integers giving the number of states is each dimension\n",
    "    (IN_n_states = [100,50] then x = linspace(x_min,x_max,n_states(1)) and y = linspace(x_min,x_max,n_states(2))\n",
    "    [IN_n_states] : array with integers giving the number of states is each\n",
    "    \"\"\"\n",
    "    x_min = -20\n",
    "    x_max = 20\n",
    "    y_min = -20\n",
    "    y_max = 20\n",
    "\n",
    "    x = np.linspace(x_min,x_max,IN_n_states[0])\n",
    "    y = np.linspace(y_min,y_max,IN_n_states[1])\n",
    "\n",
    "    # Hyper Parameters\n",
    "    sigma = 0.35 # Spiral\n",
    "    warping_coeff = 0.01\n",
    "    decrease_coeff = 0.05 # decrease how Potential decrease when we get further from center\n",
    "    sinus_to_distance_coeff = 0.1\n",
    "\n",
    "    # Instantiation\n",
    "    potential_numeric = np.zeros(IN_n_states)\n",
    "\n",
    "    # Run\n",
    "    n_petals = IN_number_of_branches\n",
    "    for x_id in tqdm(range(IN_n_states[0])):\n",
    "        for y_id in range(IN_n_states[1]):\n",
    "\n",
    "            # Transform coordinates from (x,y) to (angle,Distance)\n",
    "            angle = np.arctan2(x[x_id], y[y_id])\n",
    "            distance_squared = x[x_id]**2 + y[y_id]**2;  # BIG MODIFICATION\n",
    "            \n",
    "            # Use the chosen shape function\n",
    "            r = (np.sin((angle+warping_coeff*distance_squared)*n_petals)*sinus_to_distance_coeff*distance_squared+2)\n",
    "\n",
    "            # Apply the formula\n",
    "            potential_numeric[x_id,y_id] = -1*np.exp( -1/2*(1)/(sigma*r)**2)*(1+decrease_coeff*distance_squared)\n",
    "\n",
    "    potential_numeric = potential_numeric - np.min(potential_numeric[:]) # Shift so that minimum=0\n",
    "    potential_numeric = potential_numeric/np.sum(potential_numeric[:]) # Normalize at the end because used non-normalized shape function r.\n",
    "\n",
    "    if flag_visualize:\n",
    "        x, y = np.meshgrid(x, y)\n",
    "        z = potential_numeric\n",
    "        fig = plt.figure()\n",
    "        ax = plt.axes(projection='3d')\n",
    "\n",
    "        surf = ax.plot_surface(x,y,z,cmap=cm.coolwarm,\\\n",
    "                            linewidth=0, antialiased=False)\n",
    "        ax.set_xlabel('x')\n",
    "        ax.set_ylabel('y')\n",
    "        ax.set_zlabel('z')\n",
    "\n",
    "        fig.colorbar(surf, shrink=0.5, aspect=5)\n",
    "        \n",
    "    return potential_numeric, x, y\n",
    "\n",
    "# Sympy\n",
    "# TODO"
   ]
  },
  {
   "cell_type": "code",
   "execution_count": null,
   "id": "72ac487e",
   "metadata": {},
   "outputs": [],
   "source": [
    "test_potential, test_x, test_y = generate_potential_2d_spirals_numeric([100,100], 2, True)"
   ]
  },
  {
   "cell_type": "code",
   "execution_count": null,
   "id": "3a025a24",
   "metadata": {},
   "outputs": [],
   "source": [
    "test_potential, test_x, test_y = generate_potential_2d_Zshape_numeric(test_instates, True)"
   ]
  },
  {
   "cell_type": "code",
   "execution_count": null,
   "id": "5daf7133",
   "metadata": {},
   "outputs": [],
   "source": [
    "a = np.array([np.nan] * 100)\n",
    "a_affix = [1] * 50"
   ]
  },
  {
   "cell_type": "code",
   "execution_count": null,
   "id": "b4d1bf0c",
   "metadata": {},
   "outputs": [],
   "source": [
    "b = range(100)"
   ]
  },
  {
   "cell_type": "code",
   "execution_count": null,
   "id": "d9f35931",
   "metadata": {},
   "outputs": [],
   "source": [
    "%matplotlib inline\n",
    "a[0:50] = 1\n",
    "plt.plot(b,a)\n",
    "plt.show()"
   ]
  },
  {
   "cell_type": "code",
   "execution_count": null,
   "id": "b661add9",
   "metadata": {},
   "outputs": [],
   "source": [
    "print(a)"
   ]
  },
  {
   "cell_type": "code",
   "execution_count": null,
   "id": "54ab4302",
   "metadata": {},
   "outputs": [],
   "source": [
    "import sympy as spy\n",
    "from math import exp, atan2\n",
    "import numpy as np"
   ]
  },
  {
   "cell_type": "code",
   "execution_count": null,
   "id": "b3ddaf01",
   "metadata": {},
   "outputs": [],
   "source": [
    "spy.symbols?"
   ]
  },
  {
   "cell_type": "code",
   "execution_count": null,
   "id": "101d6562",
   "metadata": {},
   "outputs": [],
   "source": [
    "a = spy.symbols('a', real=True)"
   ]
  },
  {
   "cell_type": "code",
   "execution_count": null,
   "id": "59d18103",
   "metadata": {},
   "outputs": [],
   "source": [
    "b = 0.2"
   ]
  },
  {
   "cell_type": "code",
   "execution_count": null,
   "id": "b88be28f",
   "metadata": {},
   "outputs": [],
   "source": [
    "c = b * a * spy.exp(a)"
   ]
  },
  {
   "cell_type": "code",
   "execution_count": null,
   "id": "58093c6c",
   "metadata": {},
   "outputs": [],
   "source": [
    "c.subs(a, 0.2)"
   ]
  },
  {
   "cell_type": "code",
   "execution_count": null,
   "id": "35d02394",
   "metadata": {},
   "outputs": [],
   "source": [
    "x, y = spy.symbols('x, y', real=True)\n"
   ]
  },
  {
   "cell_type": "code",
   "execution_count": null,
   "id": "f9166e19",
   "metadata": {},
   "outputs": [],
   "source": [
    "z = atan2(x.subs(x, 2), y.subs(y, 2))"
   ]
  },
  {
   "cell_type": "code",
   "execution_count": null,
   "id": "a488541f",
   "metadata": {},
   "outputs": [],
   "source": [
    "z"
   ]
  },
  {
   "cell_type": "code",
   "execution_count": null,
   "id": "c5292b1d",
   "metadata": {},
   "outputs": [],
   "source": [
    "z = spy.atan2(x,y)"
   ]
  },
  {
   "cell_type": "code",
   "execution_count": null,
   "id": "5f468bec",
   "metadata": {},
   "outputs": [],
   "source": [
    "z.subs?"
   ]
  },
  {
   "cell_type": "code",
   "execution_count": null,
   "id": "d8b75f80",
   "metadata": {},
   "outputs": [],
   "source": [
    "a"
   ]
  },
  {
   "cell_type": "code",
   "execution_count": null,
   "id": "1a2fd8d5",
   "metadata": {},
   "outputs": [],
   "source": [
    "x,y"
   ]
  },
  {
   "cell_type": "code",
   "execution_count": null,
   "id": "8b464695",
   "metadata": {},
   "outputs": [],
   "source": [
    "x"
   ]
  },
  {
   "cell_type": "code",
   "execution_count": null,
   "id": "cfe807ae",
   "metadata": {},
   "outputs": [],
   "source": [
    "y"
   ]
  },
  {
   "cell_type": "code",
   "execution_count": null,
   "id": "683505a4",
   "metadata": {},
   "outputs": [],
   "source": [
    "z = x ** y"
   ]
  },
  {
   "cell_type": "code",
   "execution_count": null,
   "id": "e0e7e72e",
   "metadata": {},
   "outputs": [],
   "source": [
    "(x**x).diff(x)"
   ]
  },
  {
   "cell_type": "code",
   "execution_count": null,
   "id": "d1edcb22",
   "metadata": {},
   "outputs": [],
   "source": [
    "x = 1"
   ]
  },
  {
   "cell_type": "code",
   "execution_count": null,
   "id": "9de45fe3",
   "metadata": {},
   "outputs": [],
   "source": [
    "z"
   ]
  },
  {
   "cell_type": "code",
   "execution_count": null,
   "id": "941d5775",
   "metadata": {},
   "outputs": [],
   "source": [
    "z.subs(x,x)"
   ]
  },
  {
   "cell_type": "code",
   "execution_count": null,
   "id": "57adb293",
   "metadata": {},
   "outputs": [],
   "source": [
    "z.subs(y,x)"
   ]
  },
  {
   "cell_type": "code",
   "execution_count": null,
   "id": "f9f3a14c",
   "metadata": {},
   "outputs": [],
   "source": [
    "z"
   ]
  },
  {
   "cell_type": "code",
   "execution_count": null,
   "id": "c2c025de",
   "metadata": {},
   "outputs": [],
   "source": [
    "x, y, z = spy.symbols('x, y, z')"
   ]
  },
  {
   "cell_type": "code",
   "execution_count": null,
   "id": "528c5210",
   "metadata": {},
   "outputs": [],
   "source": [
    "z = x + y"
   ]
  },
  {
   "cell_type": "code",
   "execution_count": null,
   "id": "24ef01a7",
   "metadata": {},
   "outputs": [],
   "source": [
    "z"
   ]
  },
  {
   "cell_type": "code",
   "execution_count": null,
   "id": "42485cee",
   "metadata": {},
   "outputs": [],
   "source": [
    "z_value = z"
   ]
  },
  {
   "cell_type": "code",
   "execution_count": null,
   "id": "88f656cc",
   "metadata": {},
   "outputs": [],
   "source": [
    "val = z_value.subs([x,y],[1,2])"
   ]
  },
  {
   "cell_type": "code",
   "execution_count": null,
   "id": "cc984e0a",
   "metadata": {},
   "outputs": [],
   "source": [
    "import sympy as spy"
   ]
  },
  {
   "cell_type": "code",
   "execution_count": null,
   "id": "e19aaf3d",
   "metadata": {},
   "outputs": [],
   "source": [
    "value = val.subs({x:1,y:1})"
   ]
  },
  {
   "cell_type": "code",
   "execution_count": null,
   "id": "03f5bb0f",
   "metadata": {},
   "outputs": [],
   "source": [
    "int(value)"
   ]
  },
  {
   "cell_type": "code",
   "execution_count": null,
   "id": "809d015c",
   "metadata": {},
   "outputs": [],
   "source": [
    "z"
   ]
  },
  {
   "cell_type": "code",
   "execution_count": null,
   "id": "f3eacfd2",
   "metadata": {},
   "outputs": [],
   "source": [
    "a = z + z"
   ]
  },
  {
   "cell_type": "code",
   "execution_count": null,
   "id": "c69de4df",
   "metadata": {},
   "outputs": [],
   "source": [
    "a"
   ]
  },
  {
   "cell_type": "code",
   "execution_count": null,
   "id": "ed39876b",
   "metadata": {},
   "outputs": [],
   "source": [
    "#Pre set coeffs\n",
    "IN_n_states = [100, 100]\n",
    "IN_number_of_branches = 2\n",
    "\n",
    "# Hyper Parameters\n",
    "sigma = 0.35 # Spiral\n",
    "warping_coeff = 0.01\n",
    "decrease_coeff = 0.05 # decrease how Potential decrease when we get further from center\n",
    "sinus_to_distance_coeff = 0.1\n",
    "\n",
    "# Instantiation\n",
    "potential_numeric = np.zeros(IN_n_states)\n",
    "n_petals = IN_number_of_branches\n",
    "\n",
    "#--Symbolic Version of the potential--#\n",
    "# Requires Sympy\n",
    "\n",
    "# Symbolic variables for symbolic expression of the potential\n",
    "x_symb, y_symb = spy.symbols('x_symb, y_symb', real=True)\n",
    "\n",
    "# Transform coordinates from (x, y) to (angle, Distance)\n",
    "angle_symb = spy.atan2(x_symb, y_symb)\n",
    "distance_squared_symb = x_symb ** 2 + y_symb ** 2\n",
    "\n",
    "# Use the chosen shape function\n",
    "r_symb = (spy.sin((angle_symb + warping_coeff * distance_squared_symb) * n_petals) * sinus_to_distance_coeff * distance_squared_symb + 2)\n",
    "\n",
    "# Apply the formula\n",
    "potential_symbolic = -1*spy.exp( -1/2*(1)/(sigma*r_symb)**2)*(1+decrease_coeff*distance_squared_symb)"
   ]
  },
  {
   "cell_type": "code",
   "execution_count": null,
   "id": "a081d2bc",
   "metadata": {},
   "outputs": [],
   "source": [
    "val.subs?"
   ]
  },
  {
   "cell_type": "code",
   "execution_count": null,
   "id": "6d0c353e",
   "metadata": {},
   "outputs": [],
   "source": [
    "potential_symbolic.subs({x:1,y:1})"
   ]
  },
  {
   "cell_type": "code",
   "execution_count": null,
   "id": "34124bb2",
   "metadata": {},
   "outputs": [],
   "source": [
    "val.evalf(subs={x_symb:2,y_symb:2})"
   ]
  },
  {
   "cell_type": "code",
   "execution_count": null,
   "id": "b61de913",
   "metadata": {},
   "outputs": [],
   "source": [
    "val"
   ]
  },
  {
   "cell_type": "code",
   "execution_count": null,
   "id": "ffa7d60f",
   "metadata": {},
   "outputs": [],
   "source": [
    "from time import time\n",
    "import numpy as np\n",
    "import scipy.stats as stats\n",
    "import matplotlib.pyplot as plt\n",
    "from matplotlib import cm\n",
    "from tqdm import tqdm\n",
    "import sympy as spy\n",
    "\n",
    "def generate_potential_2d_spirals_numeric(IN_n_states,IN_number_of_branches,flag_visualize):\n",
    "    \"\"\"\n",
    "    The spiral surface is a modification of the Anormal distribution, which is\n",
    "    a kind of generalization of the multivariate normal distribution\n",
    "\n",
    "    INPUT : \n",
    "    [IN_n_states] : array with integers giving the number of states is each dimension\n",
    "    (IN_n_states = [100,50] then x = linspace(x_min,x_max,n_states(1)) and y = linspace(x_min,x_max,n_states(2))\n",
    "    [IN_n_states] : array with integers giving the number of states is each\n",
    "    \"\"\"\n",
    "    start = time()\n",
    "    x_min = -20\n",
    "    x_max = 20\n",
    "    y_min = -20\n",
    "    y_max = 20\n",
    "\n",
    "    x = np.linspace(x_min,x_max,IN_n_states[0])\n",
    "    y = np.linspace(y_min,y_max,IN_n_states[1])\n",
    "    end = time()\n",
    "    print(\"Time: \", end - start)\n",
    "    # Hyper Parameters\n",
    "    start = time()\n",
    "    sigma = 0.35 # Spiral\n",
    "    warping_coeff = 0.01\n",
    "    decrease_coeff = 0.05 # decrease how Potential decrease when we get further from center\n",
    "    sinus_to_distance_coeff = 0.1\n",
    "    end = time()\n",
    "    print(\"Time: \", end - start)\n",
    "    # Instantiation\n",
    "    potential_numeric = np.zeros(IN_n_states)\n",
    "\n",
    "    # Run\n",
    "    n_petals = IN_number_of_branches\n",
    "    for x_id in tqdm(range(IN_n_states[0])):\n",
    "        for y_id in range(IN_n_states[1]):\n",
    "\n",
    "            # Transform coordinates from (x,y) to (angle,Distance)\n",
    "            angle = np.arctan2(x[x_id], y[y_id])\n",
    "            distance_squared = x[x_id]**2 + y[y_id]**2;  # BIG MODIFICATION\n",
    "            \n",
    "            # Use the chosen shape function\n",
    "            r = (np.sin((angle+warping_coeff*distance_squared)*n_petals)*sinus_to_distance_coeff*distance_squared+2)\n",
    "\n",
    "            # Apply the formula\n",
    "            potential_numeric[x_id,y_id] = -1*np.exp( -1/2*(1)/(sigma*r)**2)*(1+decrease_coeff*distance_squared)\n",
    "\n",
    "    potential_numeric = potential_numeric - np.min(potential_numeric[:]) # Shift so that minimum=0\n",
    "    potential_numeric = potential_numeric/np.sum(potential_numeric[:]) # Normalize at the end because used non-normalized shape function r.\n",
    "\n",
    "    if flag_visualize:\n",
    "        x, y = np.meshgrid(x, y)\n",
    "        z = potential_numeric\n",
    "        fig = plt.figure()\n",
    "        ax = plt.axes(projection='3d')\n",
    "\n",
    "        surf = ax.plot_surface(x,y,z,cmap=cm.coolwarm,\\\n",
    "                            linewidth=0, antialiased=False)\n",
    "        ax.set_xlabel('x')\n",
    "        ax.set_ylabel('y')\n",
    "        ax.set_zlabel('z')\n",
    "\n",
    "        fig.colorbar(surf, shrink=0.5, aspect=5)\n",
    "        \n",
    "    return x, y, potential_numeric\n",
    "\n",
    "\n",
    "def generate_potential_2d_spirals_symbolic(IN_n_states,IN_number_of_branches,flag_visualize):\n",
    "    # Sympy\n",
    "    start = time()\n",
    "    x_min = -20\n",
    "    x_max = 20\n",
    "    y_min = -20\n",
    "    y_max = 20\n",
    "\n",
    "    x = np.linspace(x_min,x_max,IN_n_states[0])\n",
    "    y = np.linspace(y_min,y_max,IN_n_states[1])\n",
    "\n",
    "    # Hyper Parameters\n",
    "    sigma = 0.35 # Spiral\n",
    "    warping_coeff = 0.01\n",
    "    decrease_coeff = 0.05 # decrease how Potential decrease when we get further from center\n",
    "    sinus_to_distance_coeff = 0.1\n",
    "\n",
    "    # Instantiation\n",
    "    potential_symbolic_value = np.zeros(IN_n_states)\n",
    "    n_petals = IN_number_of_branches\n",
    "\n",
    "    #--Symbolic Version of the potential--#\n",
    "    # Requires Sympy\n",
    "\n",
    "    # Symbolic variables for symbolic expression of the potential\n",
    "    x_symb, y_symb = spy.symbols('x_symb, y_symb', real=True)\n",
    "\n",
    "    # Transform coordinates from (x, y) to (angle, Distance)\n",
    "    angle_symb = spy.atan2(x_symb, y_symb)\n",
    "    distance_squared_symb = x_symb ** 2 + y_symb ** 2\n",
    "\n",
    "    # Use the chosen shape function\n",
    "    r_symb = (spy.sin((angle_symb + warping_coeff * distance_squared_symb) * n_petals) * sinus_to_distance_coeff * distance_squared_symb + 2)\n",
    "\n",
    "    # Apply the formula\n",
    "    potential_symbolic = -1*spy.exp( -1/2*(1)/(sigma*r_symb)**2)*(1+decrease_coeff*distance_squared_symb)\n",
    "    end = time()\n",
    "    print(\"Time generating the potential: \", end - start)\n",
    "    # Symbolic derivatives with respect to x and y\n",
    "    dpotsym_dx = potential_symbolic.diff(x_symb)\n",
    "    dpotsym_dy = potential_symbolic.diff(y_symb)\n",
    "\n",
    "    # Compute the expression over our discrete set of bins for checking purposes\n",
    "    # x = np.linspace(x_min, x_max, IN_n_states[0])\n",
    "    # y = np.linspace(y_min, y_max, IN_n_states[1])\n",
    "    start = time()\n",
    "    for x_id in tqdm(range(IN_n_states[0])):\n",
    "        for y_id in range(IN_n_states[1]):\n",
    "            start = time()\n",
    "            potential_symbolic_value[x_id, y_id] = potential_symbolic.evalf(n=10,subs={x_symb:x[x_id], y_symb:y[y_id]})\n",
    "            #print(\"Elapsed\", time() - start )\n",
    "\n",
    "    potential_symbolic_value = potential_symbolic_value - np.min(potential_symbolic_value[:]) # Shift so that minimum=0\n",
    "    potential_symbolic_value = potential_symbolic_value/np.sum(potential_symbolic_value[:]) # Normalize at the end because used non-normalized shape function r.\n",
    "    end = time()\n",
    "    print(\"Time substituting the discrete values: \", end - start)\n",
    "    if flag_visualize:\n",
    "        x, y = np.meshgrid(x, y)\n",
    "        z = potential_symbolic_value\n",
    "        fig = plt.figure()\n",
    "        ax = plt.axes(projection='3d')\n",
    "\n",
    "        surf = ax.plot_surface(x,y,z,cmap=cm.coolwarm,\\\n",
    "                            linewidth=0, antialiased=False)\n",
    "        ax.set_xlabel('x')\n",
    "        ax.set_ylabel('y')\n",
    "        ax.set_zlabel('z')\n",
    "\n",
    "        fig.colorbar(surf, shrink=0.5, aspect=5)\n",
    "\n",
    "    return x, y, potential_symbolic_value, potential_symbolic\n"
   ]
  },
  {
   "cell_type": "code",
   "execution_count": null,
   "id": "068f7575",
   "metadata": {},
   "outputs": [],
   "source": [
    "%matplotlib qt"
   ]
  },
  {
   "cell_type": "code",
   "execution_count": null,
   "id": "5d57ca38",
   "metadata": {},
   "outputs": [],
   "source": [
    "x_spy, y_spy, potential_spy, potential_func = generate_potential_2d_spirals_symbolic(IN_n_states=[100,100],IN_number_of_branches=2,flag_visualize=True)"
   ]
  },
  {
   "cell_type": "code",
   "execution_count": null,
   "id": "e7ec10ec",
   "metadata": {},
   "outputs": [],
   "source": [
    "x_num, y_num, potential_num = generate_potential_2d_spirals_numeric(IN_n_states=[100,100],IN_number_of_branches=2,flag_visualize=True)"
   ]
  },
  {
   "cell_type": "code",
   "execution_count": null,
   "id": "17c4b235",
   "metadata": {},
   "outputs": [],
   "source": [
    "z = spy.symbols('z')"
   ]
  },
  {
   "cell_type": "code",
   "execution_count": null,
   "id": "25af7b28",
   "metadata": {},
   "outputs": [],
   "source": [
    "from multiprocessing import Pool\n",
    "from itertools import combinations\n",
    "import numba as nb"
   ]
  },
  {
   "cell_type": "code",
   "execution_count": null,
   "id": "88627f2e",
   "metadata": {},
   "outputs": [],
   "source": [
    "x_test = np.linspace(0,1,10)\n",
    "y_test = np.linspace(0,1,10)\n",
    "\n",
    "def add_func(*inputs):\n",
    "    x = inputs[0]\n",
    "    y = inputs[1]\n",
    "    print(\"x+y:\")\n",
    "    return x + y\n",
    "\n",
    "# Serial runtime:\n",
    "\n",
    "\n",
    "def test_func_serial():\n",
    "    start = time()\n",
    "    for x in x_test:\n",
    "        for y in y_test:\n",
    "            test_result = add_func(x, y)\n",
    "    end = time()\n",
    "\n",
    "    print(\"Serial Runtime is:\", end - start)\n",
    "\n",
    "\n",
    "\n",
    "\n"
   ]
  },
  {
   "cell_type": "code",
   "execution_count": null,
   "id": "396c60cc",
   "metadata": {},
   "outputs": [],
   "source": [
    "# Mock list for parallel\n",
    "list_xy = []\n",
    "for x in x_test:\n",
    "    for y in y_test:\n",
    "        list_xy.append([x,y])\n",
    "# Parallelization runtime:\n",
    "print(\"I am running\")\n",
    "start = time()\n",
    "n_threads = 2\n",
    "print(\"threads done\")\n",
    "d = Pool(processes=int(n_threads))\n",
    "print(\"pool done\")\n",
    "striding = d.map(add_func, list_xy)\n",
    "print(\"calculating done\")\n",
    "d.close()\n",
    "d.join()\n",
    "\n",
    "end = time()"
   ]
  },
  {
   "cell_type": "code",
   "execution_count": null,
   "id": "b5252c10",
   "metadata": {},
   "outputs": [],
   "source": [
    "test_func_serial()\n",
    "test_func_parallel()"
   ]
  },
  {
   "cell_type": "code",
   "execution_count": null,
   "id": "ee50ef15",
   "metadata": {},
   "outputs": [],
   "source": [
    "a = [1,2,3]\n",
    "b = [4,5,6]\n",
    "[t for t in a]\n",
    "[k for k in ]\n",
    "[[t, k] for t, k in combinations(a,b)]"
   ]
  },
  {
   "cell_type": "code",
   "execution_count": null,
   "id": "90d57d94",
   "metadata": {},
   "outputs": [],
   "source": [
    "combinations?"
   ]
  },
  {
   "cell_type": "code",
   "execution_count": null,
   "id": "2b4cc2ce",
   "metadata": {},
   "outputs": [],
   "source": [
    "import itertools\n",
    "list1=['a','b','c']\n",
    "list2=[1,2]\n",
    "\n",
    "[list(zip(x,list2)) for x in itertools.permutations(list1,len(list2))]"
   ]
  },
  {
   "cell_type": "code",
   "execution_count": null,
   "id": "375b47f7",
   "metadata": {},
   "outputs": [],
   "source": [
    "c = np.meshgrid(a,b)"
   ]
  },
  {
   "cell_type": "code",
   "execution_count": null,
   "id": "c72a961a",
   "metadata": {},
   "outputs": [],
   "source": []
  },
  {
   "cell_type": "code",
   "execution_count": null,
   "id": "407f5beb",
   "metadata": {},
   "outputs": [],
   "source": [
    "np.arange(0,100)"
   ]
  },
  {
   "cell_type": "code",
   "execution_count": null,
   "id": "2fcd7e40",
   "metadata": {},
   "outputs": [],
   "source": [
    "np_vec_add_func = np.vectorize(add_func)"
   ]
  },
  {
   "cell_type": "code",
   "execution_count": null,
   "id": "bb125c16",
   "metadata": {},
   "outputs": [],
   "source": [
    "outputs = np_vec_add_func(1,2)"
   ]
  },
  {
   "cell_type": "code",
   "execution_count": null,
   "id": "3f733a42",
   "metadata": {},
   "outputs": [],
   "source": [
    "import numpy as np\n",
    "import scipy.stats as stats\n",
    "import matplotlib.pyplot as plt\n",
    "from matplotlib import cm\n",
    "from tqdm import tqdm\n",
    "import sympy as spy\n",
    "#----Utils----#\n",
    "\n",
    "\n",
    "def generate_potential_2d_Zshape_numeric(IN_n_states,flag_visualize):\n",
    "    \"\"\"\n",
    "    The Zshape surface is a weighted sum of 2d Normal distributions and\n",
    "    exponential functions\n",
    "    \n",
    "    INPUT : \n",
    "    [IN_n_states] : array with integers giving the number of states is each dimension\n",
    "    (IN_n_states = [100,50] then x = linspace(x_min,x_max,n_states(1)) and y = linspace(x_min,x_max,n_states(2))\n",
    "    [IN_n_states] : array with integers giving the number of states is each\n",
    "    \"\"\"\n",
    "    x_min = -2\n",
    "    x_max = 2\n",
    "    y_min = -1\n",
    "    y_max = 3\n",
    "\n",
    "    x = np.linspace(x_min,x_max,IN_n_states[0]);\n",
    "    y = np.linspace(y_min,y_max,IN_n_states[1]);\n",
    "\n",
    "    #---Hyper-parameters---#\n",
    "    border_coeff = 1; # Coefficient of borders \n",
    "    well_coeff = 10; # Coefficient of wells (larger value makes wells deeper and barrier between them bigger)\n",
    "\n",
    "\n",
    "    #---PARAMETERS OF NORMAL DISTRIBUTIONS---#\n",
    "    # Section \"Bivariate case\" in [https://en.wikipedia.org/wiki/Multivariate_normal_distribution]\n",
    "    mu_1 = [-1.5,-0.5]\n",
    "    mu_2 = [1.5,2.5]\n",
    "    sigm_center_well = 0.4 # Sigma of some of the wells, sigm for sigma\n",
    "    covar_mat_well = np.diag(np.dot(np.ones((len(IN_n_states))),sigm_center_well))\n",
    "    ###Debugging\n",
    "    print(covar_mat_well)\n",
    "\n",
    "    mu_3 = [-0.5, 0]\n",
    "    sig = [0.7, 0.28] # Origion: [1, 0.4] * 0.7 = result, flat one\n",
    "    ro = 0.7\n",
    "    colvar_mat_3 = [[sig[0]**2, ro*sig[0]*sig[1]],[ro*sig[0]*sig[1], sig[1]**2]]\n",
    "\n",
    "    mu_4 = [0, 1]\n",
    "    sig = [0.7, 0.7] # Origion: [1, 1] * 0.7, Diagonal one\n",
    "    ro = -0.8\n",
    "    colvar_mat_4 = [[sig[0]**2, ro*sig[0]*sig[1]],[ro*sig[0]*sig[1], sig[1]**2]]\n",
    "\n",
    "    mu_5 = [0.5, 2]\n",
    "    sig = [0.7, 0.28] # Origion: [1, 0.4] * 0.7 = result, flat one\n",
    "    ro = 0.7\n",
    "    colvar_mat_5 = [[sig[0]**2, ro*sig[0]*sig[1]],[ro*sig[0]*sig[1], sig[1]**2]]\n",
    "\n",
    "    #---INSTANTIATION---#\n",
    "    potential_numeric = np.zeros(IN_n_states)\n",
    "\n",
    "    #---Run---#\n",
    "    for x_id in tqdm(range(IN_n_states[0])):\n",
    "        for y_id in range(IN_n_states[1]):\n",
    "\n",
    "            #--Borders (Potential increase to infinity outside of [x_min,x_max] and [y_min,y_max])--#\n",
    "            border_1 = np.exp(x_min - x[x_id])\n",
    "            border_2 = np.exp(x[x_id] - x_max)\n",
    "            border_3 = np.exp(y_min - y[y_id])\n",
    "            border_4 = np.exp(y[y_id] - y_max)\n",
    "\n",
    "            #--WELLS--# # This requires multivariate normal distribution generating function\n",
    "            well_1 = stats.multivariate_normal.pdf(x=[x[x_id],y[y_id]],mean=mu_1, cov=covar_mat_well)\n",
    "            well_2 = stats.multivariate_normal.pdf(x=[x[x_id],y[y_id]],mean=mu_2, cov=covar_mat_well)\n",
    "            well_3 = stats.multivariate_normal.pdf(x=[x[x_id],y[y_id]],mean=mu_3, cov=colvar_mat_3) # Numeric expression\n",
    "            well_4 = stats.multivariate_normal.pdf(x=[x[x_id],y[y_id]],mean=mu_4, cov=colvar_mat_4)\n",
    "            well_5 = stats.multivariate_normal.pdf(x=[x[x_id],y[y_id]],mean=mu_5, cov=colvar_mat_5)  \n",
    "\n",
    "            border_contribution = (border_1 + border_2 + border_3 + border_4) * border_coeff\n",
    "            well_contribution = (well_1 + well_2+ well_3+ well_4 + well_5) * well_coeff\n",
    "\n",
    "            potential_numeric[x_id,y_id] = border_contribution - well_contribution\n",
    "\n",
    "    return potential_numeric, x, y\n",
    "\n",
    "    # Sympy\n",
    "    # TODO"
   ]
  },
  {
   "cell_type": "code",
   "execution_count": null,
   "id": "64209323",
   "metadata": {},
   "outputs": [],
   "source": [
    "%matplotlib qt"
   ]
  },
  {
   "cell_type": "code",
   "execution_count": null,
   "id": "7c3962f7",
   "metadata": {},
   "outputs": [],
   "source": [
    "generate_potential_2d_Zshape_numeric(IN_n_states=[100,100],flag_visualize=True)"
   ]
  },
  {
   "cell_type": "code",
   "execution_count": null,
   "id": "1d22e661",
   "metadata": {},
   "outputs": [],
   "source": [
    "n_points = [10, 20, 30, 50, 100]\n",
    "n_times = []\n",
    "for i in n_points:\n",
    "    start = time()\n",
    "    x_spy, y_spy, potential_spy, potential_func = generate_potential_2d_spirals_symbolic(IN_n_states=[i,i],IN_number_of_branches=2,flag_visualize=False)\n",
    "    end = time()\n",
    "    n_times.append(end - start)\n",
    "\n",
    "plt.xlabel('Number of IN_n_states')\n",
    "plt.ylabel('Time consumption (s)')\n",
    "plt.plot(n_points, n_times)\n",
    "plt.show()\n"
   ]
  },
  {
   "cell_type": "code",
   "execution_count": null,
   "id": "b648a49c",
   "metadata": {},
   "outputs": [],
   "source": [
    "plt.xlabel('Number of IN_n_states')\n",
    "plt.ylabel('Time consumption (s)')\n",
    "plt.plot(n_points, n_times)\n",
    "plt.title('Time Consumption for n_petals = 2')\n",
    "plt.show()"
   ]
  },
  {
   "cell_type": "markdown",
   "id": "a5e4b7a8",
   "metadata": {},
   "source": [
    "# Importing files"
   ]
  },
  {
   "cell_type": "code",
   "execution_count": null,
   "id": "1eb656ee",
   "metadata": {},
   "outputs": [],
   "source": [
    "from generate_potential_2d_spiral import *\n",
    "from generate_potential_2d_Zshape import *\n"
   ]
  },
  {
   "cell_type": "markdown",
   "id": "230c7908",
   "metadata": {},
   "source": [
    "## - numeric plots"
   ]
  },
  {
   "cell_type": "code",
   "execution_count": null,
   "id": "a29e0721",
   "metadata": {},
   "outputs": [],
   "source": [
    "%matplotlib qt\n",
    "generate_potential_2d_spirals_numeric(IN_n_states=[100,100],IN_number_of_branches=2,flag_visualize=True)"
   ]
  },
  {
   "cell_type": "code",
   "execution_count": null,
   "id": "430c95dc",
   "metadata": {},
   "outputs": [],
   "source": []
  },
  {
   "cell_type": "markdown",
   "id": "20b8ea35",
   "metadata": {},
   "source": []
  },
  {
   "cell_type": "code",
   "execution_count": 2,
   "id": "04565048",
   "metadata": {},
   "outputs": [],
   "source": [
    "#from generate_trajectory_Langevin_2D_from_symbolic import *\n",
    "import sys\n",
    "sys.path.append('..')\n",
    "from generate_potential_2d_spiral import *\n",
    "from generate_potential_2d_Zshape import *\n",
    "import numpy as np\n",
    "import scipy.stats as stats\n",
    "import matplotlib.pyplot as plt\n",
    "from matplotlib import cm\n",
    "from tqdm import tqdm\n",
    "import sympy as spy\n",
    "import time\n",
    "\n",
    "def generate_trajectory_Langevin_from_symbolic_2D(potential_symbolic,position_initial, friction,simul_lagtime,n_steps):\n",
    "    KbT = 0.5981\n",
    "\n",
    "    # Temp vars is not required since symbolic math would include them directly\n",
    "    # But it would be good to take a log as debugging propose \n",
    "    t1 = time.time()\n",
    "    temp_vars = potential_symbolic.free_symbols\n",
    "    print(temp_vars)\n",
    "    n_dim = len(temp_vars)\n",
    "    x_symb, y_symb = list(temp_vars) \n",
    "    print(temp_vars)\n",
    "    t2 = time.time()\n",
    "    print('part1:', t2-t1)\n",
    "    # Symbolic derivatives with respect to x and y\n",
    "    # x_symb and y_symb is includeded in the potential symbolic equations that passed into this function\n",
    "    t1 = time.time()\n",
    "    dpotsym_dx = potential_symbolic.diff(x_symb)\n",
    "    dpotsym_dy = potential_symbolic.diff(y_symb)    \n",
    "    t2 = time.time()\n",
    "    print('part2:', t2-t1)\n",
    "    #Initialize the traj container\n",
    "    t1 = time.time()\n",
    "    traj_langevin = np.zeros((n_dim, n_steps))\n",
    "    traj_langevin[:,0] = position_initial # Transfer indices from matlab to python: -1 each, start from 0\n",
    "    t2 = time.time()\n",
    "    print('part3:', t2 - t1)\n",
    "\n",
    "    t1 = time.time()\n",
    "    for step in tqdm(range(1,n_steps)):\n",
    "        x_symb_val = traj_langevin[0, step-1] # Update values of x_symb for current position\n",
    "        y_symb_val = traj_langevin[1, step-1]\n",
    "        subs_dict = {x_symb:x_symb_val,y_symb:y_symb_val}\n",
    "        drift = np.dot(-1,[dpotsym_dx.evalf(subs=subs_dict), dpotsym_dy.evalf(subs=subs_dict)])\n",
    "\n",
    "        traj_langevin[:, step] = traj_langevin[:, step-1] + drift * simul_lagtime/friction + np.dot(np.random.randn(2,),np.sqrt(simul_lagtime*KbT/friction))\n",
    "    t2 = time.time()\n",
    "    print('part4:', t2-t1)\n",
    "    return traj_langevin, dpotsym_dx, dpotsym_dx\n"
   ]
  },
  {
   "cell_type": "code",
   "execution_count": 3,
   "id": "ad51359a",
   "metadata": {},
   "outputs": [],
   "source": [
    "spiral_potential_symbolic,_,_ = generate_potential_2d_spirals_symbolic(IN_n_states=[100,100],IN_number_of_branches=2,flag_visualize=False, flag_puresymbolic=True)"
   ]
  },
  {
   "cell_type": "code",
   "execution_count": 4,
   "id": "0e91c483",
   "metadata": {},
   "outputs": [
    {
     "data": {
      "text/latex": [
       "$\\displaystyle - \\left(0.05 x_{symb}^{2} + 0.05 y_{symb}^{2} + 1\\right) e^{- \\frac{1.02040816326531}{\\left(0.05 \\left(x_{symb}^{2} + y_{symb}^{2}\\right) \\sin{\\left(0.02 x_{symb}^{2} + 0.02 y_{symb}^{2} + 2 \\operatorname{atan_{2}}{\\left(x_{symb},y_{symb} \\right)} \\right)} + 1\\right)^{2}}}$"
      ],
      "text/plain": [
       "-(0.05*x_symb**2 + 0.05*y_symb**2 + 1)*exp(-1.02040816326531/(0.05*(x_symb**2 + y_symb**2)*sin(0.02*x_symb**2 + 0.02*y_symb**2 + 2*atan2(x_symb, y_symb)) + 1)**2)"
      ]
     },
     "execution_count": 4,
     "metadata": {},
     "output_type": "execute_result"
    }
   ],
   "source": [
    "spiral_potential_symbolic"
   ]
  },
  {
   "cell_type": "code",
   "execution_count": 5,
   "id": "af3f5141",
   "metadata": {},
   "outputs": [
    {
     "name": "stderr",
     "output_type": "stream",
     "text": [
      "  0%|          | 1/499 [00:00<00:57,  8.67it/s]"
     ]
    },
    {
     "name": "stdout",
     "output_type": "stream",
     "text": [
      "{y_symb, x_symb}\n",
      "{y_symb, x_symb}\n",
      "part1: 0.0005011558532714844\n",
      "part2: 0.0009992122650146484\n",
      "part3: 0.00011610984802246094\n"
     ]
    },
    {
     "name": "stderr",
     "output_type": "stream",
     "text": [
      "100%|██████████| 499/499 [00:49<00:00, 10.10it/s]"
     ]
    },
    {
     "name": "stdout",
     "output_type": "stream",
     "text": [
      "part4: 49.44262385368347\n"
     ]
    },
    {
     "name": "stderr",
     "output_type": "stream",
     "text": [
      "\n"
     ]
    }
   ],
   "source": [
    "traj2, dx, dy = generate_trajectory_Langevin_from_symbolic_2D(spiral_potential_symbolic,position_initial=[0.01,0.01], friction=10,simul_lagtime=0.1,n_steps=500)"
   ]
  },
  {
   "cell_type": "code",
   "execution_count": 6,
   "id": "5940a384",
   "metadata": {},
   "outputs": [
    {
     "data": {
      "text/plain": [
       "array([[ 1.00000000e-02,  7.76466552e-02, -9.28993466e-03,\n",
       "         2.01741394e-01,  1.36852454e-01,  3.24842366e-02,\n",
       "         1.16461611e-01,  1.70261914e-01,  7.81349657e-02,\n",
       "         1.66537265e-01,  6.05242575e-02,  2.42610551e-01,\n",
       "         3.33220559e-01,  3.26877253e-01,  2.26722976e-01,\n",
       "         2.28509773e-01,  2.16884488e-01,  1.32014127e-01,\n",
       "         5.38927308e-02,  4.34417800e-02,  8.37251655e-02,\n",
       "         1.90910637e-02, -4.17918437e-02,  5.40868328e-02,\n",
       "        -1.55791868e-02, -9.41734406e-03,  2.81541584e-03,\n",
       "         1.32133443e-01,  2.14029204e-01,  2.17431505e-01,\n",
       "         2.31501346e-01,  1.43196937e-01,  1.53771907e-01,\n",
       "         3.06791710e-01,  3.15435112e-01,  2.50084863e-01,\n",
       "         1.59853312e-01,  1.13102894e-01,  1.01681742e-01,\n",
       "         7.30892809e-02,  3.74913731e-02,  4.21594645e-02,\n",
       "         8.86544828e-03, -5.61637160e-02, -1.83328130e-01,\n",
       "        -2.26447005e-01, -2.89180839e-01, -2.69747525e-01,\n",
       "        -3.33531443e-01, -3.01197293e-01, -3.92641625e-01,\n",
       "        -3.87116596e-01, -5.02863963e-01, -4.17415782e-01,\n",
       "        -5.18334583e-01, -6.80325555e-01, -7.95376101e-01,\n",
       "        -8.10172262e-01, -8.07018236e-01, -8.72158433e-01,\n",
       "        -8.86341725e-01, -7.61765014e-01, -6.75811358e-01,\n",
       "        -6.72916396e-01, -7.18314184e-01, -7.87288495e-01,\n",
       "        -6.77409570e-01, -5.63415620e-01, -6.02756414e-01,\n",
       "        -5.93040784e-01, -4.49650409e-01, -3.50004485e-01,\n",
       "        -3.46805397e-01, -2.74790455e-01, -2.93585686e-01,\n",
       "        -2.28433250e-01, -2.20327122e-01, -2.08601613e-01,\n",
       "        -2.42164292e-01, -2.76051434e-01, -2.82901705e-01,\n",
       "        -3.24250264e-01, -2.58630533e-01, -2.93438779e-01,\n",
       "        -2.81429234e-01, -3.80994873e-01, -3.13677957e-01,\n",
       "        -4.34082999e-01, -3.64609481e-01, -4.55601722e-01,\n",
       "        -4.97796180e-01, -6.94987642e-01, -6.20568578e-01,\n",
       "        -5.63286317e-01, -4.17509642e-01, -4.29418412e-01,\n",
       "        -3.32520138e-01, -4.92294406e-01, -5.86387109e-01,\n",
       "        -5.81696445e-01, -5.44930292e-01, -6.06120570e-01,\n",
       "        -6.89872124e-01, -5.64509121e-01, -6.47209622e-01,\n",
       "        -7.57400822e-01, -9.25615283e-01, -9.20611119e-01,\n",
       "        -9.59322002e-01, -8.24738584e-01, -9.02767064e-01,\n",
       "        -8.88812634e-01, -7.21952378e-01, -7.48242946e-01,\n",
       "        -7.43274857e-01, -8.48682467e-01, -8.30164696e-01,\n",
       "        -7.13087588e-01, -7.87048299e-01, -7.44651395e-01,\n",
       "        -6.04351667e-01, -5.58963903e-01, -6.65533780e-01,\n",
       "        -5.40646426e-01, -5.22062088e-01, -4.57718811e-01,\n",
       "        -3.78414407e-01, -4.56285051e-01, -5.23049408e-01,\n",
       "        -5.68525606e-01, -5.61047802e-01, -4.92476591e-01,\n",
       "        -5.55996938e-01, -5.82127900e-01, -6.20290600e-01,\n",
       "        -5.87124436e-01, -5.28119903e-01, -4.16104723e-01,\n",
       "        -3.75889507e-01, -3.24769521e-01, -4.89504668e-01,\n",
       "        -4.62152927e-01, -5.51421813e-01, -5.84440603e-01,\n",
       "        -6.35900109e-01, -6.29412841e-01, -5.21060362e-01,\n",
       "        -5.29879974e-01, -3.95811283e-01, -4.25732087e-01,\n",
       "        -4.11801044e-01, -4.36885817e-01, -4.80828518e-01,\n",
       "        -5.95177668e-01, -6.76929670e-01, -6.83685632e-01,\n",
       "        -6.55372630e-01, -7.03543142e-01, -6.98882993e-01,\n",
       "        -6.84388165e-01, -5.88915046e-01, -5.99608847e-01,\n",
       "        -7.45892960e-01, -6.67026839e-01, -6.89236153e-01,\n",
       "        -7.56717967e-01, -6.84542110e-01, -7.67585870e-01,\n",
       "        -7.03361153e-01, -7.32927939e-01, -7.19432450e-01,\n",
       "        -6.32961638e-01, -6.72279592e-01, -5.78677082e-01,\n",
       "        -5.83949909e-01, -6.66820120e-01, -6.58141363e-01,\n",
       "        -6.14265176e-01, -5.99508310e-01, -5.78356698e-01,\n",
       "        -5.21997250e-01, -2.65978233e-01, -2.65014788e-01,\n",
       "        -3.35785619e-01, -3.05052881e-01, -2.60627392e-01,\n",
       "        -3.17407736e-01, -2.09545030e-01, -1.93957490e-01,\n",
       "        -1.57270526e-01, -1.47857585e-01, -2.08129815e-01,\n",
       "        -1.27431012e-01, -1.30284931e-01, -9.83326189e-02,\n",
       "        -1.40160157e-01, -1.40702446e-01, -2.72158958e-01,\n",
       "        -1.95535250e-01, -8.67953504e-02, -3.47029624e-02,\n",
       "        -6.55409710e-02, -1.16826559e-01, -7.58666224e-02,\n",
       "        -1.68958400e-01, -4.75822497e-02, -1.02843461e-01,\n",
       "        -1.51090215e-01, -1.97386446e-01, -2.84004590e-01,\n",
       "        -1.82940247e-01, -1.63366191e-01, -1.88216588e-01,\n",
       "        -2.75824057e-01, -2.60918600e-01, -3.09781922e-01,\n",
       "        -2.96708844e-01, -2.43373354e-01, -2.37060981e-01,\n",
       "        -4.42375332e-01, -3.78646283e-01, -4.03780430e-01,\n",
       "        -3.82523520e-01, -2.75457024e-01, -1.95857688e-01,\n",
       "        -1.16641833e-01, -1.59666147e-01, -1.83049992e-01,\n",
       "        -1.41975667e-01, -6.79955543e-02, -1.01022503e-01,\n",
       "        -6.89427159e-02,  2.08348159e-02,  4.69250935e-02,\n",
       "        -2.95798404e-02, -5.49307997e-02, -2.22083566e-01,\n",
       "        -1.91945346e-01, -3.52393780e-01, -4.22740622e-01,\n",
       "        -4.06008944e-01, -4.46297354e-01, -4.56989174e-01,\n",
       "        -3.57827745e-01, -4.06268023e-01, -4.28068576e-01,\n",
       "        -4.77755501e-01, -5.16748365e-01, -4.97598087e-01,\n",
       "        -5.09453673e-01, -5.46657950e-01, -5.07752601e-01,\n",
       "        -4.73490290e-01, -4.39067442e-01, -4.53865250e-01,\n",
       "        -5.86403233e-01, -5.11701561e-01, -5.21883069e-01,\n",
       "        -5.19257382e-01, -3.93056904e-01, -3.05552916e-01,\n",
       "        -3.32563600e-01, -3.39452123e-01, -2.84434010e-01,\n",
       "        -1.54143835e-01, -2.70281272e-01, -3.92622365e-01,\n",
       "        -4.05874210e-01, -5.22245529e-01, -5.04724444e-01,\n",
       "        -5.09452770e-01, -4.45192921e-01, -3.12441498e-01,\n",
       "        -2.37850414e-01, -2.42810022e-01, -3.51627790e-01,\n",
       "        -3.79512858e-01, -2.98944389e-01, -2.33499770e-01,\n",
       "        -3.75516703e-01, -4.12424931e-01, -2.69223691e-01,\n",
       "        -3.92075049e-01, -4.28597307e-01, -3.77603404e-01,\n",
       "        -3.56045663e-01, -3.65834977e-01, -3.57722874e-01,\n",
       "        -3.53014610e-01, -4.95449963e-01, -5.31451183e-01,\n",
       "        -5.23969287e-01, -4.38863758e-01, -4.24798559e-01,\n",
       "        -3.51830960e-01, -4.67873838e-01, -3.22894050e-01,\n",
       "        -1.80203870e-01, -1.89228620e-01, -1.61838772e-01,\n",
       "        -1.76758919e-01, -2.76221947e-01, -3.14434382e-01,\n",
       "        -3.76298469e-01, -3.93889973e-01, -3.44859072e-01,\n",
       "        -3.09425850e-01, -3.73022128e-01, -4.57952400e-01,\n",
       "        -4.02462981e-01, -4.10495683e-01, -4.42704014e-01,\n",
       "        -3.82770396e-01, -3.31265436e-01, -2.49432387e-01,\n",
       "        -2.61252208e-01, -2.25626321e-01, -3.31257763e-01,\n",
       "        -2.78291614e-01, -3.17227640e-01, -3.03404231e-01,\n",
       "        -4.10584254e-01, -4.44238795e-01, -4.03777575e-01,\n",
       "        -2.49691670e-01, -3.09747420e-01, -1.86179111e-01,\n",
       "        -2.43617364e-01, -1.70133197e-01, -3.00008399e-01,\n",
       "        -1.67352209e-01, -1.57728980e-01, -2.17674370e-02,\n",
       "         3.14366621e-02, -4.00476881e-02, -1.58061405e-03,\n",
       "        -7.92998374e-02, -6.46391566e-02, -7.44600802e-02,\n",
       "        -1.46322761e-01, -8.49129506e-02, -3.57695398e-02,\n",
       "        -1.50695440e-01, -2.98835931e-01, -1.28030136e-01,\n",
       "        -8.68930162e-02, -1.28088090e-02, -3.01706746e-02,\n",
       "         3.70216711e-03,  8.91854017e-02, -3.21386821e-02,\n",
       "        -3.55493138e-02, -8.20992980e-02,  1.11923727e-02,\n",
       "        -9.35662025e-03, -3.24030011e-02,  6.73438814e-02,\n",
       "         2.51301224e-02,  7.80953719e-02,  1.38710957e-02,\n",
       "         3.57392242e-02,  1.08003875e-01,  1.39952598e-01,\n",
       "         9.03042125e-02,  4.25027736e-02,  8.17692652e-02,\n",
       "         1.37386443e-01,  1.20911426e-01,  5.90621289e-02,\n",
       "         4.25052853e-02,  3.34144731e-02, -3.22162635e-02,\n",
       "        -8.12860245e-02, -2.23728859e-01, -1.82568513e-01,\n",
       "        -4.10062540e-02, -3.79214705e-02,  4.25192224e-02,\n",
       "         1.08781560e-01,  1.12251631e-01,  1.13734018e-01,\n",
       "         1.90494745e-01,  1.62976064e-01,  2.96587710e-01,\n",
       "         3.34390408e-01,  3.05431845e-01,  2.21598788e-01,\n",
       "         3.00035850e-01,  1.07399968e-01,  2.30690307e-02,\n",
       "        -4.87637165e-02, -1.23330933e-01, -1.13457409e-01,\n",
       "        -9.13555333e-02,  2.16058662e-03, -1.48342897e-03,\n",
       "        -5.34379144e-02, -1.11955778e-01, -9.42329039e-02,\n",
       "        -1.31999534e-01, -1.22980276e-01, -8.84456696e-02,\n",
       "        -4.49111540e-02, -1.20257006e-01, -2.23797015e-01,\n",
       "        -1.98723998e-01, -2.10852156e-01, -2.29781378e-01,\n",
       "        -1.58172704e-01, -9.74936698e-02, -2.32130362e-01,\n",
       "        -9.03398638e-02, -1.75860409e-01, -1.17681041e-01,\n",
       "        -2.13062063e-01, -2.75045994e-01, -2.68829274e-01,\n",
       "        -2.08022160e-01, -2.59374603e-01, -1.88234985e-01,\n",
       "        -1.39485506e-01, -1.17419085e-01, -6.15594552e-02,\n",
       "        -8.72684574e-04, -2.66994507e-02,  2.14113474e-02,\n",
       "        -3.05313196e-03,  1.28431105e-02,  1.39285079e-01,\n",
       "         1.60729892e-01,  8.81716493e-02,  1.28210651e-01,\n",
       "         1.70281910e-01,  2.73995333e-01,  2.95304388e-01,\n",
       "         3.29840486e-01,  1.82186413e-01,  7.29884333e-02,\n",
       "        -1.03485960e-02,  5.84468845e-02,  6.40289396e-02,\n",
       "         8.22405951e-02,  1.36938052e-01,  1.09052662e-01,\n",
       "         1.70363450e-01,  1.34299083e-01,  2.10112740e-01,\n",
       "         2.83223266e-01,  1.35600363e-01,  4.67539782e-02,\n",
       "         2.75934514e-02, -1.15878484e-01, -1.71464353e-01,\n",
       "        -1.15632607e-01, -1.16998707e-01, -1.07376746e-01,\n",
       "        -1.86286975e-01, -1.04623590e-01, -1.11197697e-01,\n",
       "        -9.92052765e-02, -9.01990263e-02, -8.32920107e-02,\n",
       "        -7.45769526e-02, -1.92057292e-02, -2.07038195e-02,\n",
       "        -3.77547601e-02, -8.64068912e-02, -2.48941711e-02,\n",
       "         2.01700929e-02,  3.40871923e-02, -3.75898504e-02,\n",
       "        -1.14573146e-01,  2.38005424e-02,  1.29516472e-01,\n",
       "         1.61911229e-01,  4.31068594e-02, -8.56116039e-03,\n",
       "         9.60501172e-02,  1.30679566e-01,  1.66655601e-01,\n",
       "         1.70757658e-01,  1.25959334e-01,  1.44165597e-01,\n",
       "         2.90436993e-02,  9.72978275e-02,  1.32484078e-01,\n",
       "         6.53336229e-02, -7.10157821e-02, -3.53625118e-02,\n",
       "        -8.29362145e-02, -7.75061275e-02, -7.55424341e-02,\n",
       "        -7.03911172e-02, -6.52814676e-04, -5.58247203e-02,\n",
       "        -9.24896335e-03, -6.46989600e-02, -4.10490844e-02,\n",
       "        -3.34802331e-02, -1.04933292e-01],\n",
       "       [ 1.00000000e-02,  9.58221637e-02,  1.77143890e-01,\n",
       "         1.10393198e-01,  1.68299238e-01,  8.31960990e-02,\n",
       "        -2.59160347e-03, -1.25957830e-01, -1.65510506e-01,\n",
       "        -2.94858903e-01, -3.64628324e-01, -3.54932017e-01,\n",
       "        -2.24123969e-01, -2.18215592e-01, -1.59507662e-01,\n",
       "        -3.17376425e-01, -2.86834566e-01, -2.20998591e-01,\n",
       "        -2.50931527e-01, -3.39167921e-01, -3.96791363e-01,\n",
       "        -3.06921928e-01, -3.63921110e-01, -3.86712834e-01,\n",
       "        -3.70023360e-01, -3.55702260e-01, -4.82801877e-01,\n",
       "        -5.64089054e-01, -5.31121879e-01, -5.39168043e-01,\n",
       "        -5.89179514e-01, -6.76601435e-01, -6.90628220e-01,\n",
       "        -7.33701040e-01, -7.43650677e-01, -7.18539863e-01,\n",
       "        -6.33338819e-01, -6.22812791e-01, -5.11804558e-01,\n",
       "        -5.00778852e-01, -7.53838695e-01, -7.62381953e-01,\n",
       "        -6.81287956e-01, -7.35054196e-01, -7.97622755e-01,\n",
       "        -7.65067847e-01, -8.12382055e-01, -7.22304155e-01,\n",
       "        -8.02661443e-01, -8.47418730e-01, -7.21308370e-01,\n",
       "        -7.87240243e-01, -8.65958282e-01, -7.78719707e-01,\n",
       "        -7.39517276e-01, -7.95054093e-01, -8.37104889e-01,\n",
       "        -9.10902942e-01, -8.56275125e-01, -8.44141018e-01,\n",
       "        -8.36557098e-01, -8.41906474e-01, -9.08020921e-01,\n",
       "        -9.12103084e-01, -8.99619868e-01, -9.94659115e-01,\n",
       "        -9.95349989e-01, -1.08688749e+00, -1.22142304e+00,\n",
       "        -1.15373845e+00, -1.33920861e+00, -1.32156982e+00,\n",
       "        -1.33520203e+00, -1.58981033e+00, -1.62943698e+00,\n",
       "        -1.61233781e+00, -1.49669011e+00, -1.44987307e+00,\n",
       "        -1.43235410e+00, -1.40554661e+00, -1.35147400e+00,\n",
       "        -1.27598194e+00, -1.40212519e+00, -1.30197241e+00,\n",
       "        -1.33719836e+00, -1.23155027e+00, -1.24713437e+00,\n",
       "        -1.34184935e+00, -1.28321064e+00, -1.22770982e+00,\n",
       "        -1.13694322e+00, -1.12075037e+00, -1.13782692e+00,\n",
       "        -1.05714560e+00, -1.03041036e+00, -9.46915753e-01,\n",
       "        -1.06094487e+00, -1.19132008e+00, -1.16940439e+00,\n",
       "        -1.26886281e+00, -1.38540117e+00, -1.28670679e+00,\n",
       "        -1.26290953e+00, -1.12501597e+00, -1.04921089e+00,\n",
       "        -1.04243434e+00, -9.30755945e-01, -9.61641466e-01,\n",
       "        -8.67068014e-01, -8.09364018e-01, -7.52035150e-01,\n",
       "        -7.58020986e-01, -7.66983129e-01, -8.73738800e-01,\n",
       "        -9.55981098e-01, -8.37497459e-01, -8.28487673e-01,\n",
       "        -7.75776572e-01, -7.62194687e-01, -8.25288770e-01,\n",
       "        -8.06429153e-01, -8.69779232e-01, -8.71937054e-01,\n",
       "        -8.43903032e-01, -8.90212251e-01, -8.19162268e-01,\n",
       "        -8.38056271e-01, -7.95403679e-01, -7.77598102e-01,\n",
       "        -7.29240010e-01, -8.14612755e-01, -7.33053457e-01,\n",
       "        -6.24874320e-01, -6.30056404e-01, -6.13062487e-01,\n",
       "        -6.29974209e-01, -5.89640550e-01, -6.31679202e-01,\n",
       "        -7.40483900e-01, -7.79102010e-01, -7.03006453e-01,\n",
       "        -5.91671765e-01, -5.78077142e-01, -6.18265679e-01,\n",
       "        -7.04257174e-01, -6.67926833e-01, -7.39650466e-01,\n",
       "        -8.50285312e-01, -7.00537721e-01, -7.70256915e-01,\n",
       "        -6.46884617e-01, -5.51062500e-01, -5.87992808e-01,\n",
       "        -5.70028993e-01, -6.28331732e-01, -5.86236159e-01,\n",
       "        -6.04974267e-01, -5.88736022e-01, -6.23510044e-01,\n",
       "        -6.74770437e-01, -6.37704765e-01, -5.89505343e-01,\n",
       "        -6.77049921e-01, -6.61888712e-01, -6.18250876e-01,\n",
       "        -6.32816644e-01, -7.24521635e-01, -8.40488530e-01,\n",
       "        -8.60484895e-01, -9.80403471e-01, -9.93735375e-01,\n",
       "        -9.78222832e-01, -9.72303049e-01, -1.03910777e+00,\n",
       "        -1.13153072e+00, -1.21815412e+00, -1.21532964e+00,\n",
       "        -1.27578893e+00, -1.34022736e+00, -1.18076135e+00,\n",
       "        -1.22133140e+00, -1.23989178e+00, -1.29851091e+00,\n",
       "        -1.33124664e+00, -1.29351826e+00, -1.33360426e+00,\n",
       "        -1.33980785e+00, -1.23398532e+00, -1.26828209e+00,\n",
       "        -1.31535166e+00, -1.15797997e+00, -1.11358239e+00,\n",
       "        -1.02627226e+00, -1.08624695e+00, -9.67733822e-01,\n",
       "        -9.21533011e-01, -9.63070214e-01, -8.72172692e-01,\n",
       "        -7.34658759e-01, -6.65767006e-01, -6.35699321e-01,\n",
       "        -8.15979791e-01, -7.00032624e-01, -7.45975369e-01,\n",
       "        -5.98465987e-01, -6.08473088e-01, -6.45854190e-01,\n",
       "        -6.34327822e-01, -7.11807126e-01, -5.63618926e-01,\n",
       "        -6.17063286e-01, -5.98548950e-01, -5.35633550e-01,\n",
       "        -5.21486394e-01, -4.76879664e-01, -5.06729343e-01,\n",
       "        -4.39565255e-01, -4.08936753e-01, -4.39181696e-01,\n",
       "        -4.32553724e-01, -4.17140326e-01, -5.67596962e-01,\n",
       "        -6.79133613e-01, -7.74363854e-01, -8.71439343e-01,\n",
       "        -9.65575918e-01, -8.90840154e-01, -8.94261586e-01,\n",
       "        -9.00326619e-01, -7.53557054e-01, -8.07495149e-01,\n",
       "        -6.59368704e-01, -7.48290520e-01, -7.24749734e-01,\n",
       "        -7.01632099e-01, -6.01752065e-01, -6.66500584e-01,\n",
       "        -7.19826322e-01, -8.03181621e-01, -8.95408683e-01,\n",
       "        -9.70504851e-01, -1.01722529e+00, -1.07584890e+00,\n",
       "        -1.11985169e+00, -1.12508944e+00, -1.15404202e+00,\n",
       "        -1.12617266e+00, -1.14280936e+00, -1.10725853e+00,\n",
       "        -1.11519631e+00, -1.10209324e+00, -1.21519690e+00,\n",
       "        -1.22437668e+00, -1.31598452e+00, -1.33772190e+00,\n",
       "        -1.31076396e+00, -1.38175777e+00, -1.48220651e+00,\n",
       "        -1.50560966e+00, -1.51212316e+00, -1.49348900e+00,\n",
       "        -1.43447796e+00, -1.40556200e+00, -1.31454825e+00,\n",
       "        -1.41111597e+00, -1.33128829e+00, -1.29460717e+00,\n",
       "        -1.34452274e+00, -1.41507011e+00, -1.50318928e+00,\n",
       "        -1.66175644e+00, -1.74111336e+00, -1.86636883e+00,\n",
       "        -1.92031774e+00, -2.07021872e+00, -1.88199876e+00,\n",
       "        -1.94021712e+00, -1.93383022e+00, -2.02643831e+00,\n",
       "        -1.84109996e+00, -1.88638899e+00, -1.85753764e+00,\n",
       "        -1.94656019e+00, -1.85263683e+00, -1.82479620e+00,\n",
       "        -1.88504171e+00, -1.99196553e+00, -2.03697225e+00,\n",
       "        -2.07595212e+00, -2.12406978e+00, -2.00858924e+00,\n",
       "        -2.00819739e+00, -1.98522918e+00, -1.93798413e+00,\n",
       "        -1.78818024e+00, -1.69579131e+00, -1.57845430e+00,\n",
       "        -1.55117582e+00, -1.56916798e+00, -1.63420148e+00,\n",
       "        -1.44241601e+00, -1.39417957e+00, -1.37139925e+00,\n",
       "        -1.36351841e+00, -1.40963975e+00, -1.31203158e+00,\n",
       "        -1.27328880e+00, -1.32966969e+00, -1.33338210e+00,\n",
       "        -1.34578146e+00, -1.17176733e+00, -1.22357640e+00,\n",
       "        -1.31699580e+00, -1.31989942e+00, -1.19938668e+00,\n",
       "        -1.31140603e+00, -1.35163731e+00, -1.36583664e+00,\n",
       "        -1.33138361e+00, -1.37421966e+00, -1.31636641e+00,\n",
       "        -1.18085269e+00, -1.12657382e+00, -1.11795186e+00,\n",
       "        -1.20209428e+00, -1.11268489e+00, -1.08772150e+00,\n",
       "        -1.24898773e+00, -1.24025793e+00, -1.12724676e+00,\n",
       "        -9.75026857e-01, -8.91883226e-01, -7.49446029e-01,\n",
       "        -6.78705284e-01, -6.38292274e-01, -7.29341235e-01,\n",
       "        -8.49737859e-01, -9.05618447e-01, -9.58658657e-01,\n",
       "        -8.63997176e-01, -9.55108390e-01, -9.53717565e-01,\n",
       "        -8.71674914e-01, -8.15144845e-01, -7.11287201e-01,\n",
       "        -6.80070906e-01, -6.44577283e-01, -6.46832178e-01,\n",
       "        -4.83982094e-01, -3.99417780e-01, -5.76147101e-01,\n",
       "        -6.21649388e-01, -6.86588625e-01, -7.49713117e-01,\n",
       "        -7.38180101e-01, -6.55933761e-01, -7.47261153e-01,\n",
       "        -7.69446099e-01, -7.61562116e-01, -6.91338209e-01,\n",
       "        -6.95384390e-01, -5.14853765e-01, -6.15227373e-01,\n",
       "        -6.85684574e-01, -6.26935523e-01, -8.28173903e-01,\n",
       "        -7.86628455e-01, -7.40519714e-01, -8.57844231e-01,\n",
       "        -9.87618851e-01, -8.82273163e-01, -8.90697291e-01,\n",
       "        -8.34913919e-01, -8.26594110e-01, -8.61777556e-01,\n",
       "        -9.62959781e-01, -9.69785450e-01, -9.13589147e-01,\n",
       "        -8.38971051e-01, -7.62041932e-01, -6.97910280e-01,\n",
       "        -7.21237776e-01, -6.13129333e-01, -6.43311781e-01,\n",
       "        -6.21044802e-01, -7.18626553e-01, -6.64995051e-01,\n",
       "        -6.35432270e-01, -5.91955146e-01, -6.17226208e-01,\n",
       "        -6.40352901e-01, -5.54178634e-01, -4.65568264e-01,\n",
       "        -5.63042547e-01, -6.44984330e-01, -4.83620292e-01,\n",
       "        -5.62973747e-01, -5.74745200e-01, -4.13473178e-01,\n",
       "        -3.50755253e-01, -5.02148258e-01, -4.85406199e-01,\n",
       "        -5.43548587e-01, -5.66704107e-01, -6.35701166e-01,\n",
       "        -6.65118924e-01, -6.49733561e-01, -5.65109326e-01,\n",
       "        -6.42164562e-01, -6.92095938e-01, -5.53078466e-01,\n",
       "        -6.67891108e-01, -5.59473773e-01, -6.47308486e-01,\n",
       "        -7.42093833e-01, -7.00650381e-01, -6.56387146e-01,\n",
       "        -8.10599895e-01, -7.83694580e-01, -6.34682865e-01,\n",
       "        -6.92728036e-01, -7.66021816e-01, -8.42148882e-01,\n",
       "        -8.44205742e-01, -8.70065745e-01, -9.46143978e-01,\n",
       "        -9.87294391e-01, -9.56933645e-01, -9.25372089e-01,\n",
       "        -9.22439031e-01, -9.36628355e-01, -9.53972675e-01,\n",
       "        -9.31111704e-01, -9.12828169e-01, -9.56504152e-01,\n",
       "        -8.87443208e-01, -8.58220616e-01, -7.53705046e-01,\n",
       "        -8.21818396e-01, -8.02726808e-01, -8.92631735e-01,\n",
       "        -8.88799945e-01, -9.48855815e-01, -7.75356297e-01,\n",
       "        -8.23482858e-01, -8.26542218e-01, -7.69165434e-01,\n",
       "        -8.67642972e-01, -8.61121454e-01, -9.30366002e-01,\n",
       "        -1.01984187e+00, -1.01407216e+00, -9.32359966e-01,\n",
       "        -8.79003301e-01, -9.46497258e-01, -9.12477349e-01,\n",
       "        -9.78118091e-01, -1.12138180e+00, -1.16927885e+00,\n",
       "        -1.15085102e+00, -1.13293549e+00, -1.25665316e+00,\n",
       "        -1.18104717e+00, -1.19777683e+00, -1.15422120e+00,\n",
       "        -1.13586667e+00, -1.16352558e+00, -1.25523472e+00,\n",
       "        -1.26894974e+00, -1.29545392e+00, -1.28923873e+00,\n",
       "        -1.20341277e+00, -1.13982660e+00, -1.28770814e+00,\n",
       "        -1.23359116e+00, -1.25894202e+00, -1.31332557e+00,\n",
       "        -1.43980562e+00, -1.52643155e+00, -1.50670801e+00,\n",
       "        -1.45580665e+00, -1.57784635e+00, -1.64949844e+00,\n",
       "        -1.55075895e+00, -1.46406605e+00, -1.42131488e+00,\n",
       "        -1.43861914e+00, -1.58819196e+00, -1.47888491e+00,\n",
       "        -1.37162647e+00, -1.33920514e+00, -1.43189170e+00,\n",
       "        -1.43770177e+00, -1.44087751e+00, -1.37272647e+00,\n",
       "        -1.28800679e+00, -1.15115023e+00, -1.16540256e+00,\n",
       "        -1.20043047e+00, -1.06927771e+00]])"
      ]
     },
     "execution_count": 6,
     "metadata": {},
     "output_type": "execute_result"
    }
   ],
   "source": [
    "traj2"
   ]
  },
  {
   "cell_type": "code",
   "execution_count": 7,
   "id": "da7ace8c",
   "metadata": {},
   "outputs": [
    {
     "data": {
      "text/plain": [
       "[<matplotlib.lines.Line2D at 0x7f9d6abc16d0>]"
      ]
     },
     "execution_count": 7,
     "metadata": {},
     "output_type": "execute_result"
    },
    {
     "data": {
      "image/png": "[encoded data removed]",
      "text/plain": [
       "<Figure size 432x288 with 1 Axes>"
      ]
     },
     "metadata": {
      "needs_background": "light"
     },
     "output_type": "display_data"
    }
   ],
   "source": [
    "import matplotlib.pyplot as plt\n",
    "plt.plot(traj2[0], traj2[1])"
   ]
  },
  {
   "cell_type": "code",
   "execution_count": 63,
   "id": "d865be65",
   "metadata": {},
   "outputs": [
    {
     "data": {
      "text/latex": [
       "$\\displaystyle - 0.1 x_{symb} e^{- \\frac{1.02040816326531}{\\left(0.05 \\left(x_{symb}^{2} + y_{symb}^{2}\\right) \\sin{\\left(0.02 x_{symb}^{2} + 0.02 y_{symb}^{2} + 2 \\operatorname{atan_{2}}{\\left(x_{symb},y_{symb} \\right)} \\right)} + 1\\right)^{2}}} - \\frac{1.02040816326531 \\left(- 0.2 x_{symb} \\sin{\\left(0.02 x_{symb}^{2} + 0.02 y_{symb}^{2} + 2 \\operatorname{atan_{2}}{\\left(x_{symb},y_{symb} \\right)} \\right)} - 2 \\left(0.04 x_{symb} + \\frac{2 y_{symb}}{x_{symb}^{2} + y_{symb}^{2}}\\right) \\left(0.05 x_{symb}^{2} + 0.05 y_{symb}^{2}\\right) \\cos{\\left(0.02 x_{symb}^{2} + 0.02 y_{symb}^{2} + 2 \\operatorname{atan_{2}}{\\left(x_{symb},y_{symb} \\right)} \\right)}\\right) \\left(- 0.05 x_{symb}^{2} - 0.05 y_{symb}^{2} - 1\\right) e^{- \\frac{1.02040816326531}{\\left(0.05 \\left(x_{symb}^{2} + y_{symb}^{2}\\right) \\sin{\\left(0.02 x_{symb}^{2} + 0.02 y_{symb}^{2} + 2 \\operatorname{atan_{2}}{\\left(x_{symb},y_{symb} \\right)} \\right)} + 1\\right)^{2}}}}{\\left(0.05 \\left(x_{symb}^{2} + y_{symb}^{2}\\right) \\sin{\\left(0.02 x_{symb}^{2} + 0.02 y_{symb}^{2} + 2 \\operatorname{atan_{2}}{\\left(x_{symb},y_{symb} \\right)} \\right)} + 1\\right)^{3}}$"
      ],
      "text/plain": [
       "-0.1*x_symb*exp(-1.02040816326531/(0.05*(x_symb**2 + y_symb**2)*sin(0.02*x_symb**2 + 0.02*y_symb**2 + 2*atan2(x_symb, y_symb)) + 1)**2) - 1.02040816326531*(-0.2*x_symb*sin(0.02*x_symb**2 + 0.02*y_symb**2 + 2*atan2(x_symb, y_symb)) - 2*(0.04*x_symb + 2*y_symb/(x_symb**2 + y_symb**2))*(0.05*x_symb**2 + 0.05*y_symb**2)*cos(0.02*x_symb**2 + 0.02*y_symb**2 + 2*atan2(x_symb, y_symb)))*(-0.05*x_symb**2 - 0.05*y_symb**2 - 1)*exp(-1.02040816326531/(0.05*(x_symb**2 + y_symb**2)*sin(0.02*x_symb**2 + 0.02*y_symb**2 + 2*atan2(x_symb, y_symb)) + 1)**2)/(0.05*(x_symb**2 + y_symb**2)*sin(0.02*x_symb**2 + 0.02*y_symb**2 + 2*atan2(x_symb, y_symb)) + 1)**3"
      ]
     },
     "execution_count": 63,
     "metadata": {},
     "output_type": "execute_result"
    }
   ],
   "source": [
    "dx -> fun_dx(subs)"
   ]
  },
  {
   "cell_type": "markdown",
   "id": "6e557138",
   "metadata": {},
   "source": [
    "# List to bin"
   ]
  },
  {
   "cell_type": "markdown",
   "id": "b39ed623",
   "metadata": {},
   "source": []
  },
  {
   "cell_type": "code",
   "execution_count": 3,
   "id": "d0a07ae6",
   "metadata": {},
   "outputs": [],
   "source": [
    "import pickle\n",
    "import datetime\n",
    "#data1 = traj\n",
    "#data2 = traj2\n",
    "def save_traj(data, filename=None):\n",
    "    assert type(filename) == str or filename == None, \"filename must be string\"\n",
    "    if filename == None:\n",
    "        time_stamp = datetime.datetime.now().strftime('%Y-%m-%dT%H-%M-%S')\n",
    "        filename = 'traj'+ datetime.datetime.now().strftime('%Y-%m-%dT%H-%M-%S')\n",
    "\n",
    "    data_output = open(filename, 'wb')\n",
    "    pickle.dump(data, data_output)\n",
    "    data_output.close()\n",
    "\n",
    "def read_traj(filename):\n",
    "    data_input = open(filename, 'rb')\n",
    "    read_data = pickle.load(data_input)\n",
    "    data_input.close\n",
    "    return read_data"
   ]
  },
  {
   "cell_type": "code",
   "execution_count": 28,
   "id": "0adbf785",
   "metadata": {},
   "outputs": [],
   "source": [
    "save_traj(traj)\n"
   ]
  },
  {
   "cell_type": "code",
   "execution_count": 22,
   "id": "d4f6499f",
   "metadata": {},
   "outputs": [],
   "source": [
    "import datetime\n",
    "filename = 'traj'+ datetime.datetime.now().strftime('%Y-%m-%dT%H-%M-%S')"
   ]
  },
  {
   "cell_type": "code",
   "execution_count": 29,
   "id": "38479941",
   "metadata": {},
   "outputs": [],
   "source": [
    "save_traj(traj2)\n"
   ]
  },
  {
   "cell_type": "code",
   "execution_count": 24,
   "id": "4437379f",
   "metadata": {},
   "outputs": [
    {
     "data": {
      "text/plain": [
       "str"
      ]
     },
     "execution_count": 24,
     "metadata": {},
     "output_type": "execute_result"
    }
   ],
   "source": [
    "type('a')"
   ]
  },
  {
   "cell_type": "code",
   "execution_count": 4,
   "id": "576242c9",
   "metadata": {},
   "outputs": [],
   "source": [
    "traj1 = read_traj(\"traj2022-02-16T01-50-12\")"
   ]
  },
  {
   "cell_type": "code",
   "execution_count": null,
   "id": "1fe4bb03",
   "metadata": {},
   "outputs": [],
   "source": []
  },
  {
   "cell_type": "code",
   "execution_count": 32,
   "id": "1f6c5441",
   "metadata": {},
   "outputs": [
    {
     "data": {
      "text/plain": [
       "True"
      ]
     },
     "execution_count": 32,
     "metadata": {},
     "output_type": "execute_result"
    }
   ],
   "source": [
    "# Validation\n",
    "np.all(traj1 == traj)"
   ]
  },
  {
   "cell_type": "code",
   "execution_count": 8,
   "id": "71e39464",
   "metadata": {},
   "outputs": [
    {
     "name": "stdout",
     "output_type": "stream",
     "text": [
      "[[ 0.1         0.07538779  0.0503812  ...  9.87040799  9.99288651\n",
      "  10.08108491]\n",
      " [ 0.1        -0.18388593 -0.13209521 ... 10.66579446 10.70177957\n",
      "  10.60349559]]\n"
     ]
    }
   ],
   "source": [
    "print(traj1)"
   ]
  },
  {
   "cell_type": "code",
   "execution_count": 1,
   "id": "8834a127",
   "metadata": {},
   "outputs": [],
   "source": [
    "def my_func(a,b=False):\n",
    "    if b:\n",
    "        return 0\n",
    "    return a"
   ]
  },
  {
   "cell_type": "code",
   "execution_count": 3,
   "id": "bd8d57cb",
   "metadata": {},
   "outputs": [
    {
     "data": {
      "text/plain": [
       "0"
      ]
     },
     "execution_count": 3,
     "metadata": {},
     "output_type": "execute_result"
    }
   ],
   "source": [
    "my_func(1, True)"
   ]
  },
  {
   "cell_type": "code",
   "execution_count": 8,
   "id": "447f0ce3",
   "metadata": {},
   "outputs": [],
   "source": [
    "import sys\n",
    "sys.path.append('..')\n",
    "from test_accuracy import test_main"
   ]
  },
  {
   "cell_type": "code",
   "execution_count": 9,
   "id": "a3b70390",
   "metadata": {},
   "outputs": [
    {
     "name": "stderr",
     "output_type": "stream",
     "text": [
      "  2%|▏         | 2/99 [00:00<00:07, 12.53it/s]"
     ]
    },
    {
     "name": "stdout",
     "output_type": "stream",
     "text": [
      "{y_symb, x_symb}\n",
      "{y_symb, x_symb}\n",
      "part1: 0.0004820823669433594\n",
      "part2: 0.0008699893951416016\n",
      "part3: 1.4781951904296875e-05\n"
     ]
    },
    {
     "name": "stderr",
     "output_type": "stream",
     "text": [
      "100%|██████████| 99/99 [00:06<00:00, 14.17it/s]\n",
      "  2%|▏         | 2/99 [00:00<00:06, 15.84it/s]"
     ]
    },
    {
     "name": "stdout",
     "output_type": "stream",
     "text": [
      "part4: 6.98592209815979\n",
      "{y_symb, x_symb}\n",
      "{y_symb, x_symb}\n",
      "part1: 0.00015616416931152344\n",
      "part2: 0.0012450218200683594\n",
      "part3: 3.790855407714844e-05\n"
     ]
    },
    {
     "name": "stderr",
     "output_type": "stream",
     "text": [
      "100%|██████████| 99/99 [00:06<00:00, 14.71it/s]\n"
     ]
    },
    {
     "name": "stdout",
     "output_type": "stream",
     "text": [
      "part4: 6.729326009750366\n",
      "单线程计算 共消耗: 13.72 秒\n",
      "本地计算机有: 5 核心\n",
      "多线程计算 共消耗: 7.49 秒\n"
     ]
    }
   ],
   "source": [
    "a,b = test_main()"
   ]
  },
  {
   "cell_type": "code",
   "execution_count": 10,
   "id": "01d40adf",
   "metadata": {},
   "outputs": [
    {
     "data": {
      "text/plain": [
       "[{'task1': array([[ 0.01      , -0.06378601, -0.0213744 ,  0.15099128,  0.13752805,\n",
       "           0.18909431,  0.27233237,  0.2777887 ,  0.40670868,  0.50580001,\n",
       "           0.41633318,  0.47313424,  0.46390618,  0.54045964,  0.56359067,\n",
       "           0.59266246,  0.53579641,  0.54168757,  0.5532748 ,  0.61732218,\n",
       "           0.70857811,  0.7202956 ,  0.55246951,  0.62850565,  0.61561616,\n",
       "           0.6544306 ,  0.66028283,  0.61966328,  0.62199499,  0.69971385,\n",
       "           0.7379172 ,  0.78731149,  0.94212937,  1.00681347,  0.98642048,\n",
       "           1.04523384,  1.0955632 ,  1.17603813,  1.24820811,  1.1524777 ,\n",
       "           1.19752262,  1.11397453,  1.17665061,  1.16273487,  1.16435458,\n",
       "           1.13520764,  1.12503591,  1.17015611,  1.06313351,  1.00953345,\n",
       "           1.02308044,  1.12620679,  1.18634737,  1.17064087,  1.11587431,\n",
       "           1.22672114,  1.35848663,  1.30952211,  1.24042477,  1.23542555,\n",
       "           1.24371857,  1.27504211,  1.29126422,  1.4287995 ,  1.50004518,\n",
       "           1.47225399,  1.54763311,  1.50624686,  1.53218113,  1.49580205,\n",
       "           1.52612044,  1.56649144,  1.51917862,  1.5802391 ,  1.62937391,\n",
       "           1.44434081,  1.36862232,  1.15186984,  1.10111123,  1.08802387,\n",
       "           1.01578723,  1.07135625,  1.03039203,  1.17474729,  1.11635454,\n",
       "           1.05494411,  1.1271872 ,  1.14513441,  1.08819935,  0.98938449,\n",
       "           0.92241315,  0.89035786,  0.87318323,  0.80914592,  0.72871784,\n",
       "           0.83463968,  0.81053464,  0.72752216,  0.80093227,  0.85023038],\n",
       "         [ 0.01      ,  0.03480898, -0.06657463,  0.05803188, -0.01158717,\n",
       "          -0.06823459,  0.09465015,  0.05722374, -0.08792048, -0.21690894,\n",
       "          -0.190627  , -0.24809007, -0.25388964, -0.30226458, -0.34466585,\n",
       "          -0.40089805, -0.38886377, -0.40787143, -0.11419427, -0.06580632,\n",
       "          -0.10446566, -0.12677223, -0.0476766 , -0.05911286, -0.12815192,\n",
       "          -0.13683219, -0.20200355, -0.23382818, -0.23653364, -0.06743455,\n",
       "          -0.07897976, -0.18436774, -0.197112  , -0.12984329, -0.06822017,\n",
       "          -0.17810573, -0.20492927, -0.31407635, -0.40258668, -0.38561956,\n",
       "          -0.38997806, -0.34279082, -0.22151416, -0.26166982, -0.19906828,\n",
       "          -0.24744296, -0.37558958, -0.36087741, -0.39747597, -0.35188908,\n",
       "          -0.18130575, -0.06549318, -0.11687145, -0.02793451,  0.02016456,\n",
       "           0.06568534,  0.12590474,  0.12281049,  0.07516666, -0.07005572,\n",
       "          -0.01154008, -0.09795741, -0.13376749, -0.11548728,  0.14529045,\n",
       "           0.19836827,  0.22842735,  0.10679003,  0.15211546,  0.12760305,\n",
       "           0.26915696,  0.17663105,  0.20783144,  0.18879026,  0.24224083,\n",
       "           0.29101448,  0.20871273,  0.16206412,  0.17822957,  0.14190787,\n",
       "           0.13913665,  0.17791393,  0.13368721,  0.20321951,  0.42030717,\n",
       "           0.37291714,  0.3242246 ,  0.27768912,  0.30613039,  0.33067109,\n",
       "           0.31574802,  0.39010398,  0.37551821,  0.42888604,  0.41611767,\n",
       "           0.46610897,  0.48900443,  0.53369626,  0.48303032,  0.51387263]])},\n",
       " {'task2': array([[ 1.00000000e-02, -1.13657369e-02,  9.28664926e-02,\n",
       "           1.80458919e-01,  1.17800942e-01,  1.69476368e-01,\n",
       "           1.71341883e-01,  1.39548110e-01,  1.40121866e-01,\n",
       "          -6.79271864e-03,  1.06674940e-01,  8.64779741e-02,\n",
       "           8.72200470e-02,  2.05996371e-01,  3.28030739e-01,\n",
       "           2.37570431e-01,  2.42944735e-01,  3.67189000e-01,\n",
       "           3.58575423e-01,  3.20249818e-01,  3.71620946e-01,\n",
       "           2.62149333e-01,  2.63360430e-01,  2.68594453e-01,\n",
       "           2.92407758e-01,  2.96642979e-01,  2.46074255e-01,\n",
       "           2.52490438e-01,  1.21413350e-01,  1.06040618e-01,\n",
       "           1.68900563e-01,  2.64989943e-01,  3.36087362e-01,\n",
       "           3.50653353e-01,  3.22467136e-01,  3.39622513e-01,\n",
       "           3.79068691e-01,  4.66751878e-01,  3.64848839e-01,\n",
       "           3.67067558e-01,  4.46349438e-01,  3.29803711e-01,\n",
       "           4.50348531e-01,  5.20947995e-01,  4.53358401e-01,\n",
       "           6.43789266e-01,  7.29260586e-01,  7.32790541e-01,\n",
       "           7.72829787e-01,  8.56988112e-01,  7.98962597e-01,\n",
       "           8.36989949e-01,  8.40202444e-01,  9.31401361e-01,\n",
       "           8.48938477e-01,  9.17128107e-01,  1.00396822e+00,\n",
       "           9.28306449e-01,  7.75120789e-01,  8.38266641e-01,\n",
       "           8.71814504e-01,  7.79360605e-01,  9.07486331e-01,\n",
       "           1.05607535e+00,  1.05108545e+00,  1.11207056e+00,\n",
       "           1.05563561e+00,  1.00266832e+00,  1.00127119e+00,\n",
       "           9.29006744e-01,  8.88363207e-01,  9.51917747e-01,\n",
       "           9.51050982e-01,  9.28489285e-01,  9.10974183e-01,\n",
       "           9.12757125e-01,  9.11423228e-01,  9.59627907e-01,\n",
       "           8.57955273e-01,  8.52699389e-01,  8.90868255e-01,\n",
       "           6.88829841e-01,  7.44791629e-01,  8.71173681e-01,\n",
       "           1.05501878e+00,  1.05571642e+00,  1.07535076e+00,\n",
       "           1.01193609e+00,  1.14609870e+00,  1.12612864e+00,\n",
       "           1.22707158e+00,  1.13478331e+00,  9.41117630e-01,\n",
       "           8.70376188e-01,  7.35813225e-01,  7.08816583e-01,\n",
       "           6.52554326e-01,  7.32521135e-01,  7.21583229e-01,\n",
       "           7.19898148e-01],\n",
       "         [ 1.00000000e-02,  6.50115195e-02,  3.73938229e-03,\n",
       "          -3.57934152e-02,  4.24469487e-02,  1.18816419e-01,\n",
       "           1.11580313e-01,  1.66777361e-01,  1.09090295e-01,\n",
       "           8.55784128e-02,  3.22238050e-02,  1.80097544e-01,\n",
       "           1.58491417e-01,  2.35730814e-01,  2.87027268e-01,\n",
       "           3.20099569e-01,  2.74025511e-01,  3.01933422e-01,\n",
       "           3.12428840e-01,  2.40424343e-01,  2.64228873e-01,\n",
       "           2.56257217e-01,  2.38976422e-01,  1.32931729e-01,\n",
       "           1.54120501e-01,  6.79892886e-04,  7.81173500e-02,\n",
       "           1.47553025e-01,  1.85530003e-01,  2.57991624e-01,\n",
       "           3.08393390e-01,  4.27147199e-01,  4.45398953e-01,\n",
       "           5.41114658e-01,  4.46885572e-01,  2.75754048e-01,\n",
       "           2.19553216e-01,  4.35812007e-01,  3.76609414e-01,\n",
       "           3.28570311e-01,  2.83821883e-01,  2.55067733e-01,\n",
       "           2.58669852e-01,  1.83580992e-01,  2.78653341e-01,\n",
       "           3.76321577e-01,  3.25277668e-01,  3.11471707e-01,\n",
       "           3.45864427e-01,  3.91284277e-01,  2.88171164e-01,\n",
       "           2.25081630e-01,  2.71004039e-01,  3.85948276e-01,\n",
       "           5.62118950e-01,  6.54188302e-01,  6.43893942e-01,\n",
       "           5.65298701e-01,  4.95765164e-01,  4.84268540e-01,\n",
       "           4.54478732e-01,  5.23348823e-01,  6.99831663e-01,\n",
       "           7.60831836e-01,  8.43205900e-01,  8.28706131e-01,\n",
       "           7.61919575e-01,  7.52271077e-01,  7.40378124e-01,\n",
       "           7.85335490e-01,  8.65103006e-01,  9.31743800e-01,\n",
       "           1.02791362e+00,  1.01236142e+00,  1.08780788e+00,\n",
       "           1.00637413e+00,  1.02311173e+00,  1.18427272e+00,\n",
       "           1.28881540e+00,  1.20941483e+00,  1.22762830e+00,\n",
       "           1.28125965e+00,  1.19153590e+00,  1.21083289e+00,\n",
       "           1.08360492e+00,  1.14293626e+00,  1.19980508e+00,\n",
       "           1.07054168e+00,  1.02368127e+00,  1.11922654e+00,\n",
       "           1.18721503e+00,  1.13744969e+00,  1.20458388e+00,\n",
       "           1.31539780e+00,  1.45190812e+00,  1.48876713e+00,\n",
       "           1.47879234e+00,  1.43910007e+00,  1.35424965e+00,\n",
       "           1.41173575e+00]])}]"
      ]
     },
     "execution_count": 10,
     "metadata": {},
     "output_type": "execute_result"
    }
   ],
   "source": [
    "b"
   ]
  },
  {
   "cell_type": "code",
   "execution_count": 11,
   "id": "d0bc765e",
   "metadata": {},
   "outputs": [],
   "source": [
    "from matplotlib import pyplot as plt"
   ]
  },
  {
   "cell_type": "code",
   "execution_count": 16,
   "id": "c1294eb3",
   "metadata": {},
   "outputs": [
    {
     "ename": "TypeError",
     "evalue": "'list' object is not callable",
     "output_type": "error",
     "traceback": [
      "\u001b[0;31m---------------------------------------------------------------------------\u001b[0m",
      "\u001b[0;31mTypeError\u001b[0m                                 Traceback (most recent call last)",
      "\u001b[0;32m<ipython-input-16-a1f7281b4068>\u001b[0m in \u001b[0;36m<module>\u001b[0;34m\u001b[0m\n\u001b[0;32m----> 1\u001b[0;31m \u001b[0mplt\u001b[0m\u001b[0;34m.\u001b[0m\u001b[0mplot\u001b[0m\u001b[0;34m(\u001b[0m\u001b[0mb\u001b[0m\u001b[0;34m(\u001b[0m\u001b[0;34m'task1'\u001b[0m\u001b[0;34m)\u001b[0m\u001b[0;34m[\u001b[0m\u001b[0;36m0\u001b[0m\u001b[0;34m]\u001b[0m\u001b[0;34m,\u001b[0m\u001b[0mb\u001b[0m\u001b[0;34m(\u001b[0m\u001b[0;34m'task1'\u001b[0m\u001b[0;34m)\u001b[0m\u001b[0;34m[\u001b[0m\u001b[0;36m1\u001b[0m\u001b[0;34m]\u001b[0m\u001b[0;34m)\u001b[0m\u001b[0;34m\u001b[0m\u001b[0;34m\u001b[0m\u001b[0m\n\u001b[0m",
      "\u001b[0;31mTypeError\u001b[0m: 'list' object is not callable"
     ]
    }
   ],
   "source": []
  },
  {
   "cell_type": "code",
   "execution_count": 20,
   "id": "09b4d9f3",
   "metadata": {},
   "outputs": [
    {
     "data": {
      "text/plain": [
       "[<matplotlib.lines.Line2D at 0x7f9d6b3079a0>]"
      ]
     },
     "execution_count": 20,
     "metadata": {},
     "output_type": "execute_result"
    },
    {
     "data": {
      "image/png": "[encoded data removed]",
      "text/plain": [
       "<Figure size 432x288 with 1 Axes>"
      ]
     },
     "metadata": {
      "needs_background": "light"
     },
     "output_type": "display_data"
    }
   ],
   "source": [
    "plt.plot(b[0]['task1'][0],b[0]['task1'][1])"
   ]
  },
  {
   "cell_type": "code",
   "execution_count": null,
   "id": "1abedd4e",
   "metadata": {},
   "outputs": [],
   "source": []
  }
 ],
 "metadata": {
  "kernelspec": {
   "display_name": "Python 3",
   "language": "python",
   "name": "python3"
  },
  "language_info": {
   "codemirror_mode": {
    "name": "ipython",
    "version": 3
   },
   "file_extension": ".py",
   "mimetype": "text/x-python",
   "name": "python",
   "nbconvert_exporter": "python",
   "pygments_lexer": "ipython3",
   "version": "3.8.8"
  }
 },
 "nbformat": 4,
 "nbformat_minor": 5
}
