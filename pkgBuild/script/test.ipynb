{
 "cells": [
  {
   "cell_type": "code",
   "execution_count": 1,
   "metadata": {},
   "outputs": [],
   "source": [
    "from geneTraj2D import geneTraj2D\n"
   ]
  },
  {
   "cell_type": "code",
   "execution_count": 2,
   "metadata": {},
   "outputs": [],
   "source": [
    "Zgene = geneTraj2D('z')"
   ]
  },
  {
   "cell_type": "code",
   "execution_count": 3,
   "metadata": {},
   "outputs": [
    {
     "name": "stdout",
     "output_type": "stream",
     "text": [
      "Using: 24 Threads.\n"
     ]
    },
    {
     "name": "stderr",
     "output_type": "stream",
     "text": [
      "0it [00:00, ?it/s]"
     ]
    },
    {
     "ename": "AttributeError",
     "evalue": "'tqdm' object has no attribute 'get'",
     "output_type": "error",
     "traceback": [
      "\u001b[0;31m---------------------------------------------------------------------------\u001b[0m",
      "\u001b[0;31mAttributeError\u001b[0m                            Traceback (most recent call last)",
      "\u001b[1;32m/home/ucapzwe/generate_data/matlab2py/pkgBuild/script/test.ipynb Cell 3'\u001b[0m in \u001b[0;36m<module>\u001b[0;34m\u001b[0m\n\u001b[0;32m----> <a href='vscode-notebook-cell://ssh-remote%2Bcurie/home/ucapzwe/generate_data/matlab2py/pkgBuild/script/test.ipynb#ch0000002vscode-remote?line=0'>1</a>\u001b[0m Zgene\u001b[39m.\u001b[39;49mgenerate(\u001b[39mFalse\u001b[39;49;00m)\n",
      "File \u001b[0;32m~/generate_data/matlab2py/pkgBuild/script/geneTraj2D.py:98\u001b[0m, in \u001b[0;36mgeneTraj2D.generate\u001b[0;34m(self, save_f)\u001b[0m\n\u001b[1;32m     <a href='file:///home/ucapzwe/generate_data/matlab2py/pkgBuild/script/geneTraj2D.py?line=96'>97</a>\u001b[0m \u001b[39mdef\u001b[39;00m \u001b[39mgenerate\u001b[39m(\u001b[39mself\u001b[39m, save_f\u001b[39m=\u001b[39m\u001b[39mTrue\u001b[39;00m):\n\u001b[0;32m---> <a href='file:///home/ucapzwe/generate_data/matlab2py/pkgBuild/script/geneTraj2D.py?line=97'>98</a>\u001b[0m     \u001b[39mreturn\u001b[39;00m traj_factory(\u001b[39mself\u001b[39;49m\u001b[39m.\u001b[39;49mconfig, save_f)\n",
      "File \u001b[0;32m~/generate_data/matlab2py/pkgBuild/script/geneTraj2D.py:75\u001b[0m, in \u001b[0;36mtraj_factory\u001b[0;34m(config, save_flag)\u001b[0m\n\u001b[1;32m     <a href='file:///home/ucapzwe/generate_data/matlab2py/pkgBuild/script/geneTraj2D.py?line=72'>73</a>\u001b[0m results \u001b[39m=\u001b[39m [tqdm(pool\u001b[39m.\u001b[39mapply_async(worker\u001b[39m.\u001b[39mwork, args\u001b[39m=\u001b[39m(i, potential)) \u001b[39mfor\u001b[39;00m i \u001b[39min\u001b[39;00m \u001b[39mrange\u001b[39m(ntraj))]\n\u001b[1;32m     <a href='file:///home/ucapzwe/generate_data/matlab2py/pkgBuild/script/geneTraj2D.py?line=73'>74</a>\u001b[0m \u001b[39m#print(type(results))\u001b[39;00m\n\u001b[0;32m---> <a href='file:///home/ucapzwe/generate_data/matlab2py/pkgBuild/script/geneTraj2D.py?line=74'>75</a>\u001b[0m results \u001b[39m=\u001b[39m [p\u001b[39m.\u001b[39mget() \u001b[39mfor\u001b[39;00m p \u001b[39min\u001b[39;00m results]\n\u001b[1;32m     <a href='file:///home/ucapzwe/generate_data/matlab2py/pkgBuild/script/geneTraj2D.py?line=75'>76</a>\u001b[0m \u001b[39m#print(type(results))\u001b[39;00m\n\u001b[1;32m     <a href='file:///home/ucapzwe/generate_data/matlab2py/pkgBuild/script/geneTraj2D.py?line=76'>77</a>\u001b[0m pool\u001b[39m.\u001b[39mclose()\n",
      "File \u001b[0;32m~/generate_data/matlab2py/pkgBuild/script/geneTraj2D.py:75\u001b[0m, in \u001b[0;36m<listcomp>\u001b[0;34m(.0)\u001b[0m\n\u001b[1;32m     <a href='file:///home/ucapzwe/generate_data/matlab2py/pkgBuild/script/geneTraj2D.py?line=72'>73</a>\u001b[0m results \u001b[39m=\u001b[39m [tqdm(pool\u001b[39m.\u001b[39mapply_async(worker\u001b[39m.\u001b[39mwork, args\u001b[39m=\u001b[39m(i, potential)) \u001b[39mfor\u001b[39;00m i \u001b[39min\u001b[39;00m \u001b[39mrange\u001b[39m(ntraj))]\n\u001b[1;32m     <a href='file:///home/ucapzwe/generate_data/matlab2py/pkgBuild/script/geneTraj2D.py?line=73'>74</a>\u001b[0m \u001b[39m#print(type(results))\u001b[39;00m\n\u001b[0;32m---> <a href='file:///home/ucapzwe/generate_data/matlab2py/pkgBuild/script/geneTraj2D.py?line=74'>75</a>\u001b[0m results \u001b[39m=\u001b[39m [p\u001b[39m.\u001b[39;49mget() \u001b[39mfor\u001b[39;00m p \u001b[39min\u001b[39;00m results]\n\u001b[1;32m     <a href='file:///home/ucapzwe/generate_data/matlab2py/pkgBuild/script/geneTraj2D.py?line=75'>76</a>\u001b[0m \u001b[39m#print(type(results))\u001b[39;00m\n\u001b[1;32m     <a href='file:///home/ucapzwe/generate_data/matlab2py/pkgBuild/script/geneTraj2D.py?line=76'>77</a>\u001b[0m pool\u001b[39m.\u001b[39mclose()\n",
      "\u001b[0;31mAttributeError\u001b[0m: 'tqdm' object has no attribute 'get'"
     ]
    }
   ],
   "source": [
    "traj = Zgene.generate(False)"
   ]
  },
  {
   "cell_type": "code",
   "execution_count": null,
   "metadata": {},
   "outputs": [],
   "source": []
  }
 ],
 "metadata": {
  "interpreter": {
   "hash": "31f2aee4e71d21fbe5cf8b01ff0e069b9275f58929596ceb00d14d90e3e16cd6"
  },
  "kernelspec": {
   "display_name": "Python 3.8.10 64-bit",
   "language": "python",
   "name": "python3"
  },
  "language_info": {
   "codemirror_mode": {
    "name": "ipython",
    "version": 3
   },
   "file_extension": ".py",
   "mimetype": "text/x-python",
   "name": "python",
   "nbconvert_exporter": "python",
   "pygments_lexer": "ipython3",
   "version": "3.8.10"
  },
  "orig_nbformat": 4
 },
 "nbformat": 4,
 "nbformat_minor": 2
}
