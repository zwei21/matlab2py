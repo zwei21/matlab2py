{
 "cells": [
  {
   "cell_type": "code",
   "execution_count": 14,
   "id": "eaff84b4-1be4-4cc2-ae9d-b9eb71e9e449",
   "metadata": {},
   "outputs": [],
   "source": [
    "import scipy.stats as stats\n",
    "import numpy as np\n",
    "\n",
    "x = np.linspace(0, 5, 10, endpoint=False)\n",
    "y = stats.multivariate_normal.pdf(x, mean=2.5, cov=0.5)"
   ]
  },
  {
   "cell_type": "code",
   "execution_count": 15,
   "id": "cc8ce2e8",
   "metadata": {},
   "outputs": [
    {
     "data": {
      "text/plain": [
       "array([0.00108914, 0.01033349, 0.05946514, 0.20755375, 0.43939129,\n",
       "       0.56418958, 0.43939129, 0.20755375, 0.05946514, 0.01033349])"
      ]
     },
     "execution_count": 15,
     "metadata": {},
     "output_type": "execute_result"
    }
   ],
   "source": [
    "y"
   ]
  },
  {
   "cell_type": "code",
   "execution_count": 16,
   "id": "16717877",
   "metadata": {},
   "outputs": [
    {
     "data": {
      "text/plain": [
       "array([0. , 0.5, 1. , 1.5, 2. , 2.5, 3. , 3.5, 4. , 4.5])"
      ]
     },
     "execution_count": 16,
     "metadata": {},
     "output_type": "execute_result"
    }
   ],
   "source": [
    "x"
   ]
  },
  {
   "cell_type": "markdown",
   "id": "9609a2b7",
   "metadata": {},
   "source": [
    "## Matlab output(as ref)\n",
    "y =\n",
    "\n",
    "    0.0011\n",
    "    0.0103\n",
    "    0.0595\n",
    "    0.2076\n",
    "    0.4394\n",
    "    0.5642\n",
    "    0.4394\n",
    "    0.2076\n",
    "    0.0595\n",
    "    0.0103\n"
   ]
  },
  {
   "cell_type": "markdown",
   "id": "b15ed388",
   "metadata": {},
   "source": [
    "# Test for z-shape mumeric"
   ]
  },
  {
   "cell_type": "code",
   "execution_count": 32,
   "id": "dd4d8923",
   "metadata": {},
   "outputs": [],
   "source": [
    "%matplotlib qt\n",
    "import numpy as np\n",
    "import scipy.stats as stats\n",
    "import matplotlib.pyplot as plt\n",
    "from matplotlib import cm\n",
    "from tqdm import tqdm\n",
    "\n",
    "def generate_potential_2d_Zshape_numeric(IN_n_states,flag_visualize):\n",
    "    \"\"\"\n",
    "    The Zshape surface is a weighted sum of 2d Normal distributions and\n",
    "    exponential functions\n",
    "    \n",
    "    INPUT : \n",
    "    [IN_n_states] : array with integers giving the number of states is each dimension\n",
    "    (IN_n_states = [100,50] then x = linspace(x_min,x_max,n_states(1)) and y = linspace(x_min,x_max,n_states(2))\n",
    "    [IN_n_states] : array with integers giving the number of states is each\n",
    "    \"\"\"\n",
    "    # Q1: Will we change the limit later? A: Not required, could be optional paras.\n",
    "    x_min = -2\n",
    "    x_max = 2\n",
    "    y_min = -1\n",
    "    y_max = 3\n",
    "    # Q2: The length of each range should be the same for now.\n",
    "\n",
    "    x = np.linspace(x_min,x_max,IN_n_states[0]);\n",
    "    y = np.linspace(y_min,y_max,IN_n_states[1]);\n",
    "\n",
    "    #---Hyper-parameters---#\n",
    "    border_coeff = 1; # Coefficient of borders \n",
    "    well_coeff = 10; # Coefficient of wells (larger value makes wells deeper and barrier between them bigger)\n",
    "\n",
    "\n",
    "    #---PARAMETERS OF NORMAL DISTRIBUTIONS---#\n",
    "    # Section \"Bivariate case\" in [https://en.wikipedia.org/wiki/Multivariate_normal_distribution]\n",
    "    mu_1 = [-1.5,-0.5]\n",
    "    mu_2 = [1.5,2.5]\n",
    "    sigm_center_well = 0.4 # Sigma of some of the wells, sigm for sigma\n",
    "    covar_mat_well = np.diag(np.dot(np.ones((len(IN_n_states))),sigm_center_well))\n",
    "    ###Debugging\n",
    "    print(covar_mat_well)\n",
    "\n",
    "    mu_3 = [-0.5, 0]\n",
    "    sig = [0.7, 0.28] # Origion: [1, 0.4] * 0.7 = result, flat one\n",
    "    ro = 0.7\n",
    "    colvar_mat_3 = [[sig[0]**2, ro*sig[0]*sig[1]],[ro*sig[0]*sig[1], sig[1]**2]]\n",
    "\n",
    "    mu_4 = [0, 1]\n",
    "    sig = [0.7, 0.7] # Origion: [1, 1] * 0.7, Diagonal one\n",
    "    ro = -0.8\n",
    "    colvar_mat_4 = [[sig[0]**2, ro*sig[0]*sig[1]],[ro*sig[0]*sig[1], sig[1]**2]]\n",
    "\n",
    "    mu_5 = [0.5, 2]\n",
    "    sig = [0.7, 0.28] # Origion: [1, 0.4] * 0.7 = result, flat one\n",
    "    ro = 0.7\n",
    "    colvar_mat_5 = [[sig[0]**2, ro*sig[0]*sig[1]],[ro*sig[0]*sig[1], sig[1]**2]]\n",
    "\n",
    "    #---INSTANTIATION---#\n",
    "    potential_numeric = np.zeros(IN_n_states)\n",
    "\n",
    "    #---Run---#\n",
    "    for x_id in tqdm(range(IN_n_states[0])):\n",
    "        for y_id in range(IN_n_states[1]):\n",
    "\n",
    "            #--Borders (Potential increase to infinity outside of [x_min,x_max] and [y_min,y_max])--#\n",
    "            border_1 = np.exp(x_min - x[x_id])\n",
    "            border_2 = np.exp(x[x_id] - x_max)\n",
    "            border_3 = np.exp(y_min - y[y_id])\n",
    "            border_4 = np.exp(y[y_id] - y_max)\n",
    "\n",
    "            #--WELLS--# # This requires multivariate normal distribution generating function\n",
    "            well_1 = stats.multivariate_normal.pdf(x=[x[x_id],y[y_id]],mean=mu_1, cov=covar_mat_well)\n",
    "            well_2 = stats.multivariate_normal.pdf(x=[x[x_id],y[y_id]],mean=mu_2, cov=covar_mat_well)\n",
    "            well_3 = stats.multivariate_normal.pdf(x=[x[x_id],y[y_id]],mean=mu_3, cov=colvar_mat_3) # Numeric expression\n",
    "            well_4 = stats.multivariate_normal.pdf(x=[x[x_id],y[y_id]],mean=mu_4, cov=colvar_mat_4)\n",
    "            well_5 = stats.multivariate_normal.pdf(x=[x[x_id],y[y_id]],mean=mu_5, cov=colvar_mat_5)  \n",
    "\n",
    "            border_contribution = (border_1 + border_2 + border_3 + border_4) * border_coeff\n",
    "            well_contribution = (well_1 + well_2+ well_3+ well_4 + well_5) * well_coeff\n",
    "\n",
    "            potential_numeric[x_id,y_id] = border_contribution - well_contribution\n",
    "\n",
    "    if flag_visualize:\n",
    "        #assert()\n",
    "        x, y = np.meshgrid(x, y)\n",
    "        z = potential_numeric\n",
    "        fig = plt.figure()\n",
    "        ax = plt.axes(projection='3d')\n",
    "\n",
    "        surf = ax.plot_surface(x,y,z,cmap=cm.coolwarm,\\\n",
    "                            linewidth=0, antialiased=False)\n",
    "        ax.set_xlabel('x')\n",
    "        ax.set_ylabel('y')\n",
    "        ax.set_zlabel('z')\n",
    "\n",
    "        fig.colorbar(surf, shrink=0.5, aspect=5)\n",
    "        \n",
    "    return potential_numeric, x, y\n",
    "\n",
    "    # Sympy\n",
    "    # TODO"
   ]
  },
  {
   "cell_type": "code",
   "execution_count": 44,
   "id": "a28dd175",
   "metadata": {},
   "outputs": [],
   "source": [
    "test_instates = [100,100]"
   ]
  },
  {
   "cell_type": "code",
   "execution_count": 33,
   "id": "9f4afe71",
   "metadata": {},
   "outputs": [
    {
     "name": "stderr",
     "output_type": "stream",
     "text": [
      "  0%|          | 0/500 [00:00<?, ?it/s]"
     ]
    },
    {
     "name": "stdout",
     "output_type": "stream",
     "text": [
      "[[0.4 0. ]\n",
      " [0.  0.4]]\n"
     ]
    },
    {
     "name": "stderr",
     "output_type": "stream",
     "text": [
      "100%|██████████| 500/500 [02:00<00:00,  4.15it/s]\n"
     ]
    }
   ],
   "source": [
    "test_potential, test_x, test_y = generate_potential_2d_Zshape_numeric(test_instates, True)"
   ]
  },
  {
   "cell_type": "code",
   "execution_count": 31,
   "id": "098f838c",
   "metadata": {},
   "outputs": [
    {
     "data": {
      "text/plain": [
       "<matplotlib.colorbar.Colorbar at 0x7f8c17a2a040>"
      ]
     },
     "execution_count": 31,
     "metadata": {},
     "output_type": "execute_result"
    }
   ],
   "source": [
    "%matplotlib qt\n",
    "import matplotlib.pyplot as plt\n",
    "from matplotlib import cm\n",
    "import numpy as np \n",
    "x = test_x\n",
    "y = test_y\n",
    "x, y = np.meshgrid(x, y)\n",
    "z = test_potential\n",
    "fig = plt.figure()\n",
    "ax = plt.axes(projection='3d')\n",
    "\n",
    "surf = ax.plot_surface(x,y,z,cmap=cm.coolwarm,\\\n",
    "                       linewidth=0, antialiased=False)\n",
    "ax.set_xlabel('x')\n",
    "ax.set_ylabel('y')\n",
    "ax.set_zlabel('z')\n",
    "\n",
    "fig.colorbar(surf, shrink=0.5, aspect=5)\n"
   ]
  },
  {
   "cell_type": "code",
   "execution_count": 46,
   "id": "5deda6d9",
   "metadata": {},
   "outputs": [],
   "source": [
    "import numpy as np\n",
    "import sympy as spy\n",
    "\n",
    "def generate_potential_2d_spirals_numeric(IN_n_states,IN_number_of_branches,flag_visualize):\n",
    "    \"\"\"\n",
    "    The spiral surface is a modification of the Anormal distribution, which is\n",
    "    a kind of generalization of the multivariate normal distribution\n",
    "\n",
    "    INPUT : \n",
    "    [IN_n_states] : array with integers giving the number of states is each dimension\n",
    "    (IN_n_states = [100,50] then x = linspace(x_min,x_max,n_states(1)) and y = linspace(x_min,x_max,n_states(2))\n",
    "    [IN_n_states] : array with integers giving the number of states is each\n",
    "    \"\"\"\n",
    "    x_min = -20\n",
    "    x_max = 20\n",
    "    y_min = -20\n",
    "    y_max = 20\n",
    "\n",
    "    x = np.linspace(x_min,x_max,IN_n_states[0])\n",
    "    y = np.linspace(y_min,y_max,IN_n_states[1])\n",
    "\n",
    "    # Hyper Parameters\n",
    "    sigma = 0.35 # Spiral\n",
    "    warping_coeff = 0.01\n",
    "    decrease_coeff = 0.05 # decrease how Potential decrease when we get further from center\n",
    "    sinus_to_distance_coeff = 0.1\n",
    "\n",
    "    # Instantiation\n",
    "    potential_numeric = np.zeros(IN_n_states)\n",
    "\n",
    "    # Run\n",
    "    n_petals = IN_number_of_branches\n",
    "    for x_id in tqdm(range(IN_n_states[0])):\n",
    "        for y_id in range(IN_n_states[1]):\n",
    "\n",
    "            # Transform coordinates from (x,y) to (angle,Distance)\n",
    "            angle = np.arctan2(x[x_id], y[y_id])\n",
    "            distance_squared = x[x_id]**2 + y[y_id]**2;  # BIG MODIFICATION\n",
    "            \n",
    "            # Use the chosen shape function\n",
    "            r = (np.sin((angle+warping_coeff*distance_squared)*n_petals)*sinus_to_distance_coeff*distance_squared+2)\n",
    "\n",
    "            # Apply the formula\n",
    "            potential_numeric[x_id,y_id] = -1*np.exp( -1/2*(1)/(sigma*r)**2)*(1+decrease_coeff*distance_squared)\n",
    "\n",
    "    potential_numeric = potential_numeric - np.min(potential_numeric[:]) # Shift so that minimum=0\n",
    "    potential_numeric = potential_numeric/np.sum(potential_numeric[:]) # Normalize at the end because used non-normalized shape function r.\n",
    "\n",
    "    if flag_visualize:\n",
    "        x, y = np.meshgrid(x, y)\n",
    "        z = potential_numeric\n",
    "        fig = plt.figure()\n",
    "        ax = plt.axes(projection='3d')\n",
    "\n",
    "        surf = ax.plot_surface(x,y,z,cmap=cm.coolwarm,\\\n",
    "                            linewidth=0, antialiased=False)\n",
    "        ax.set_xlabel('x')\n",
    "        ax.set_ylabel('y')\n",
    "        ax.set_zlabel('z')\n",
    "\n",
    "        fig.colorbar(surf, shrink=0.5, aspect=5)\n",
    "        \n",
    "    return potential_numeric, x, y\n",
    "\n",
    "# Sympy\n",
    "# TODO"
   ]
  },
  {
   "cell_type": "code",
   "execution_count": 47,
   "id": "72ac487e",
   "metadata": {},
   "outputs": [
    {
     "name": "stderr",
     "output_type": "stream",
     "text": [
      "100%|██████████| 100/100 [00:00<00:00, 1020.77it/s]\n"
     ]
    }
   ],
   "source": [
    "test_potential, test_x, test_y = generate_potential_2d_spirals_numeric([100,100], 2, True)"
   ]
  },
  {
   "cell_type": "code",
   "execution_count": 48,
   "id": "3a025a24",
   "metadata": {},
   "outputs": [
    {
     "name": "stderr",
     "output_type": "stream",
     "text": [
      "  4%|▍         | 4/100 [00:00<00:06, 15.38it/s]"
     ]
    },
    {
     "name": "stdout",
     "output_type": "stream",
     "text": [
      "[[0.4 0. ]\n",
      " [0.  0.4]]\n"
     ]
    },
    {
     "name": "stderr",
     "output_type": "stream",
     "text": [
      "100%|██████████| 100/100 [00:06<00:00, 16.19it/s]\n"
     ]
    }
   ],
   "source": [
    "test_potential, test_x, test_y = generate_potential_2d_Zshape_numeric(test_instates, True)"
   ]
  },
  {
   "cell_type": "code",
   "execution_count": 58,
   "id": "5daf7133",
   "metadata": {},
   "outputs": [],
   "source": [
    "a = np.array([np.nan] * 100)\n",
    "a_affix = [1] * 50"
   ]
  },
  {
   "cell_type": "code",
   "execution_count": 51,
   "id": "b4d1bf0c",
   "metadata": {},
   "outputs": [],
   "source": [
    "b = range(100)"
   ]
  },
  {
   "cell_type": "code",
   "execution_count": 59,
   "id": "d9f35931",
   "metadata": {},
   "outputs": [
    {
     "data": {
      "image/png": "[encoded data removed]",
      "text/plain": [
       "<Figure size 432x288 with 1 Axes>"
      ]
     },
     "metadata": {
      "needs_background": "light"
     },
     "output_type": "display_data"
    }
   ],
   "source": [
    "%matplotlib inline\n",
    "a[0:50] = 1\n",
    "plt.plot(b,a)\n",
    "plt.show()"
   ]
  },
  {
   "cell_type": "code",
   "execution_count": 60,
   "id": "b661add9",
   "metadata": {},
   "outputs": [
    {
     "name": "stdout",
     "output_type": "stream",
     "text": [
      "[ 1.  1.  1.  1.  1.  1.  1.  1.  1.  1.  1.  1.  1.  1.  1.  1.  1.  1.\n",
      "  1.  1.  1.  1.  1.  1.  1.  1.  1.  1.  1.  1.  1.  1.  1.  1.  1.  1.\n",
      "  1.  1.  1.  1.  1.  1.  1.  1.  1.  1.  1.  1.  1.  1. nan nan nan nan\n",
      " nan nan nan nan nan nan nan nan nan nan nan nan nan nan nan nan nan nan\n",
      " nan nan nan nan nan nan nan nan nan nan nan nan nan nan nan nan nan nan\n",
      " nan nan nan nan nan nan nan nan nan nan]\n"
     ]
    }
   ],
   "source": [
    "print(a)"
   ]
  },
  {
   "cell_type": "code",
   "execution_count": 28,
   "id": "54ab4302",
   "metadata": {},
   "outputs": [],
   "source": [
    "import sympy as spy\n",
    "from math import exp, atan2\n",
    "import numpy as np"
   ]
  },
  {
   "cell_type": "code",
   "execution_count": 3,
   "id": "b3ddaf01",
   "metadata": {},
   "outputs": [
    {
     "name": "stdout",
     "output_type": "stream",
     "text": [
      "\u001b[0;31mSignature:\u001b[0m \u001b[0mspy\u001b[0m\u001b[0;34m.\u001b[0m\u001b[0msymbols\u001b[0m\u001b[0;34m(\u001b[0m\u001b[0mnames\u001b[0m\u001b[0;34m,\u001b[0m \u001b[0;34m*\u001b[0m\u001b[0;34m,\u001b[0m \u001b[0mcls\u001b[0m\u001b[0;34m=\u001b[0m\u001b[0;34m<\u001b[0m\u001b[0;32mclass\u001b[0m \u001b[0;34m'sympy.core.symbol.Symbol'\u001b[0m\u001b[0;34m>\u001b[0m\u001b[0;34m,\u001b[0m \u001b[0;34m**\u001b[0m\u001b[0margs\u001b[0m\u001b[0;34m)\u001b[0m\u001b[0;34m\u001b[0m\u001b[0;34m\u001b[0m\u001b[0m\n",
      "\u001b[0;31mDocstring:\u001b[0m\n",
      "Transform strings into instances of :class:`Symbol` class.\n",
      "\n",
      ":func:`symbols` function returns a sequence of symbols with names taken\n",
      "from ``names`` argument, which can be a comma or whitespace delimited\n",
      "string, or a sequence of strings::\n",
      "\n",
      "    >>> from sympy import symbols, Function\n",
      "\n",
      "    >>> x, y, z = symbols('x,y,z')\n",
      "    >>> a, b, c = symbols('a b c')\n",
      "\n",
      "The type of output is dependent on the properties of input arguments::\n",
      "\n",
      "    >>> symbols('x')\n",
      "    x\n",
      "    >>> symbols('x,')\n",
      "    (x,)\n",
      "    >>> symbols('x,y')\n",
      "    (x, y)\n",
      "    >>> symbols(('a', 'b', 'c'))\n",
      "    (a, b, c)\n",
      "    >>> symbols(['a', 'b', 'c'])\n",
      "    [a, b, c]\n",
      "    >>> symbols({'a', 'b', 'c'})\n",
      "    {a, b, c}\n",
      "\n",
      "If an iterable container is needed for a single symbol, set the ``seq``\n",
      "argument to ``True`` or terminate the symbol name with a comma::\n",
      "\n",
      "    >>> symbols('x', seq=True)\n",
      "    (x,)\n",
      "\n",
      "To reduce typing, range syntax is supported to create indexed symbols.\n",
      "Ranges are indicated by a colon and the type of range is determined by\n",
      "the character to the right of the colon. If the character is a digit\n",
      "then all contiguous digits to the left are taken as the nonnegative\n",
      "starting value (or 0 if there is no digit left of the colon) and all\n",
      "contiguous digits to the right are taken as 1 greater than the ending\n",
      "value::\n",
      "\n",
      "    >>> symbols('x:10')\n",
      "    (x0, x1, x2, x3, x4, x5, x6, x7, x8, x9)\n",
      "\n",
      "    >>> symbols('x5:10')\n",
      "    (x5, x6, x7, x8, x9)\n",
      "    >>> symbols('x5(:2)')\n",
      "    (x50, x51)\n",
      "\n",
      "    >>> symbols('x5:10,y:5')\n",
      "    (x5, x6, x7, x8, x9, y0, y1, y2, y3, y4)\n",
      "\n",
      "    >>> symbols(('x5:10', 'y:5'))\n",
      "    ((x5, x6, x7, x8, x9), (y0, y1, y2, y3, y4))\n",
      "\n",
      "If the character to the right of the colon is a letter, then the single\n",
      "letter to the left (or 'a' if there is none) is taken as the start\n",
      "and all characters in the lexicographic range *through* the letter to\n",
      "the right are used as the range::\n",
      "\n",
      "    >>> symbols('x:z')\n",
      "    (x, y, z)\n",
      "    >>> symbols('x:c')  # null range\n",
      "    ()\n",
      "    >>> symbols('x(:c)')\n",
      "    (xa, xb, xc)\n",
      "\n",
      "    >>> symbols(':c')\n",
      "    (a, b, c)\n",
      "\n",
      "    >>> symbols('a:d, x:z')\n",
      "    (a, b, c, d, x, y, z)\n",
      "\n",
      "    >>> symbols(('a:d', 'x:z'))\n",
      "    ((a, b, c, d), (x, y, z))\n",
      "\n",
      "Multiple ranges are supported; contiguous numerical ranges should be\n",
      "separated by parentheses to disambiguate the ending number of one\n",
      "range from the starting number of the next::\n",
      "\n",
      "    >>> symbols('x:2(1:3)')\n",
      "    (x01, x02, x11, x12)\n",
      "    >>> symbols(':3:2')  # parsing is from left to right\n",
      "    (00, 01, 10, 11, 20, 21)\n",
      "\n",
      "Only one pair of parentheses surrounding ranges are removed, so to\n",
      "include parentheses around ranges, double them. And to include spaces,\n",
      "commas, or colons, escape them with a backslash::\n",
      "\n",
      "    >>> symbols('x((a:b))')\n",
      "    (x(a), x(b))\n",
      "    >>> symbols(r'x(:1\\,:2)')  # or r'x((:1)\\,(:2))'\n",
      "    (x(0,0), x(0,1))\n",
      "\n",
      "All newly created symbols have assumptions set according to ``args``::\n",
      "\n",
      "    >>> a = symbols('a', integer=True)\n",
      "    >>> a.is_integer\n",
      "    True\n",
      "\n",
      "    >>> x, y, z = symbols('x,y,z', real=True)\n",
      "    >>> x.is_real and y.is_real and z.is_real\n",
      "    True\n",
      "\n",
      "Despite its name, :func:`symbols` can create symbol-like objects like\n",
      "instances of Function or Wild classes. To achieve this, set ``cls``\n",
      "keyword argument to the desired type::\n",
      "\n",
      "    >>> symbols('f,g,h', cls=Function)\n",
      "    (f, g, h)\n",
      "\n",
      "    >>> type(_[0])\n",
      "    <class 'sympy.core.function.UndefinedFunction'>\n",
      "\u001b[0;31mFile:\u001b[0m      ~/opt/anaconda3/lib/python3.8/site-packages/sympy/core/symbol.py\n",
      "\u001b[0;31mType:\u001b[0m      function\n"
     ]
    }
   ],
   "source": [
    "spy.symbols?"
   ]
  },
  {
   "cell_type": "code",
   "execution_count": 4,
   "id": "101d6562",
   "metadata": {},
   "outputs": [],
   "source": [
    "a = spy.symbols('a', real=True)"
   ]
  },
  {
   "cell_type": "code",
   "execution_count": 9,
   "id": "59d18103",
   "metadata": {},
   "outputs": [],
   "source": [
    "b = 0.2"
   ]
  },
  {
   "cell_type": "code",
   "execution_count": 19,
   "id": "b88be28f",
   "metadata": {},
   "outputs": [],
   "source": [
    "c = b * a * spy.exp(a)"
   ]
  },
  {
   "cell_type": "code",
   "execution_count": 26,
   "id": "58093c6c",
   "metadata": {},
   "outputs": [
    {
     "data": {
      "text/latex": [
       "$\\displaystyle 0.0488561103264068$"
      ],
      "text/plain": [
       "0.0488561103264068"
      ]
     },
     "execution_count": 26,
     "metadata": {},
     "output_type": "execute_result"
    }
   ],
   "source": [
    "c.subs(a, 0.2)"
   ]
  },
  {
   "cell_type": "code",
   "execution_count": 27,
   "id": "35d02394",
   "metadata": {},
   "outputs": [],
   "source": [
    "x, y = spy.symbols('x, y', real=True)\n"
   ]
  },
  {
   "cell_type": "code",
   "execution_count": 31,
   "id": "f9166e19",
   "metadata": {},
   "outputs": [],
   "source": [
    "z = atan2(x.subs(x, 2), y.subs(y, 2))"
   ]
  },
  {
   "cell_type": "code",
   "execution_count": 32,
   "id": "a488541f",
   "metadata": {},
   "outputs": [
    {
     "data": {
      "text/plain": [
       "0.7853981633974483"
      ]
     },
     "execution_count": 32,
     "metadata": {},
     "output_type": "execute_result"
    }
   ],
   "source": [
    "z"
   ]
  },
  {
   "cell_type": "code",
   "execution_count": 36,
   "id": "c5292b1d",
   "metadata": {},
   "outputs": [],
   "source": [
    "z = spy.atan2(x,y)"
   ]
  },
  {
   "cell_type": "code",
   "execution_count": 39,
   "id": "5f468bec",
   "metadata": {},
   "outputs": [
    {
     "name": "stdout",
     "output_type": "stream",
     "text": [
      "\u001b[0;31mSignature:\u001b[0m \u001b[0mz\u001b[0m\u001b[0;34m.\u001b[0m\u001b[0msubs\u001b[0m\u001b[0;34m(\u001b[0m\u001b[0;34m*\u001b[0m\u001b[0margs\u001b[0m\u001b[0;34m,\u001b[0m \u001b[0;34m**\u001b[0m\u001b[0mkwargs\u001b[0m\u001b[0;34m)\u001b[0m\u001b[0;34m\u001b[0m\u001b[0;34m\u001b[0m\u001b[0m\n",
      "\u001b[0;31mDocstring:\u001b[0m\n",
      "Substitutes old for new in an expression after sympifying args.\n",
      "\n",
      "`args` is either:\n",
      "  - two arguments, e.g. foo.subs(old, new)\n",
      "  - one iterable argument, e.g. foo.subs(iterable). The iterable may be\n",
      "     o an iterable container with (old, new) pairs. In this case the\n",
      "       replacements are processed in the order given with successive\n",
      "       patterns possibly affecting replacements already made.\n",
      "     o a dict or set whose key/value items correspond to old/new pairs.\n",
      "       In this case the old/new pairs will be sorted by op count and in\n",
      "       case of a tie, by number of args and the default_sort_key. The\n",
      "       resulting sorted list is then processed as an iterable container\n",
      "       (see previous).\n",
      "\n",
      "If the keyword ``simultaneous`` is True, the subexpressions will not be\n",
      "evaluated until all the substitutions have been made.\n",
      "\n",
      "Examples\n",
      "========\n",
      "\n",
      ">>> from sympy import pi, exp, limit, oo\n",
      ">>> from sympy.abc import x, y\n",
      ">>> (1 + x*y).subs(x, pi)\n",
      "pi*y + 1\n",
      ">>> (1 + x*y).subs({x:pi, y:2})\n",
      "1 + 2*pi\n",
      ">>> (1 + x*y).subs([(x, pi), (y, 2)])\n",
      "1 + 2*pi\n",
      ">>> reps = [(y, x**2), (x, 2)]\n",
      ">>> (x + y).subs(reps)\n",
      "6\n",
      ">>> (x + y).subs(reversed(reps))\n",
      "x**2 + 2\n",
      "\n",
      ">>> (x**2 + x**4).subs(x**2, y)\n",
      "y**2 + y\n",
      "\n",
      "To replace only the x**2 but not the x**4, use xreplace:\n",
      "\n",
      ">>> (x**2 + x**4).xreplace({x**2: y})\n",
      "x**4 + y\n",
      "\n",
      "To delay evaluation until all substitutions have been made,\n",
      "set the keyword ``simultaneous`` to True:\n",
      "\n",
      ">>> (x/y).subs([(x, 0), (y, 0)])\n",
      "0\n",
      ">>> (x/y).subs([(x, 0), (y, 0)], simultaneous=True)\n",
      "nan\n",
      "\n",
      "This has the added feature of not allowing subsequent substitutions\n",
      "to affect those already made:\n",
      "\n",
      ">>> ((x + y)/y).subs({x + y: y, y: x + y})\n",
      "1\n",
      ">>> ((x + y)/y).subs({x + y: y, y: x + y}, simultaneous=True)\n",
      "y/(x + y)\n",
      "\n",
      "In order to obtain a canonical result, unordered iterables are\n",
      "sorted by count_op length, number of arguments and by the\n",
      "default_sort_key to break any ties. All other iterables are left\n",
      "unsorted.\n",
      "\n",
      ">>> from sympy import sqrt, sin, cos\n",
      ">>> from sympy.abc import a, b, c, d, e\n",
      "\n",
      ">>> A = (sqrt(sin(2*x)), a)\n",
      ">>> B = (sin(2*x), b)\n",
      ">>> C = (cos(2*x), c)\n",
      ">>> D = (x, d)\n",
      ">>> E = (exp(x), e)\n",
      "\n",
      ">>> expr = sqrt(sin(2*x))*sin(exp(x)*x)*cos(2*x) + sin(2*x)\n",
      "\n",
      ">>> expr.subs(dict([A, B, C, D, E]))\n",
      "a*c*sin(d*e) + b\n",
      "\n",
      "The resulting expression represents a literal replacement of the\n",
      "old arguments with the new arguments. This may not reflect the\n",
      "limiting behavior of the expression:\n",
      "\n",
      ">>> (x**3 - 3*x).subs({x: oo})\n",
      "nan\n",
      "\n",
      ">>> limit(x**3 - 3*x, x, oo)\n",
      "oo\n",
      "\n",
      "If the substitution will be followed by numerical\n",
      "evaluation, it is better to pass the substitution to\n",
      "evalf as\n",
      "\n",
      ">>> (1/x).evalf(subs={x: 3.0}, n=21)\n",
      "0.333333333333333333333\n",
      "\n",
      "rather than\n",
      "\n",
      ">>> (1/x).subs({x: 3.0}).evalf(21)\n",
      "0.333333333333333314830\n",
      "\n",
      "as the former will ensure that the desired level of precision is\n",
      "obtained.\n",
      "\n",
      "See Also\n",
      "========\n",
      "replace: replacement capable of doing wildcard-like matching,\n",
      "         parsing of match, and conditional replacements\n",
      "xreplace: exact node replacement in expr tree; also capable of\n",
      "          using matching rules\n",
      "sympy.core.evalf.EvalfMixin.evalf: calculates the given formula to a desired level of precision\n",
      "\u001b[0;31mFile:\u001b[0m      ~/opt/anaconda3/lib/python3.8/site-packages/sympy/core/basic.py\n",
      "\u001b[0;31mType:\u001b[0m      method\n"
     ]
    }
   ],
   "source": [
    "z.subs?"
   ]
  },
  {
   "cell_type": "code",
   "execution_count": 40,
   "id": "d8b75f80",
   "metadata": {},
   "outputs": [
    {
     "data": {
      "text/latex": [
       "$\\displaystyle a$"
      ],
      "text/plain": [
       "a"
      ]
     },
     "execution_count": 40,
     "metadata": {},
     "output_type": "execute_result"
    }
   ],
   "source": [
    "a"
   ]
  },
  {
   "cell_type": "code",
   "execution_count": 41,
   "id": "1a2fd8d5",
   "metadata": {},
   "outputs": [
    {
     "data": {
      "text/plain": [
       "(x, y)"
      ]
     },
     "execution_count": 41,
     "metadata": {},
     "output_type": "execute_result"
    }
   ],
   "source": [
    "x,y"
   ]
  },
  {
   "cell_type": "code",
   "execution_count": 42,
   "id": "8b464695",
   "metadata": {},
   "outputs": [
    {
     "data": {
      "text/latex": [
       "$\\displaystyle x$"
      ],
      "text/plain": [
       "x"
      ]
     },
     "execution_count": 42,
     "metadata": {},
     "output_type": "execute_result"
    }
   ],
   "source": [
    "x"
   ]
  },
  {
   "cell_type": "code",
   "execution_count": 43,
   "id": "cfe807ae",
   "metadata": {},
   "outputs": [
    {
     "data": {
      "text/latex": [
       "$\\displaystyle y$"
      ],
      "text/plain": [
       "y"
      ]
     },
     "execution_count": 43,
     "metadata": {},
     "output_type": "execute_result"
    }
   ],
   "source": [
    "y"
   ]
  },
  {
   "cell_type": "code",
   "execution_count": 63,
   "id": "683505a4",
   "metadata": {},
   "outputs": [],
   "source": [
    "z = x ** y"
   ]
  },
  {
   "cell_type": "code",
   "execution_count": 55,
   "id": "e0e7e72e",
   "metadata": {},
   "outputs": [
    {
     "data": {
      "text/latex": [
       "$\\displaystyle x^{x} \\left(\\log{\\left(x \\right)} + 1\\right)$"
      ],
      "text/plain": [
       "x**x*(log(x) + 1)"
      ]
     },
     "execution_count": 55,
     "metadata": {},
     "output_type": "execute_result"
    }
   ],
   "source": [
    "(x**x).diff(x)"
   ]
  },
  {
   "cell_type": "code",
   "execution_count": 56,
   "id": "d1edcb22",
   "metadata": {},
   "outputs": [],
   "source": [
    "x = 1"
   ]
  },
  {
   "cell_type": "code",
   "execution_count": 57,
   "id": "9de45fe3",
   "metadata": {},
   "outputs": [
    {
     "data": {
      "text/latex": [
       "$\\displaystyle \\operatorname{atan_{2}}{\\left(x,y \\right)}$"
      ],
      "text/plain": [
       "atan2(x, y)"
      ]
     },
     "execution_count": 57,
     "metadata": {},
     "output_type": "execute_result"
    }
   ],
   "source": [
    "z"
   ]
  },
  {
   "cell_type": "code",
   "execution_count": 64,
   "id": "941d5775",
   "metadata": {},
   "outputs": [
    {
     "data": {
      "text/latex": [
       "$\\displaystyle 1$"
      ],
      "text/plain": [
       "1"
      ]
     },
     "execution_count": 64,
     "metadata": {},
     "output_type": "execute_result"
    }
   ],
   "source": [
    "z.subs(x,x)"
   ]
  },
  {
   "cell_type": "code",
   "execution_count": 65,
   "id": "57adb293",
   "metadata": {},
   "outputs": [
    {
     "data": {
      "text/latex": [
       "$\\displaystyle 1$"
      ],
      "text/plain": [
       "1"
      ]
     },
     "execution_count": 65,
     "metadata": {},
     "output_type": "execute_result"
    }
   ],
   "source": [
    "z.subs(y,x)"
   ]
  },
  {
   "cell_type": "code",
   "execution_count": 66,
   "id": "f9f3a14c",
   "metadata": {},
   "outputs": [
    {
     "data": {
      "text/latex": [
       "$\\displaystyle 1$"
      ],
      "text/plain": [
       "1"
      ]
     },
     "execution_count": 66,
     "metadata": {},
     "output_type": "execute_result"
    }
   ],
   "source": [
    "z"
   ]
  },
  {
   "cell_type": "code",
   "execution_count": 67,
   "id": "c2c025de",
   "metadata": {},
   "outputs": [],
   "source": [
    "x, y, z = spy.symbols('x, y, z')"
   ]
  },
  {
   "cell_type": "code",
   "execution_count": 68,
   "id": "528c5210",
   "metadata": {},
   "outputs": [],
   "source": [
    "z = x + y"
   ]
  },
  {
   "cell_type": "code",
   "execution_count": 69,
   "id": "24ef01a7",
   "metadata": {},
   "outputs": [
    {
     "data": {
      "text/latex": [
       "$\\displaystyle x + y$"
      ],
      "text/plain": [
       "x + y"
      ]
     },
     "execution_count": 69,
     "metadata": {},
     "output_type": "execute_result"
    }
   ],
   "source": [
    "z"
   ]
  },
  {
   "cell_type": "code",
   "execution_count": 70,
   "id": "42485cee",
   "metadata": {},
   "outputs": [],
   "source": [
    "z_value = z"
   ]
  },
  {
   "cell_type": "code",
   "execution_count": 74,
   "id": "88f656cc",
   "metadata": {},
   "outputs": [],
   "source": [
    "val = z_value.subs([x,y],[1,2])"
   ]
  },
  {
   "cell_type": "code",
   "execution_count": 84,
   "id": "cc984e0a",
   "metadata": {},
   "outputs": [],
   "source": [
    "import sympy as spy"
   ]
  },
  {
   "cell_type": "code",
   "execution_count": 93,
   "id": "e19aaf3d",
   "metadata": {},
   "outputs": [],
   "source": [
    "value = val.subs({x:1,y:1})"
   ]
  },
  {
   "cell_type": "code",
   "execution_count": 95,
   "id": "03f5bb0f",
   "metadata": {},
   "outputs": [
    {
     "data": {
      "text/plain": [
       "2"
      ]
     },
     "execution_count": 95,
     "metadata": {},
     "output_type": "execute_result"
    }
   ],
   "source": [
    "int(value)"
   ]
  },
  {
   "cell_type": "code",
   "execution_count": 96,
   "id": "809d015c",
   "metadata": {},
   "outputs": [
    {
     "data": {
      "text/latex": [
       "$\\displaystyle x + y$"
      ],
      "text/plain": [
       "x + y"
      ]
     },
     "execution_count": 96,
     "metadata": {},
     "output_type": "execute_result"
    }
   ],
   "source": [
    "z"
   ]
  },
  {
   "cell_type": "code",
   "execution_count": 97,
   "id": "f3eacfd2",
   "metadata": {},
   "outputs": [],
   "source": [
    "a = z + z"
   ]
  },
  {
   "cell_type": "code",
   "execution_count": 98,
   "id": "c69de4df",
   "metadata": {},
   "outputs": [
    {
     "data": {
      "text/latex": [
       "$\\displaystyle 2 x + 2 y$"
      ],
      "text/plain": [
       "2*x + 2*y"
      ]
     },
     "execution_count": 98,
     "metadata": {},
     "output_type": "execute_result"
    }
   ],
   "source": [
    "a"
   ]
  },
  {
   "cell_type": "code",
   "execution_count": 99,
   "id": "ed39876b",
   "metadata": {},
   "outputs": [],
   "source": [
    "#Pre set coeffs\n",
    "IN_n_states = [100, 100]\n",
    "IN_number_of_branches = 2\n",
    "\n",
    "# Hyper Parameters\n",
    "sigma = 0.35 # Spiral\n",
    "warping_coeff = 0.01\n",
    "decrease_coeff = 0.05 # decrease how Potential decrease when we get further from center\n",
    "sinus_to_distance_coeff = 0.1\n",
    "\n",
    "# Instantiation\n",
    "potential_numeric = np.zeros(IN_n_states)\n",
    "n_petals = IN_number_of_branches\n",
    "\n",
    "#--Symbolic Version of the potential--#\n",
    "# Requires Sympy\n",
    "\n",
    "# Symbolic variables for symbolic expression of the potential\n",
    "x_symb, y_symb = spy.symbols('x_symb, y_symb', real=True)\n",
    "\n",
    "# Transform coordinates from (x, y) to (angle, Distance)\n",
    "angle_symb = spy.atan2(x_symb, y_symb)\n",
    "distance_squared_symb = x_symb ** 2 + y_symb ** 2\n",
    "\n",
    "# Use the chosen shape function\n",
    "r_symb = (spy.sin((angle_symb + warping_coeff * distance_squared_symb) * n_petals) * sinus_to_distance_coeff * distance_squared_symb + 2)\n",
    "\n",
    "# Apply the formula\n",
    "potential_symbolic = -1*spy.exp( -1/2*(1)/(sigma*r_symb)**2)*(1+decrease_coeff*distance_squared_symb)"
   ]
  },
  {
   "cell_type": "code",
   "execution_count": 105,
   "id": "a081d2bc",
   "metadata": {},
   "outputs": [
    {
     "name": "stdout",
     "output_type": "stream",
     "text": [
      "\u001b[0;31mSignature:\u001b[0m \u001b[0mval\u001b[0m\u001b[0;34m.\u001b[0m\u001b[0msubs\u001b[0m\u001b[0;34m(\u001b[0m\u001b[0;34m*\u001b[0m\u001b[0margs\u001b[0m\u001b[0;34m,\u001b[0m \u001b[0;34m**\u001b[0m\u001b[0mkwargs\u001b[0m\u001b[0;34m)\u001b[0m\u001b[0;34m\u001b[0m\u001b[0;34m\u001b[0m\u001b[0m\n",
      "\u001b[0;31mDocstring:\u001b[0m\n",
      "Substitutes old for new in an expression after sympifying args.\n",
      "\n",
      "`args` is either:\n",
      "  - two arguments, e.g. foo.subs(old, new)\n",
      "  - one iterable argument, e.g. foo.subs(iterable). The iterable may be\n",
      "     o an iterable container with (old, new) pairs. In this case the\n",
      "       replacements are processed in the order given with successive\n",
      "       patterns possibly affecting replacements already made.\n",
      "     o a dict or set whose key/value items correspond to old/new pairs.\n",
      "       In this case the old/new pairs will be sorted by op count and in\n",
      "       case of a tie, by number of args and the default_sort_key. The\n",
      "       resulting sorted list is then processed as an iterable container\n",
      "       (see previous).\n",
      "\n",
      "If the keyword ``simultaneous`` is True, the subexpressions will not be\n",
      "evaluated until all the substitutions have been made.\n",
      "\n",
      "Examples\n",
      "========\n",
      "\n",
      ">>> from sympy import pi, exp, limit, oo\n",
      ">>> from sympy.abc import x, y\n",
      ">>> (1 + x*y).subs(x, pi)\n",
      "pi*y + 1\n",
      ">>> (1 + x*y).subs({x:pi, y:2})\n",
      "1 + 2*pi\n",
      ">>> (1 + x*y).subs([(x, pi), (y, 2)])\n",
      "1 + 2*pi\n",
      ">>> reps = [(y, x**2), (x, 2)]\n",
      ">>> (x + y).subs(reps)\n",
      "6\n",
      ">>> (x + y).subs(reversed(reps))\n",
      "x**2 + 2\n",
      "\n",
      ">>> (x**2 + x**4).subs(x**2, y)\n",
      "y**2 + y\n",
      "\n",
      "To replace only the x**2 but not the x**4, use xreplace:\n",
      "\n",
      ">>> (x**2 + x**4).xreplace({x**2: y})\n",
      "x**4 + y\n",
      "\n",
      "To delay evaluation until all substitutions have been made,\n",
      "set the keyword ``simultaneous`` to True:\n",
      "\n",
      ">>> (x/y).subs([(x, 0), (y, 0)])\n",
      "0\n",
      ">>> (x/y).subs([(x, 0), (y, 0)], simultaneous=True)\n",
      "nan\n",
      "\n",
      "This has the added feature of not allowing subsequent substitutions\n",
      "to affect those already made:\n",
      "\n",
      ">>> ((x + y)/y).subs({x + y: y, y: x + y})\n",
      "1\n",
      ">>> ((x + y)/y).subs({x + y: y, y: x + y}, simultaneous=True)\n",
      "y/(x + y)\n",
      "\n",
      "In order to obtain a canonical result, unordered iterables are\n",
      "sorted by count_op length, number of arguments and by the\n",
      "default_sort_key to break any ties. All other iterables are left\n",
      "unsorted.\n",
      "\n",
      ">>> from sympy import sqrt, sin, cos\n",
      ">>> from sympy.abc import a, b, c, d, e\n",
      "\n",
      ">>> A = (sqrt(sin(2*x)), a)\n",
      ">>> B = (sin(2*x), b)\n",
      ">>> C = (cos(2*x), c)\n",
      ">>> D = (x, d)\n",
      ">>> E = (exp(x), e)\n",
      "\n",
      ">>> expr = sqrt(sin(2*x))*sin(exp(x)*x)*cos(2*x) + sin(2*x)\n",
      "\n",
      ">>> expr.subs(dict([A, B, C, D, E]))\n",
      "a*c*sin(d*e) + b\n",
      "\n",
      "The resulting expression represents a literal replacement of the\n",
      "old arguments with the new arguments. This may not reflect the\n",
      "limiting behavior of the expression:\n",
      "\n",
      ">>> (x**3 - 3*x).subs({x: oo})\n",
      "nan\n",
      "\n",
      ">>> limit(x**3 - 3*x, x, oo)\n",
      "oo\n",
      "\n",
      "If the substitution will be followed by numerical\n",
      "evaluation, it is better to pass the substitution to\n",
      "evalf as\n",
      "\n",
      ">>> (1/x).evalf(subs={x: 3.0}, n=21)\n",
      "0.333333333333333333333\n",
      "\n",
      "rather than\n",
      "\n",
      ">>> (1/x).subs({x: 3.0}).evalf(21)\n",
      "0.333333333333333314830\n",
      "\n",
      "as the former will ensure that the desired level of precision is\n",
      "obtained.\n",
      "\n",
      "See Also\n",
      "========\n",
      "replace: replacement capable of doing wildcard-like matching,\n",
      "         parsing of match, and conditional replacements\n",
      "xreplace: exact node replacement in expr tree; also capable of\n",
      "          using matching rules\n",
      "sympy.core.evalf.EvalfMixin.evalf: calculates the given formula to a desired level of precision\n",
      "\u001b[0;31mFile:\u001b[0m      ~/opt/anaconda3/lib/python3.8/site-packages/sympy/core/basic.py\n",
      "\u001b[0;31mType:\u001b[0m      method\n"
     ]
    }
   ],
   "source": [
    "val.subs?"
   ]
  },
  {
   "cell_type": "code",
   "execution_count": 104,
   "id": "6d0c353e",
   "metadata": {},
   "outputs": [
    {
     "data": {
      "text/latex": [
       "$\\displaystyle - \\left(0.05 x_{symb}^{2} + 0.05 y_{symb}^{2} + 1\\right) e^{- \\frac{1.02040816326531}{\\left(0.05 \\left(x_{symb}^{2} + y_{symb}^{2}\\right) \\sin{\\left(0.02 x_{symb}^{2} + 0.02 y_{symb}^{2} + 2 \\operatorname{atan_{2}}{\\left(x_{symb},y_{symb} \\right)} \\right)} + 1\\right)^{2}}}$"
      ],
      "text/plain": [
       "-(0.05*x_symb**2 + 0.05*y_symb**2 + 1)*exp(-1.02040816326531/(0.05*(x_symb**2 + y_symb**2)*sin(0.02*x_symb**2 + 0.02*y_symb**2 + 2*atan2(x_symb, y_symb)) + 1)**2)"
      ]
     },
     "execution_count": 104,
     "metadata": {},
     "output_type": "execute_result"
    }
   ],
   "source": [
    "potential_symbolic.subs({x:1,y:1})"
   ]
  },
  {
   "cell_type": "code",
   "execution_count": 108,
   "id": "34124bb2",
   "metadata": {},
   "outputs": [
    {
     "data": {
      "text/latex": [
       "$\\displaystyle -0.828643795699704$"
      ],
      "text/plain": [
       "-0.828643795699704"
      ]
     },
     "execution_count": 108,
     "metadata": {},
     "output_type": "execute_result"
    }
   ],
   "source": [
    "val.evalf(subs={x_symb:2,y_symb:2})"
   ]
  },
  {
   "cell_type": "code",
   "execution_count": 107,
   "id": "b61de913",
   "metadata": {},
   "outputs": [
    {
     "data": {
      "text/latex": [
       "$\\displaystyle - \\left(0.05 x_{symb}^{2} + 0.05 y_{symb}^{2} + 1\\right) e^{- \\frac{1.02040816326531}{\\left(0.05 \\left(x_{symb}^{2} + y_{symb}^{2}\\right) \\sin{\\left(0.02 x_{symb}^{2} + 0.02 y_{symb}^{2} + 2 \\operatorname{atan_{2}}{\\left(x_{symb},y_{symb} \\right)} \\right)} + 1\\right)^{2}}}$"
      ],
      "text/plain": [
       "-(0.05*x_symb**2 + 0.05*y_symb**2 + 1)*exp(-1.02040816326531/(0.05*(x_symb**2 + y_symb**2)*sin(0.02*x_symb**2 + 0.02*y_symb**2 + 2*atan2(x_symb, y_symb)) + 1)**2)"
      ]
     },
     "execution_count": 107,
     "metadata": {},
     "output_type": "execute_result"
    }
   ],
   "source": [
    "val"
   ]
  },
  {
   "cell_type": "code",
   "execution_count": 115,
   "id": "ffa7d60f",
   "metadata": {},
   "outputs": [],
   "source": [
    "import numpy as np\n",
    "import scipy.stats as stats\n",
    "import matplotlib.pyplot as plt\n",
    "from matplotlib import cm\n",
    "from tqdm import tqdm\n",
    "import sympy as spy\n",
    "\n",
    "def generate_potential_2d_spirals_numeric(IN_n_states,IN_number_of_branches,flag_visualize):\n",
    "    \"\"\"\n",
    "    The spiral surface is a modification of the Anormal distribution, which is\n",
    "    a kind of generalization of the multivariate normal distribution\n",
    "\n",
    "    INPUT : \n",
    "    [IN_n_states] : array with integers giving the number of states is each dimension\n",
    "    (IN_n_states = [100,50] then x = linspace(x_min,x_max,n_states(1)) and y = linspace(x_min,x_max,n_states(2))\n",
    "    [IN_n_states] : array with integers giving the number of states is each\n",
    "    \"\"\"\n",
    "    x_min = -20\n",
    "    x_max = 20\n",
    "    y_min = -20\n",
    "    y_max = 20\n",
    "\n",
    "    x = np.linspace(x_min,x_max,IN_n_states[0])\n",
    "    y = np.linspace(y_min,y_max,IN_n_states[1])\n",
    "\n",
    "    # Hyper Parameters\n",
    "    sigma = 0.35 # Spiral\n",
    "    warping_coeff = 0.01\n",
    "    decrease_coeff = 0.05 # decrease how Potential decrease when we get further from center\n",
    "    sinus_to_distance_coeff = 0.1\n",
    "\n",
    "    # Instantiation\n",
    "    potential_numeric = np.zeros(IN_n_states)\n",
    "\n",
    "    # Run\n",
    "    n_petals = IN_number_of_branches\n",
    "    for x_id in tqdm(range(IN_n_states[0])):\n",
    "        for y_id in range(IN_n_states[1]):\n",
    "\n",
    "            # Transform coordinates from (x,y) to (angle,Distance)\n",
    "            angle = np.arctan2(x[x_id], y[y_id])\n",
    "            distance_squared = x[x_id]**2 + y[y_id]**2;  # BIG MODIFICATION\n",
    "            \n",
    "            # Use the chosen shape function\n",
    "            r = (np.sin((angle+warping_coeff*distance_squared)*n_petals)*sinus_to_distance_coeff*distance_squared+2)\n",
    "\n",
    "            # Apply the formula\n",
    "            potential_numeric[x_id,y_id] = -1*np.exp( -1/2*(1)/(sigma*r)**2)*(1+decrease_coeff*distance_squared)\n",
    "\n",
    "    potential_numeric = potential_numeric - np.min(potential_numeric[:]) # Shift so that minimum=0\n",
    "    potential_numeric = potential_numeric/np.sum(potential_numeric[:]) # Normalize at the end because used non-normalized shape function r.\n",
    "\n",
    "    if flag_visualize:\n",
    "        x, y = np.meshgrid(x, y)\n",
    "        z = potential_numeric\n",
    "        fig = plt.figure()\n",
    "        ax = plt.axes(projection='3d')\n",
    "\n",
    "        surf = ax.plot_surface(x,y,z,cmap=cm.coolwarm,\\\n",
    "                            linewidth=0, antialiased=False)\n",
    "        ax.set_xlabel('x')\n",
    "        ax.set_ylabel('y')\n",
    "        ax.set_zlabel('z')\n",
    "\n",
    "        fig.colorbar(surf, shrink=0.5, aspect=5)\n",
    "        \n",
    "    return x, y, potential_numeric\n",
    "\n",
    "\n",
    "def generate_potential_2d_spirals_symbolic(IN_n_states,IN_number_of_branches,flag_visualize):\n",
    "    # Sympy\n",
    "\n",
    "    x_min = -20\n",
    "    x_max = 20\n",
    "    y_min = -20\n",
    "    y_max = 20\n",
    "\n",
    "    x = np.linspace(x_min,x_max,IN_n_states[0])\n",
    "    y = np.linspace(y_min,y_max,IN_n_states[1])\n",
    "\n",
    "    # Hyper Parameters\n",
    "    sigma = 0.35 # Spiral\n",
    "    warping_coeff = 0.01\n",
    "    decrease_coeff = 0.05 # decrease how Potential decrease when we get further from center\n",
    "    sinus_to_distance_coeff = 0.1\n",
    "\n",
    "    # Instantiation\n",
    "    potential_symbolic_value = np.zeros(IN_n_states)\n",
    "    n_petals = IN_number_of_branches\n",
    "\n",
    "    #--Symbolic Version of the potential--#\n",
    "    # Requires Sympy\n",
    "\n",
    "    # Symbolic variables for symbolic expression of the potential\n",
    "    x_symb, y_symb = spy.symbols('x_symb, y_symb', real=True)\n",
    "\n",
    "    # Transform coordinates from (x, y) to (angle, Distance)\n",
    "    angle_symb = spy.atan2(x_symb, y_symb)\n",
    "    distance_squared_symb = x_symb ** 2 + y_symb ** 2\n",
    "\n",
    "    # Use the chosen shape function\n",
    "    r_symb = (spy.sin((angle_symb + warping_coeff * distance_squared_symb) * n_petals) * sinus_to_distance_coeff * distance_squared_symb + 2)\n",
    "\n",
    "    # Apply the formula\n",
    "    potential_symbolic = -1*spy.exp( -1/2*(1)/(sigma*r_symb)**2)*(1+decrease_coeff*distance_squared_symb)\n",
    "\n",
    "    # Symbolic derivatives with respect to x and y\n",
    "    dpotsym_dx = potential_symbolic.diff(x_symb)\n",
    "    dpotsym_dy = potential_symbolic.diff(y_symb)\n",
    "\n",
    "    # Compute the expression over our discrete set of bins for checking purposes\n",
    "    # x = np.linspace(x_min, x_max, IN_n_states[0])\n",
    "    # y = np.linspace(y_min, y_max, IN_n_states[1])\n",
    "\n",
    "    for x_id in tqdm(range(IN_n_states[0])):\n",
    "        for y_id in range(IN_n_states[1]):\n",
    "            potential_symbolic_value[x_id, y_id] = potential_symbolic.evalf(subs={x_symb:x[x_id], y_symb:y[y_id]})\n",
    "\n",
    "    potential_symbolic_value = potential_symbolic_value - np.min(potential_symbolic_value[:]) # Shift so that minimum=0\n",
    "    potential_symbolic_value = potential_symbolic_value/np.sum(potential_symbolic_value[:]) # Normalize at the end because used non-normalized shape function r.\n",
    "    \n",
    "    if flag_visualize:\n",
    "        x, y = np.meshgrid(x, y)\n",
    "        z = potential_symbolic_value\n",
    "        fig = plt.figure()\n",
    "        ax = plt.axes(projection='3d')\n",
    "\n",
    "        surf = ax.plot_surface(x,y,z,cmap=cm.coolwarm,\\\n",
    "                            linewidth=0, antialiased=False)\n",
    "        ax.set_xlabel('x')\n",
    "        ax.set_ylabel('y')\n",
    "        ax.set_zlabel('z')\n",
    "\n",
    "        fig.colorbar(surf, shrink=0.5, aspect=5)\n",
    "\n",
    "    return x, y, potential_symbolic_value, potential_symbolic\n"
   ]
  },
  {
   "cell_type": "code",
   "execution_count": 121,
   "id": "068f7575",
   "metadata": {},
   "outputs": [
    {
     "ename": "ModuleNotFoundError",
     "evalue": "No module named 'ipympl'",
     "output_type": "error",
     "traceback": [
      "\u001b[0;31m---------------------------------------------------------------------------\u001b[0m",
      "\u001b[0;31mModuleNotFoundError\u001b[0m                       Traceback (most recent call last)",
      "\u001b[0;32m<ipython-input-121-a49a4afc47c5>\u001b[0m in \u001b[0;36m<module>\u001b[0;34m\u001b[0m\n\u001b[0;32m----> 1\u001b[0;31m \u001b[0mget_ipython\u001b[0m\u001b[0;34m(\u001b[0m\u001b[0;34m)\u001b[0m\u001b[0;34m.\u001b[0m\u001b[0mrun_line_magic\u001b[0m\u001b[0;34m(\u001b[0m\u001b[0;34m'matplotlib'\u001b[0m\u001b[0;34m,\u001b[0m \u001b[0;34m''\u001b[0m\u001b[0;34m)\u001b[0m\u001b[0;34m\u001b[0m\u001b[0;34m\u001b[0m\u001b[0m\n\u001b[0m",
      "\u001b[0;32m~/opt/anaconda3/lib/python3.8/site-packages/IPython/core/interactiveshell.py\u001b[0m in \u001b[0;36mrun_line_magic\u001b[0;34m(self, magic_name, line, _stack_depth)\u001b[0m\n\u001b[1;32m   2342\u001b[0m                 \u001b[0mkwargs\u001b[0m\u001b[0;34m[\u001b[0m\u001b[0;34m'local_ns'\u001b[0m\u001b[0;34m]\u001b[0m \u001b[0;34m=\u001b[0m \u001b[0mself\u001b[0m\u001b[0;34m.\u001b[0m\u001b[0mget_local_scope\u001b[0m\u001b[0;34m(\u001b[0m\u001b[0mstack_depth\u001b[0m\u001b[0;34m)\u001b[0m\u001b[0;34m\u001b[0m\u001b[0;34m\u001b[0m\u001b[0m\n\u001b[1;32m   2343\u001b[0m             \u001b[0;32mwith\u001b[0m \u001b[0mself\u001b[0m\u001b[0;34m.\u001b[0m\u001b[0mbuiltin_trap\u001b[0m\u001b[0;34m:\u001b[0m\u001b[0;34m\u001b[0m\u001b[0;34m\u001b[0m\u001b[0m\n\u001b[0;32m-> 2344\u001b[0;31m                 \u001b[0mresult\u001b[0m \u001b[0;34m=\u001b[0m \u001b[0mfn\u001b[0m\u001b[0;34m(\u001b[0m\u001b[0;34m*\u001b[0m\u001b[0margs\u001b[0m\u001b[0;34m,\u001b[0m \u001b[0;34m**\u001b[0m\u001b[0mkwargs\u001b[0m\u001b[0;34m)\u001b[0m\u001b[0;34m\u001b[0m\u001b[0;34m\u001b[0m\u001b[0m\n\u001b[0m\u001b[1;32m   2345\u001b[0m             \u001b[0;32mreturn\u001b[0m \u001b[0mresult\u001b[0m\u001b[0;34m\u001b[0m\u001b[0;34m\u001b[0m\u001b[0m\n\u001b[1;32m   2346\u001b[0m \u001b[0;34m\u001b[0m\u001b[0m\n",
      "\u001b[0;32m~/opt/anaconda3/lib/python3.8/site-packages/decorator.py\u001b[0m in \u001b[0;36mfun\u001b[0;34m(*args, **kw)\u001b[0m\n\u001b[1;32m    229\u001b[0m             \u001b[0;32mif\u001b[0m \u001b[0;32mnot\u001b[0m \u001b[0mkwsyntax\u001b[0m\u001b[0;34m:\u001b[0m\u001b[0;34m\u001b[0m\u001b[0;34m\u001b[0m\u001b[0m\n\u001b[1;32m    230\u001b[0m                 \u001b[0margs\u001b[0m\u001b[0;34m,\u001b[0m \u001b[0mkw\u001b[0m \u001b[0;34m=\u001b[0m \u001b[0mfix\u001b[0m\u001b[0;34m(\u001b[0m\u001b[0margs\u001b[0m\u001b[0;34m,\u001b[0m \u001b[0mkw\u001b[0m\u001b[0;34m,\u001b[0m \u001b[0msig\u001b[0m\u001b[0;34m)\u001b[0m\u001b[0;34m\u001b[0m\u001b[0;34m\u001b[0m\u001b[0m\n\u001b[0;32m--> 231\u001b[0;31m             \u001b[0;32mreturn\u001b[0m \u001b[0mcaller\u001b[0m\u001b[0;34m(\u001b[0m\u001b[0mfunc\u001b[0m\u001b[0;34m,\u001b[0m \u001b[0;34m*\u001b[0m\u001b[0;34m(\u001b[0m\u001b[0mextras\u001b[0m \u001b[0;34m+\u001b[0m \u001b[0margs\u001b[0m\u001b[0;34m)\u001b[0m\u001b[0;34m,\u001b[0m \u001b[0;34m**\u001b[0m\u001b[0mkw\u001b[0m\u001b[0;34m)\u001b[0m\u001b[0;34m\u001b[0m\u001b[0;34m\u001b[0m\u001b[0m\n\u001b[0m\u001b[1;32m    232\u001b[0m     \u001b[0mfun\u001b[0m\u001b[0;34m.\u001b[0m\u001b[0m__name__\u001b[0m \u001b[0;34m=\u001b[0m \u001b[0mfunc\u001b[0m\u001b[0;34m.\u001b[0m\u001b[0m__name__\u001b[0m\u001b[0;34m\u001b[0m\u001b[0;34m\u001b[0m\u001b[0m\n\u001b[1;32m    233\u001b[0m     \u001b[0mfun\u001b[0m\u001b[0;34m.\u001b[0m\u001b[0m__doc__\u001b[0m \u001b[0;34m=\u001b[0m \u001b[0mfunc\u001b[0m\u001b[0;34m.\u001b[0m\u001b[0m__doc__\u001b[0m\u001b[0;34m\u001b[0m\u001b[0;34m\u001b[0m\u001b[0m\n",
      "\u001b[0;32m~/opt/anaconda3/lib/python3.8/site-packages/IPython/core/magic.py\u001b[0m in \u001b[0;36m<lambda>\u001b[0;34m(f, *a, **k)\u001b[0m\n\u001b[1;32m    185\u001b[0m     \u001b[0;31m# but it's overkill for just that one bit of state.\u001b[0m\u001b[0;34m\u001b[0m\u001b[0;34m\u001b[0m\u001b[0;34m\u001b[0m\u001b[0m\n\u001b[1;32m    186\u001b[0m     \u001b[0;32mdef\u001b[0m \u001b[0mmagic_deco\u001b[0m\u001b[0;34m(\u001b[0m\u001b[0marg\u001b[0m\u001b[0;34m)\u001b[0m\u001b[0;34m:\u001b[0m\u001b[0;34m\u001b[0m\u001b[0;34m\u001b[0m\u001b[0m\n\u001b[0;32m--> 187\u001b[0;31m         \u001b[0mcall\u001b[0m \u001b[0;34m=\u001b[0m \u001b[0;32mlambda\u001b[0m \u001b[0mf\u001b[0m\u001b[0;34m,\u001b[0m \u001b[0;34m*\u001b[0m\u001b[0ma\u001b[0m\u001b[0;34m,\u001b[0m \u001b[0;34m**\u001b[0m\u001b[0mk\u001b[0m\u001b[0;34m:\u001b[0m \u001b[0mf\u001b[0m\u001b[0;34m(\u001b[0m\u001b[0;34m*\u001b[0m\u001b[0ma\u001b[0m\u001b[0;34m,\u001b[0m \u001b[0;34m**\u001b[0m\u001b[0mk\u001b[0m\u001b[0;34m)\u001b[0m\u001b[0;34m\u001b[0m\u001b[0;34m\u001b[0m\u001b[0m\n\u001b[0m\u001b[1;32m    188\u001b[0m \u001b[0;34m\u001b[0m\u001b[0m\n\u001b[1;32m    189\u001b[0m         \u001b[0;32mif\u001b[0m \u001b[0mcallable\u001b[0m\u001b[0;34m(\u001b[0m\u001b[0marg\u001b[0m\u001b[0;34m)\u001b[0m\u001b[0;34m:\u001b[0m\u001b[0;34m\u001b[0m\u001b[0;34m\u001b[0m\u001b[0m\n",
      "\u001b[0;32m~/opt/anaconda3/lib/python3.8/site-packages/IPython/core/magics/pylab.py\u001b[0m in \u001b[0;36mmatplotlib\u001b[0;34m(self, line)\u001b[0m\n\u001b[1;32m     97\u001b[0m             \u001b[0mprint\u001b[0m\u001b[0;34m(\u001b[0m\u001b[0;34m\"Available matplotlib backends: %s\"\u001b[0m \u001b[0;34m%\u001b[0m \u001b[0mbackends_list\u001b[0m\u001b[0;34m)\u001b[0m\u001b[0;34m\u001b[0m\u001b[0;34m\u001b[0m\u001b[0m\n\u001b[1;32m     98\u001b[0m         \u001b[0;32melse\u001b[0m\u001b[0;34m:\u001b[0m\u001b[0;34m\u001b[0m\u001b[0;34m\u001b[0m\u001b[0m\n\u001b[0;32m---> 99\u001b[0;31m             \u001b[0mgui\u001b[0m\u001b[0;34m,\u001b[0m \u001b[0mbackend\u001b[0m \u001b[0;34m=\u001b[0m \u001b[0mself\u001b[0m\u001b[0;34m.\u001b[0m\u001b[0mshell\u001b[0m\u001b[0;34m.\u001b[0m\u001b[0menable_matplotlib\u001b[0m\u001b[0;34m(\u001b[0m\u001b[0margs\u001b[0m\u001b[0;34m.\u001b[0m\u001b[0mgui\u001b[0m\u001b[0;34m.\u001b[0m\u001b[0mlower\u001b[0m\u001b[0;34m(\u001b[0m\u001b[0;34m)\u001b[0m \u001b[0;32mif\u001b[0m \u001b[0misinstance\u001b[0m\u001b[0;34m(\u001b[0m\u001b[0margs\u001b[0m\u001b[0;34m.\u001b[0m\u001b[0mgui\u001b[0m\u001b[0;34m,\u001b[0m \u001b[0mstr\u001b[0m\u001b[0;34m)\u001b[0m \u001b[0;32melse\u001b[0m \u001b[0margs\u001b[0m\u001b[0;34m.\u001b[0m\u001b[0mgui\u001b[0m\u001b[0;34m)\u001b[0m\u001b[0;34m\u001b[0m\u001b[0;34m\u001b[0m\u001b[0m\n\u001b[0m\u001b[1;32m    100\u001b[0m             \u001b[0mself\u001b[0m\u001b[0;34m.\u001b[0m\u001b[0m_show_matplotlib_backend\u001b[0m\u001b[0;34m(\u001b[0m\u001b[0margs\u001b[0m\u001b[0;34m.\u001b[0m\u001b[0mgui\u001b[0m\u001b[0;34m,\u001b[0m \u001b[0mbackend\u001b[0m\u001b[0;34m)\u001b[0m\u001b[0;34m\u001b[0m\u001b[0;34m\u001b[0m\u001b[0m\n\u001b[1;32m    101\u001b[0m \u001b[0;34m\u001b[0m\u001b[0m\n",
      "\u001b[0;32m~/opt/anaconda3/lib/python3.8/site-packages/IPython/core/interactiveshell.py\u001b[0m in \u001b[0;36menable_matplotlib\u001b[0;34m(self, gui)\u001b[0m\n\u001b[1;32m   3523\u001b[0m                 \u001b[0mgui\u001b[0m\u001b[0;34m,\u001b[0m \u001b[0mbackend\u001b[0m \u001b[0;34m=\u001b[0m \u001b[0mpt\u001b[0m\u001b[0;34m.\u001b[0m\u001b[0mfind_gui_and_backend\u001b[0m\u001b[0;34m(\u001b[0m\u001b[0mself\u001b[0m\u001b[0;34m.\u001b[0m\u001b[0mpylab_gui_select\u001b[0m\u001b[0;34m)\u001b[0m\u001b[0;34m\u001b[0m\u001b[0;34m\u001b[0m\u001b[0m\n\u001b[1;32m   3524\u001b[0m \u001b[0;34m\u001b[0m\u001b[0m\n\u001b[0;32m-> 3525\u001b[0;31m         \u001b[0mpt\u001b[0m\u001b[0;34m.\u001b[0m\u001b[0mactivate_matplotlib\u001b[0m\u001b[0;34m(\u001b[0m\u001b[0mbackend\u001b[0m\u001b[0;34m)\u001b[0m\u001b[0;34m\u001b[0m\u001b[0;34m\u001b[0m\u001b[0m\n\u001b[0m\u001b[1;32m   3526\u001b[0m         \u001b[0mpt\u001b[0m\u001b[0;34m.\u001b[0m\u001b[0mconfigure_inline_support\u001b[0m\u001b[0;34m(\u001b[0m\u001b[0mself\u001b[0m\u001b[0;34m,\u001b[0m \u001b[0mbackend\u001b[0m\u001b[0;34m)\u001b[0m\u001b[0;34m\u001b[0m\u001b[0;34m\u001b[0m\u001b[0m\n\u001b[1;32m   3527\u001b[0m \u001b[0;34m\u001b[0m\u001b[0m\n",
      "\u001b[0;32m~/opt/anaconda3/lib/python3.8/site-packages/IPython/core/pylabtools.py\u001b[0m in \u001b[0;36mactivate_matplotlib\u001b[0;34m(backend)\u001b[0m\n\u001b[1;32m    320\u001b[0m     \u001b[0;32mfrom\u001b[0m \u001b[0mmatplotlib\u001b[0m \u001b[0;32mimport\u001b[0m \u001b[0mpyplot\u001b[0m \u001b[0;32mas\u001b[0m \u001b[0mplt\u001b[0m\u001b[0;34m\u001b[0m\u001b[0;34m\u001b[0m\u001b[0m\n\u001b[1;32m    321\u001b[0m \u001b[0;34m\u001b[0m\u001b[0m\n\u001b[0;32m--> 322\u001b[0;31m     \u001b[0mplt\u001b[0m\u001b[0;34m.\u001b[0m\u001b[0mswitch_backend\u001b[0m\u001b[0;34m(\u001b[0m\u001b[0mbackend\u001b[0m\u001b[0;34m)\u001b[0m\u001b[0;34m\u001b[0m\u001b[0;34m\u001b[0m\u001b[0m\n\u001b[0m\u001b[1;32m    323\u001b[0m \u001b[0;34m\u001b[0m\u001b[0m\n\u001b[1;32m    324\u001b[0m     \u001b[0mplt\u001b[0m\u001b[0;34m.\u001b[0m\u001b[0mshow\u001b[0m\u001b[0;34m.\u001b[0m\u001b[0m_needmain\u001b[0m \u001b[0;34m=\u001b[0m \u001b[0;32mFalse\u001b[0m\u001b[0;34m\u001b[0m\u001b[0;34m\u001b[0m\u001b[0m\n",
      "\u001b[0;32m~/opt/anaconda3/lib/python3.8/site-packages/matplotlib/pyplot.py\u001b[0m in \u001b[0;36mswitch_backend\u001b[0;34m(newbackend)\u001b[0m\n\u001b[1;32m    274\u001b[0m     \u001b[0mbackend_name\u001b[0m \u001b[0;34m=\u001b[0m \u001b[0mcbook\u001b[0m\u001b[0;34m.\u001b[0m\u001b[0m_backend_module_name\u001b[0m\u001b[0;34m(\u001b[0m\u001b[0mnewbackend\u001b[0m\u001b[0;34m)\u001b[0m\u001b[0;34m\u001b[0m\u001b[0;34m\u001b[0m\u001b[0m\n\u001b[1;32m    275\u001b[0m \u001b[0;34m\u001b[0m\u001b[0m\n\u001b[0;32m--> 276\u001b[0;31m     \u001b[0;32mclass\u001b[0m \u001b[0mbackend_mod\u001b[0m\u001b[0;34m(\u001b[0m\u001b[0mmatplotlib\u001b[0m\u001b[0;34m.\u001b[0m\u001b[0mbackend_bases\u001b[0m\u001b[0;34m.\u001b[0m\u001b[0m_Backend\u001b[0m\u001b[0;34m)\u001b[0m\u001b[0;34m:\u001b[0m\u001b[0;34m\u001b[0m\u001b[0;34m\u001b[0m\u001b[0m\n\u001b[0m\u001b[1;32m    277\u001b[0m         \u001b[0mlocals\u001b[0m\u001b[0;34m(\u001b[0m\u001b[0;34m)\u001b[0m\u001b[0;34m.\u001b[0m\u001b[0mupdate\u001b[0m\u001b[0;34m(\u001b[0m\u001b[0mvars\u001b[0m\u001b[0;34m(\u001b[0m\u001b[0mimportlib\u001b[0m\u001b[0;34m.\u001b[0m\u001b[0mimport_module\u001b[0m\u001b[0;34m(\u001b[0m\u001b[0mbackend_name\u001b[0m\u001b[0;34m)\u001b[0m\u001b[0;34m)\u001b[0m\u001b[0;34m)\u001b[0m\u001b[0;34m\u001b[0m\u001b[0;34m\u001b[0m\u001b[0m\n\u001b[1;32m    278\u001b[0m \u001b[0;34m\u001b[0m\u001b[0m\n",
      "\u001b[0;32m~/opt/anaconda3/lib/python3.8/site-packages/matplotlib/pyplot.py\u001b[0m in \u001b[0;36mbackend_mod\u001b[0;34m()\u001b[0m\n\u001b[1;32m    275\u001b[0m \u001b[0;34m\u001b[0m\u001b[0m\n\u001b[1;32m    276\u001b[0m     \u001b[0;32mclass\u001b[0m \u001b[0mbackend_mod\u001b[0m\u001b[0;34m(\u001b[0m\u001b[0mmatplotlib\u001b[0m\u001b[0;34m.\u001b[0m\u001b[0mbackend_bases\u001b[0m\u001b[0;34m.\u001b[0m\u001b[0m_Backend\u001b[0m\u001b[0;34m)\u001b[0m\u001b[0;34m:\u001b[0m\u001b[0;34m\u001b[0m\u001b[0;34m\u001b[0m\u001b[0m\n\u001b[0;32m--> 277\u001b[0;31m         \u001b[0mlocals\u001b[0m\u001b[0;34m(\u001b[0m\u001b[0;34m)\u001b[0m\u001b[0;34m.\u001b[0m\u001b[0mupdate\u001b[0m\u001b[0;34m(\u001b[0m\u001b[0mvars\u001b[0m\u001b[0;34m(\u001b[0m\u001b[0mimportlib\u001b[0m\u001b[0;34m.\u001b[0m\u001b[0mimport_module\u001b[0m\u001b[0;34m(\u001b[0m\u001b[0mbackend_name\u001b[0m\u001b[0;34m)\u001b[0m\u001b[0;34m)\u001b[0m\u001b[0;34m)\u001b[0m\u001b[0;34m\u001b[0m\u001b[0;34m\u001b[0m\u001b[0m\n\u001b[0m\u001b[1;32m    278\u001b[0m \u001b[0;34m\u001b[0m\u001b[0m\n\u001b[1;32m    279\u001b[0m     \u001b[0mrequired_framework\u001b[0m \u001b[0;34m=\u001b[0m \u001b[0m_get_required_interactive_framework\u001b[0m\u001b[0;34m(\u001b[0m\u001b[0mbackend_mod\u001b[0m\u001b[0;34m)\u001b[0m\u001b[0;34m\u001b[0m\u001b[0;34m\u001b[0m\u001b[0m\n",
      "\u001b[0;32m~/opt/anaconda3/lib/python3.8/importlib/__init__.py\u001b[0m in \u001b[0;36mimport_module\u001b[0;34m(name, package)\u001b[0m\n\u001b[1;32m    125\u001b[0m                 \u001b[0;32mbreak\u001b[0m\u001b[0;34m\u001b[0m\u001b[0;34m\u001b[0m\u001b[0m\n\u001b[1;32m    126\u001b[0m             \u001b[0mlevel\u001b[0m \u001b[0;34m+=\u001b[0m \u001b[0;36m1\u001b[0m\u001b[0;34m\u001b[0m\u001b[0;34m\u001b[0m\u001b[0m\n\u001b[0;32m--> 127\u001b[0;31m     \u001b[0;32mreturn\u001b[0m \u001b[0m_bootstrap\u001b[0m\u001b[0;34m.\u001b[0m\u001b[0m_gcd_import\u001b[0m\u001b[0;34m(\u001b[0m\u001b[0mname\u001b[0m\u001b[0;34m[\u001b[0m\u001b[0mlevel\u001b[0m\u001b[0;34m:\u001b[0m\u001b[0;34m]\u001b[0m\u001b[0;34m,\u001b[0m \u001b[0mpackage\u001b[0m\u001b[0;34m,\u001b[0m \u001b[0mlevel\u001b[0m\u001b[0;34m)\u001b[0m\u001b[0;34m\u001b[0m\u001b[0;34m\u001b[0m\u001b[0m\n\u001b[0m\u001b[1;32m    128\u001b[0m \u001b[0;34m\u001b[0m\u001b[0m\n\u001b[1;32m    129\u001b[0m \u001b[0;34m\u001b[0m\u001b[0m\n",
      "\u001b[0;32m~/opt/anaconda3/lib/python3.8/importlib/_bootstrap.py\u001b[0m in \u001b[0;36m_gcd_import\u001b[0;34m(name, package, level)\u001b[0m\n",
      "\u001b[0;32m~/opt/anaconda3/lib/python3.8/importlib/_bootstrap.py\u001b[0m in \u001b[0;36m_find_and_load\u001b[0;34m(name, import_)\u001b[0m\n",
      "\u001b[0;32m~/opt/anaconda3/lib/python3.8/importlib/_bootstrap.py\u001b[0m in \u001b[0;36m_find_and_load_unlocked\u001b[0;34m(name, import_)\u001b[0m\n",
      "\u001b[0;32m~/opt/anaconda3/lib/python3.8/importlib/_bootstrap.py\u001b[0m in \u001b[0;36m_call_with_frames_removed\u001b[0;34m(f, *args, **kwds)\u001b[0m\n",
      "\u001b[0;32m~/opt/anaconda3/lib/python3.8/importlib/_bootstrap.py\u001b[0m in \u001b[0;36m_gcd_import\u001b[0;34m(name, package, level)\u001b[0m\n",
      "\u001b[0;32m~/opt/anaconda3/lib/python3.8/importlib/_bootstrap.py\u001b[0m in \u001b[0;36m_find_and_load\u001b[0;34m(name, import_)\u001b[0m\n",
      "\u001b[0;32m~/opt/anaconda3/lib/python3.8/importlib/_bootstrap.py\u001b[0m in \u001b[0;36m_find_and_load_unlocked\u001b[0;34m(name, import_)\u001b[0m\n",
      "\u001b[0;31mModuleNotFoundError\u001b[0m: No module named 'ipympl'"
     ]
    }
   ],
   "source": [
    "%matplotlib"
   ]
  },
  {
   "cell_type": "code",
   "execution_count": 116,
   "id": "5d57ca38",
   "metadata": {},
   "outputs": [
    {
     "name": "stderr",
     "output_type": "stream",
     "text": [
      "100%|██████████| 100/100 [03:05<00:00,  1.85s/it]\n"
     ]
    },
    {
     "data": {
      "image/png": "[encoded data removed]",
      "text/plain": [
       "<Figure size 432x288 with 2 Axes>"
      ]
     },
     "metadata": {
      "needs_background": "light"
     },
     "output_type": "display_data"
    }
   ],
   "source": [
    "x_spy, y_spy, potential_spy, potential_func = generate_potential_2d_spirals_symbolic(IN_n_states=[100,100],IN_number_of_branches=2,flag_visualize=True)"
   ]
  },
  {
   "cell_type": "code",
   "execution_count": 117,
   "id": "e7ec10ec",
   "metadata": {},
   "outputs": [
    {
     "name": "stderr",
     "output_type": "stream",
     "text": [
      "100%|██████████| 100/100 [00:00<00:00, 1301.44it/s]\n"
     ]
    },
    {
     "data": {
      "image/png": "[encoded data removed]",
      "text/plain": [
       "<Figure size 432x288 with 2 Axes>"
      ]
     },
     "metadata": {
      "needs_background": "light"
     },
     "output_type": "display_data"
    }
   ],
   "source": [
    "x_num, y_num, potential_num = generate_potential_2d_spirals_numeric(IN_n_states=[100,100],IN_number_of_branches=2,flag_visualize=True)"
   ]
  },
  {
   "cell_type": "code",
   "execution_count": null,
   "id": "17c4b235",
   "metadata": {},
   "outputs": [],
   "source": []
  }
 ],
 "metadata": {
  "kernelspec": {
   "display_name": "Python 3",
   "language": "python",
   "name": "python3"
  },
  "language_info": {
   "codemirror_mode": {
    "name": "ipython",
    "version": 3
   },
   "file_extension": ".py",
   "mimetype": "text/x-python",
   "name": "python",
   "nbconvert_exporter": "python",
   "pygments_lexer": "ipython3",
   "version": "3.8.8"
  }
 },
 "nbformat": 4,
 "nbformat_minor": 5
}
