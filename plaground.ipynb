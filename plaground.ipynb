{
 "cells": [
  {
   "cell_type": "code",
   "execution_count": 14,
   "id": "eaff84b4-1be4-4cc2-ae9d-b9eb71e9e449",
   "metadata": {},
   "outputs": [],
   "source": [
    "import scipy.stats as stats\n",
    "import numpy as np\n",
    "\n",
    "x = np.linspace(0, 5, 10, endpoint=False)\n",
    "y = stats.multivariate_normal.pdf(x, mean=2.5, cov=0.5)"
   ]
  },
  {
   "cell_type": "code",
   "execution_count": 15,
   "id": "cc8ce2e8",
   "metadata": {},
   "outputs": [
    {
     "data": {
      "text/plain": [
       "array([0.00108914, 0.01033349, 0.05946514, 0.20755375, 0.43939129,\n",
       "       0.56418958, 0.43939129, 0.20755375, 0.05946514, 0.01033349])"
      ]
     },
     "execution_count": 15,
     "metadata": {},
     "output_type": "execute_result"
    }
   ],
   "source": [
    "y"
   ]
  },
  {
   "cell_type": "code",
   "execution_count": 16,
   "id": "16717877",
   "metadata": {},
   "outputs": [
    {
     "data": {
      "text/plain": [
       "array([0. , 0.5, 1. , 1.5, 2. , 2.5, 3. , 3.5, 4. , 4.5])"
      ]
     },
     "execution_count": 16,
     "metadata": {},
     "output_type": "execute_result"
    }
   ],
   "source": [
    "x"
   ]
  },
  {
   "cell_type": "markdown",
   "id": "9609a2b7",
   "metadata": {},
   "source": [
    "## Matlab output(as ref)\n",
    "y =\n",
    "\n",
    "    0.0011\n",
    "    0.0103\n",
    "    0.0595\n",
    "    0.2076\n",
    "    0.4394\n",
    "    0.5642\n",
    "    0.4394\n",
    "    0.2076\n",
    "    0.0595\n",
    "    0.0103\n"
   ]
  },
  {
   "cell_type": "markdown",
   "id": "b15ed388",
   "metadata": {},
   "source": [
    "# Test for z-shape mumeric"
   ]
  },
  {
   "cell_type": "code",
   "execution_count": 32,
   "id": "dd4d8923",
   "metadata": {},
   "outputs": [],
   "source": [
    "%matplotlib qt\n",
    "import numpy as np\n",
    "import scipy.stats as stats\n",
    "import matplotlib.pyplot as plt\n",
    "from matplotlib import cm\n",
    "from tqdm import tqdm\n",
    "\n",
    "def generate_potential_2d_Zshape_numeric(IN_n_states,flag_visualize):\n",
    "    \"\"\"\n",
    "    The Zshape surface is a weighted sum of 2d Normal distributions and\n",
    "    exponential functions\n",
    "    \n",
    "    INPUT : \n",
    "    [IN_n_states] : array with integers giving the number of states is each dimension\n",
    "    (IN_n_states = [100,50] then x = linspace(x_min,x_max,n_states(1)) and y = linspace(x_min,x_max,n_states(2))\n",
    "    [IN_n_states] : array with integers giving the number of states is each\n",
    "    \"\"\"\n",
    "    # Q1: Will we change the limit later? A: Not required, could be optional paras.\n",
    "    x_min = -2\n",
    "    x_max = 2\n",
    "    y_min = -1\n",
    "    y_max = 3\n",
    "    # Q2: The length of each range should be the same for now.\n",
    "\n",
    "    x = np.linspace(x_min,x_max,IN_n_states[0]);\n",
    "    y = np.linspace(y_min,y_max,IN_n_states[1]);\n",
    "\n",
    "    #---Hyper-parameters---#\n",
    "    border_coeff = 1; # Coefficient of borders \n",
    "    well_coeff = 10; # Coefficient of wells (larger value makes wells deeper and barrier between them bigger)\n",
    "\n",
    "\n",
    "    #---PARAMETERS OF NORMAL DISTRIBUTIONS---#\n",
    "    # Section \"Bivariate case\" in [https://en.wikipedia.org/wiki/Multivariate_normal_distribution]\n",
    "    mu_1 = [-1.5,-0.5]\n",
    "    mu_2 = [1.5,2.5]\n",
    "    sigm_center_well = 0.4 # Sigma of some of the wells, sigm for sigma\n",
    "    covar_mat_well = np.diag(np.dot(np.ones((len(IN_n_states))),sigm_center_well))\n",
    "    ###Debugging\n",
    "    print(covar_mat_well)\n",
    "\n",
    "    mu_3 = [-0.5, 0]\n",
    "    sig = [0.7, 0.28] # Origion: [1, 0.4] * 0.7 = result, flat one\n",
    "    ro = 0.7\n",
    "    colvar_mat_3 = [[sig[0]**2, ro*sig[0]*sig[1]],[ro*sig[0]*sig[1], sig[1]**2]]\n",
    "\n",
    "    mu_4 = [0, 1]\n",
    "    sig = [0.7, 0.7] # Origion: [1, 1] * 0.7, Diagonal one\n",
    "    ro = -0.8\n",
    "    colvar_mat_4 = [[sig[0]**2, ro*sig[0]*sig[1]],[ro*sig[0]*sig[1], sig[1]**2]]\n",
    "\n",
    "    mu_5 = [0.5, 2]\n",
    "    sig = [0.7, 0.28] # Origion: [1, 0.4] * 0.7 = result, flat one\n",
    "    ro = 0.7\n",
    "    colvar_mat_5 = [[sig[0]**2, ro*sig[0]*sig[1]],[ro*sig[0]*sig[1], sig[1]**2]]\n",
    "\n",
    "    #---INSTANTIATION---#\n",
    "    potential_numeric = np.zeros(IN_n_states)\n",
    "\n",
    "    #---Run---#\n",
    "    for x_id in tqdm(range(IN_n_states[0])):\n",
    "        for y_id in range(IN_n_states[1]):\n",
    "\n",
    "            #--Borders (Potential increase to infinity outside of [x_min,x_max] and [y_min,y_max])--#\n",
    "            border_1 = np.exp(x_min - x[x_id])\n",
    "            border_2 = np.exp(x[x_id] - x_max)\n",
    "            border_3 = np.exp(y_min - y[y_id])\n",
    "            border_4 = np.exp(y[y_id] - y_max)\n",
    "\n",
    "            #--WELLS--# # This requires multivariate normal distribution generating function\n",
    "            well_1 = stats.multivariate_normal.pdf(x=[x[x_id],y[y_id]],mean=mu_1, cov=covar_mat_well)\n",
    "            well_2 = stats.multivariate_normal.pdf(x=[x[x_id],y[y_id]],mean=mu_2, cov=covar_mat_well)\n",
    "            well_3 = stats.multivariate_normal.pdf(x=[x[x_id],y[y_id]],mean=mu_3, cov=colvar_mat_3) # Numeric expression\n",
    "            well_4 = stats.multivariate_normal.pdf(x=[x[x_id],y[y_id]],mean=mu_4, cov=colvar_mat_4)\n",
    "            well_5 = stats.multivariate_normal.pdf(x=[x[x_id],y[y_id]],mean=mu_5, cov=colvar_mat_5)  \n",
    "\n",
    "            border_contribution = (border_1 + border_2 + border_3 + border_4) * border_coeff\n",
    "            well_contribution = (well_1 + well_2+ well_3+ well_4 + well_5) * well_coeff\n",
    "\n",
    "            potential_numeric[x_id,y_id] = border_contribution - well_contribution\n",
    "\n",
    "    if flag_visualize:\n",
    "        #assert()\n",
    "        x, y = np.meshgrid(x, y)\n",
    "        z = potential_numeric\n",
    "        fig = plt.figure()\n",
    "        ax = plt.axes(projection='3d')\n",
    "\n",
    "        surf = ax.plot_surface(x,y,z,cmap=cm.coolwarm,\\\n",
    "                            linewidth=0, antialiased=False)\n",
    "        ax.set_xlabel('x')\n",
    "        ax.set_ylabel('y')\n",
    "        ax.set_zlabel('z')\n",
    "\n",
    "        fig.colorbar(surf, shrink=0.5, aspect=5)\n",
    "        \n",
    "    return potential_numeric, x, y\n",
    "\n",
    "    # Sympy\n",
    "    # TODO"
   ]
  },
  {
   "cell_type": "code",
   "execution_count": 44,
   "id": "a28dd175",
   "metadata": {},
   "outputs": [],
   "source": [
    "test_instates = [100,100]"
   ]
  },
  {
   "cell_type": "code",
   "execution_count": 33,
   "id": "9f4afe71",
   "metadata": {},
   "outputs": [
    {
     "name": "stderr",
     "output_type": "stream",
     "text": [
      "  0%|          | 0/500 [00:00<?, ?it/s]"
     ]
    },
    {
     "name": "stdout",
     "output_type": "stream",
     "text": [
      "[[0.4 0. ]\n",
      " [0.  0.4]]\n"
     ]
    },
    {
     "name": "stderr",
     "output_type": "stream",
     "text": [
      "100%|██████████| 500/500 [02:00<00:00,  4.15it/s]\n"
     ]
    }
   ],
   "source": [
    "test_potential, test_x, test_y = generate_potential_2d_Zshape_numeric(test_instates, True)"
   ]
  },
  {
   "cell_type": "code",
   "execution_count": 31,
   "id": "098f838c",
   "metadata": {},
   "outputs": [
    {
     "data": {
      "text/plain": [
       "<matplotlib.colorbar.Colorbar at 0x7f8c17a2a040>"
      ]
     },
     "execution_count": 31,
     "metadata": {},
     "output_type": "execute_result"
    }
   ],
   "source": [
    "%matplotlib qt\n",
    "import matplotlib.pyplot as plt\n",
    "from matplotlib import cm\n",
    "import numpy as np \n",
    "x = test_x\n",
    "y = test_y\n",
    "x, y = np.meshgrid(x, y)\n",
    "z = test_potential\n",
    "fig = plt.figure()\n",
    "ax = plt.axes(projection='3d')\n",
    "\n",
    "surf = ax.plot_surface(x,y,z,cmap=cm.coolwarm,\\\n",
    "                       linewidth=0, antialiased=False)\n",
    "ax.set_xlabel('x')\n",
    "ax.set_ylabel('y')\n",
    "ax.set_zlabel('z')\n",
    "\n",
    "fig.colorbar(surf, shrink=0.5, aspect=5)\n"
   ]
  },
  {
   "cell_type": "code",
   "execution_count": 46,
   "id": "5deda6d9",
   "metadata": {},
   "outputs": [],
   "source": [
    "import numpy as np\n",
    "import sympy as spy\n",
    "\n",
    "def generate_potential_2d_spirals_numeric(IN_n_states,IN_number_of_branches,flag_visualize):\n",
    "    \"\"\"\n",
    "    The spiral surface is a modification of the Anormal distribution, which is\n",
    "    a kind of generalization of the multivariate normal distribution\n",
    "\n",
    "    INPUT : \n",
    "    [IN_n_states] : array with integers giving the number of states is each dimension\n",
    "    (IN_n_states = [100,50] then x = linspace(x_min,x_max,n_states(1)) and y = linspace(x_min,x_max,n_states(2))\n",
    "    [IN_n_states] : array with integers giving the number of states is each\n",
    "    \"\"\"\n",
    "    x_min = -20\n",
    "    x_max = 20\n",
    "    y_min = -20\n",
    "    y_max = 20\n",
    "\n",
    "    x = np.linspace(x_min,x_max,IN_n_states[0])\n",
    "    y = np.linspace(y_min,y_max,IN_n_states[1])\n",
    "\n",
    "    # Hyper Parameters\n",
    "    sigma = 0.35 # Spiral\n",
    "    warping_coeff = 0.01\n",
    "    decrease_coeff = 0.05 # decrease how Potential decrease when we get further from center\n",
    "    sinus_to_distance_coeff = 0.1\n",
    "\n",
    "    # Instantiation\n",
    "    potential_numeric = np.zeros(IN_n_states)\n",
    "\n",
    "    # Run\n",
    "    n_petals = IN_number_of_branches\n",
    "    for x_id in tqdm(range(IN_n_states[0])):\n",
    "        for y_id in range(IN_n_states[1]):\n",
    "\n",
    "            # Transform coordinates from (x,y) to (angle,Distance)\n",
    "            angle = np.arctan2(x[x_id], y[y_id])\n",
    "            distance_squared = x[x_id]**2 + y[y_id]**2;  # BIG MODIFICATION\n",
    "            \n",
    "            # Use the chosen shape function\n",
    "            r = (np.sin((angle+warping_coeff*distance_squared)*n_petals)*sinus_to_distance_coeff*distance_squared+2)\n",
    "\n",
    "            # Apply the formula\n",
    "            potential_numeric[x_id,y_id] = -1*np.exp( -1/2*(1)/(sigma*r)**2)*(1+decrease_coeff*distance_squared)\n",
    "\n",
    "    potential_numeric = potential_numeric - np.min(potential_numeric[:]) # Shift so that minimum=0\n",
    "    potential_numeric = potential_numeric/np.sum(potential_numeric[:]) # Normalize at the end because used non-normalized shape function r.\n",
    "\n",
    "    if flag_visualize:\n",
    "        x, y = np.meshgrid(x, y)\n",
    "        z = potential_numeric\n",
    "        fig = plt.figure()\n",
    "        ax = plt.axes(projection='3d')\n",
    "\n",
    "        surf = ax.plot_surface(x,y,z,cmap=cm.coolwarm,\\\n",
    "                            linewidth=0, antialiased=False)\n",
    "        ax.set_xlabel('x')\n",
    "        ax.set_ylabel('y')\n",
    "        ax.set_zlabel('z')\n",
    "\n",
    "        fig.colorbar(surf, shrink=0.5, aspect=5)\n",
    "        \n",
    "    return potential_numeric, x, y\n",
    "\n",
    "# Sympy\n",
    "# TODO"
   ]
  },
  {
   "cell_type": "code",
   "execution_count": 47,
   "id": "72ac487e",
   "metadata": {},
   "outputs": [
    {
     "name": "stderr",
     "output_type": "stream",
     "text": [
      "100%|██████████| 100/100 [00:00<00:00, 1020.77it/s]\n"
     ]
    }
   ],
   "source": [
    "test_potential, test_x, test_y = generate_potential_2d_spirals_numeric([100,100], 2, True)"
   ]
  },
  {
   "cell_type": "code",
   "execution_count": 48,
   "id": "3a025a24",
   "metadata": {},
   "outputs": [
    {
     "name": "stderr",
     "output_type": "stream",
     "text": [
      "  4%|▍         | 4/100 [00:00<00:06, 15.38it/s]"
     ]
    },
    {
     "name": "stdout",
     "output_type": "stream",
     "text": [
      "[[0.4 0. ]\n",
      " [0.  0.4]]\n"
     ]
    },
    {
     "name": "stderr",
     "output_type": "stream",
     "text": [
      "100%|██████████| 100/100 [00:06<00:00, 16.19it/s]\n"
     ]
    }
   ],
   "source": [
    "test_potential, test_x, test_y = generate_potential_2d_Zshape_numeric(test_instates, True)"
   ]
  },
  {
   "cell_type": "code",
   "execution_count": 58,
   "id": "5daf7133",
   "metadata": {},
   "outputs": [],
   "source": [
    "a = np.array([np.nan] * 100)\n",
    "a_affix = [1] * 50"
   ]
  },
  {
   "cell_type": "code",
   "execution_count": 51,
   "id": "b4d1bf0c",
   "metadata": {},
   "outputs": [],
   "source": [
    "b = range(100)"
   ]
  },
  {
   "cell_type": "code",
   "execution_count": 59,
   "id": "d9f35931",
   "metadata": {},
   "outputs": [
    {
     "data": {
      "image/png": "[encoded data removed]",
      "text/plain": [
       "<Figure size 432x288 with 1 Axes>"
      ]
     },
     "metadata": {
      "needs_background": "light"
     },
     "output_type": "display_data"
    }
   ],
   "source": [
    "%matplotlib inline\n",
    "a[0:50] = 1\n",
    "plt.plot(b,a)\n",
    "plt.show()"
   ]
  },
  {
   "cell_type": "code",
   "execution_count": 60,
   "id": "b661add9",
   "metadata": {},
   "outputs": [
    {
     "name": "stdout",
     "output_type": "stream",
     "text": [
      "[ 1.  1.  1.  1.  1.  1.  1.  1.  1.  1.  1.  1.  1.  1.  1.  1.  1.  1.\n",
      "  1.  1.  1.  1.  1.  1.  1.  1.  1.  1.  1.  1.  1.  1.  1.  1.  1.  1.\n",
      "  1.  1.  1.  1.  1.  1.  1.  1.  1.  1.  1.  1.  1.  1. nan nan nan nan\n",
      " nan nan nan nan nan nan nan nan nan nan nan nan nan nan nan nan nan nan\n",
      " nan nan nan nan nan nan nan nan nan nan nan nan nan nan nan nan nan nan\n",
      " nan nan nan nan nan nan nan nan nan nan]\n"
     ]
    }
   ],
   "source": [
    "print(a)"
   ]
  },
  {
   "cell_type": "code",
   "execution_count": null,
   "id": "54ab4302",
   "metadata": {},
   "outputs": [],
   "source": []
  }
 ],
 "metadata": {
  "kernelspec": {
   "display_name": "Python 3",
   "language": "python",
   "name": "python3"
  },
  "language_info": {
   "codemirror_mode": {
    "name": "ipython",
    "version": 3
   },
   "file_extension": ".py",
   "mimetype": "text/x-python",
   "name": "python",
   "nbconvert_exporter": "python",
   "pygments_lexer": "ipython3",
   "version": "3.8.8"
  }
 },
 "nbformat": 4,
 "nbformat_minor": 5
}
