{
 "cells": [
  {
   "cell_type": "code",
   "execution_count": 14,
   "id": "eaff84b4-1be4-4cc2-ae9d-b9eb71e9e449",
   "metadata": {},
   "outputs": [],
   "source": [
    "import scipy.stats as stats\n",
    "import numpy as np\n",
    "\n",
    "x = np.linspace(0, 5, 10, endpoint=False)\n",
    "y = stats.multivariate_normal.pdf(x, mean=2.5, cov=0.5)"
   ]
  },
  {
   "cell_type": "code",
   "execution_count": 15,
   "id": "cc8ce2e8",
   "metadata": {},
   "outputs": [
    {
     "data": {
      "text/plain": [
       "array([0.00108914, 0.01033349, 0.05946514, 0.20755375, 0.43939129,\n",
       "       0.56418958, 0.43939129, 0.20755375, 0.05946514, 0.01033349])"
      ]
     },
     "execution_count": 15,
     "metadata": {},
     "output_type": "execute_result"
    }
   ],
   "source": [
    "y"
   ]
  },
  {
   "cell_type": "code",
   "execution_count": 16,
   "id": "16717877",
   "metadata": {},
   "outputs": [
    {
     "data": {
      "text/plain": [
       "array([0. , 0.5, 1. , 1.5, 2. , 2.5, 3. , 3.5, 4. , 4.5])"
      ]
     },
     "execution_count": 16,
     "metadata": {},
     "output_type": "execute_result"
    }
   ],
   "source": [
    "x"
   ]
  },
  {
   "cell_type": "markdown",
   "id": "9609a2b7",
   "metadata": {},
   "source": [
    "## Matlab output(as ref)\n",
    "y =\n",
    "\n",
    "    0.0011\n",
    "    0.0103\n",
    "    0.0595\n",
    "    0.2076\n",
    "    0.4394\n",
    "    0.5642\n",
    "    0.4394\n",
    "    0.2076\n",
    "    0.0595\n",
    "    0.0103\n"
   ]
  },
  {
   "cell_type": "markdown",
   "id": "b15ed388",
   "metadata": {},
   "source": []
  }
 ],
 "metadata": {
  "kernelspec": {
   "display_name": "Python 3",
   "language": "python",
   "name": "python3"
  },
  "language_info": {
   "codemirror_mode": {
    "name": "ipython",
    "version": 3
   },
   "file_extension": ".py",
   "mimetype": "text/x-python",
   "name": "python",
   "nbconvert_exporter": "python",
   "pygments_lexer": "ipython3",
   "version": "3.8.8"
  }
 },
 "nbformat": 4,
 "nbformat_minor": 5
}
