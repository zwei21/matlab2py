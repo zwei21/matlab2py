{
 "cells": [
  {
   "cell_type": "code",
   "execution_count": 14,
   "id": "eaff84b4-1be4-4cc2-ae9d-b9eb71e9e449",
   "metadata": {},
   "outputs": [],
   "source": [
    "import scipy.stats as stats\n",
    "import numpy as np\n",
    "\n",
    "x = np.linspace(0, 5, 10, endpoint=False)\n",
    "y = stats.multivariate_normal.pdf(x, mean=2.5, cov=0.5)"
   ]
  },
  {
   "cell_type": "code",
   "execution_count": 15,
   "id": "cc8ce2e8",
   "metadata": {},
   "outputs": [
    {
     "data": {
      "text/plain": [
       "array([0.00108914, 0.01033349, 0.05946514, 0.20755375, 0.43939129,\n",
       "       0.56418958, 0.43939129, 0.20755375, 0.05946514, 0.01033349])"
      ]
     },
     "execution_count": 15,
     "metadata": {},
     "output_type": "execute_result"
    }
   ],
   "source": [
    "y"
   ]
  },
  {
   "cell_type": "code",
   "execution_count": 16,
   "id": "16717877",
   "metadata": {},
   "outputs": [
    {
     "data": {
      "text/plain": [
       "array([0. , 0.5, 1. , 1.5, 2. , 2.5, 3. , 3.5, 4. , 4.5])"
      ]
     },
     "execution_count": 16,
     "metadata": {},
     "output_type": "execute_result"
    }
   ],
   "source": [
    "x"
   ]
  },
  {
   "cell_type": "markdown",
   "id": "9609a2b7",
   "metadata": {},
   "source": [
    "## Matlab output(as ref)\n",
    "y =\n",
    "\n",
    "    0.0011\n",
    "    0.0103\n",
    "    0.0595\n",
    "    0.2076\n",
    "    0.4394\n",
    "    0.5642\n",
    "    0.4394\n",
    "    0.2076\n",
    "    0.0595\n",
    "    0.0103\n"
   ]
  },
  {
   "cell_type": "markdown",
   "id": "b15ed388",
   "metadata": {},
   "source": [
    "# Test for z-shape mumeric"
   ]
  },
  {
   "cell_type": "code",
   "execution_count": 46,
   "id": "dd4d8923",
   "metadata": {},
   "outputs": [],
   "source": [
    "import numpy as np\n",
    "import scipy.stats as stats\n",
    "#----Utils----#\n",
    "\n",
    "\n",
    "def generate_potential_2d_Zshape_numeric(IN_n_states,flag_visualize):\n",
    "    \"\"\"\n",
    "    The Zshape surface is a weighted sum of 2d Normal distributions and\n",
    "    exponential functions\n",
    "    \n",
    "    INPUT : \n",
    "    [IN_n_states] : array with integers giving the number of states is each dimension\n",
    "    (IN_n_states = [100,50] then x = linspace(x_min,x_max,n_states(1)) and y = linspace(x_min,x_max,n_states(2))\n",
    "    [IN_n_states] : array with integers giving the number of states is each\n",
    "    \"\"\"\n",
    "    x_min = -2\n",
    "    x_max = 2\n",
    "    y_min = -1\n",
    "    y_max = 3\n",
    "\n",
    "    x = np.linspace(x_min,x_max,IN_n_states[0]);\n",
    "    y = np.linspace(y_min,y_max,IN_n_states[1]);\n",
    "\n",
    "    #---Hyper-parameters---#\n",
    "    border_coeff = 1; # Coefficient of borders \n",
    "    well_coeff = 10; # Coefficient of wells (larger value makes wells deeper and barrier between them bigger)\n",
    "\n",
    "\n",
    "    #---PARAMETERS OF NORMAL DISTRIBUTIONS---#\n",
    "    # Section \"Bivariate case\" in [https://en.wikipedia.org/wiki/Multivariate_normal_distribution]\n",
    "    mu_1 = [-1.5,-0.5]\n",
    "    mu_2 = [1.5,2.5]\n",
    "    sigm_center_well = 0.4 # Sigma of some of the wells, sigm for sigma\n",
    "    covar_mat_well = np.diag(np.dot(np.ones((len(IN_n_states))),sigm_center_well))\n",
    "    ###Debugging\n",
    "    print(covar_mat_well)\n",
    "\n",
    "    mu_3 = [-0.5, 0]\n",
    "    sig = [0.7, 0.28] # Origion: [1, 0.4] * 0.7 = result, flat one\n",
    "    ro = 0.7\n",
    "    colvar_mat_3 = [[sig[0]**2, ro*sig[0]*sig[1]],[ro*sig[0]*sig[1], sig[1]**2]]\n",
    "\n",
    "    mu_4 = [0, 1]\n",
    "    sig = [0.7, 0.7] # Origion: [1, 1] * 0.7, Diagonal one\n",
    "    ro = -0.8\n",
    "    colvar_mat_4 = [[sig[0]**2, ro*sig[0]*sig[1]],[ro*sig[0]*sig[1], sig[1]**2]]\n",
    "\n",
    "    mu_5 = [0.5, 2]\n",
    "    sig = [0.7, 0.28] # Origion: [1, 0.4] * 0.7 = result, flat one\n",
    "    ro = 0.7\n",
    "    colvar_mat_5 = [[sig[0]**2, ro*sig[0]*sig[1]],[ro*sig[0]*sig[1], sig[1]**2]]\n",
    "\n",
    "    #---INSTANTIATION---#\n",
    "    potential_numeric = np.zeros(IN_n_states)\n",
    "\n",
    "    #---Run---#\n",
    "    for x_id in range(IN_n_states[0]):\n",
    "        for y_id in range(IN_n_states[1]):\n",
    "\n",
    "            #--Borders (Potential increase to infinity outside of [x_min,x_max] and [y_min,y_max])--#\n",
    "            border_1 = np.exp(x_min - x[x_id])\n",
    "            border_2 = np.exp(x[x_id] - x_max)\n",
    "            border_3 = np.exp(y_min - y[y_id])\n",
    "            border_4 = np.exp(y[y_id] - y_max)\n",
    "\n",
    "            #--WELLS--# # This requires multivariate normal distribution generating function\n",
    "            well_1 = stats.multivariate_normal([x[x_id],y[y_id]],mu_1, covar_mat_well)\n",
    "            well_2 = stats.multivariate_normal([x[x_id],y[y_id]],mu_2, covar_mat_well)\n",
    "            well_3 = stats.multivariate_normal([x[x_id],y[y_id]],mu_3, colvar_mat_3) # Numeric expression\n",
    "            well_4 = stats.multivariate_normal([x[x_id],y[y_id]],mu_4, colvar_mat_4)\n",
    "            well_5 = stats.multivariate_normal([x[x_id],y[y_id]],mu_5, colvar_mat_5)  \n",
    "\n",
    "            border_contribution = (border_1 + border_2 + border_3 + border_4) * border_coeff\n",
    "            well_contribution = (well_1 + well_2+ well_3+ well_4 + well_5) * well_coeff\n",
    "\n",
    "            potential_numeric[x_id,y_id] = border_contribution - well_contribution\n",
    "\n",
    "    return potential_numeric, x, y\n",
    "\n",
    "    # Sympy\n",
    "    # TODO"
   ]
  },
  {
   "cell_type": "code",
   "execution_count": 47,
   "id": "a28dd175",
   "metadata": {},
   "outputs": [],
   "source": [
    "test_instates = [100,50]"
   ]
  },
  {
   "cell_type": "code",
   "execution_count": 48,
   "id": "9f4afe71",
   "metadata": {},
   "outputs": [
    {
     "name": "stdout",
     "output_type": "stream",
     "text": [
      "[[0.4 0. ]\n",
      " [0.  0.4]]\n"
     ]
    },
    {
     "ename": "ValueError",
     "evalue": "the input matrix must be positive semidefinite",
     "output_type": "error",
     "traceback": [
      "\u001b[0;31m---------------------------------------------------------------------------\u001b[0m",
      "\u001b[0;31mValueError\u001b[0m                                Traceback (most recent call last)",
      "\u001b[0;32m<ipython-input-48-73d1cef6dfb7>\u001b[0m in \u001b[0;36m<module>\u001b[0;34m\u001b[0m\n\u001b[0;32m----> 1\u001b[0;31m \u001b[0mtest_potential\u001b[0m\u001b[0;34m,\u001b[0m \u001b[0mtest_x\u001b[0m\u001b[0;34m,\u001b[0m \u001b[0mtest_y\u001b[0m \u001b[0;34m=\u001b[0m \u001b[0mgenerate_potential_2d_Zshape_numeric\u001b[0m\u001b[0;34m(\u001b[0m\u001b[0mtest_instates\u001b[0m\u001b[0;34m,\u001b[0m \u001b[0;32mFalse\u001b[0m\u001b[0;34m)\u001b[0m\u001b[0;34m\u001b[0m\u001b[0;34m\u001b[0m\u001b[0m\n\u001b[0m",
      "\u001b[0;32m<ipython-input-46-59305af7da80>\u001b[0m in \u001b[0;36mgenerate_potential_2d_Zshape_numeric\u001b[0;34m(IN_n_states, flag_visualize)\u001b[0m\n\u001b[1;32m     64\u001b[0m \u001b[0;34m\u001b[0m\u001b[0m\n\u001b[1;32m     65\u001b[0m             \u001b[0;31m#--WELLS--# # This requires multivariate normal distribution generating function\u001b[0m\u001b[0;34m\u001b[0m\u001b[0;34m\u001b[0m\u001b[0;34m\u001b[0m\u001b[0m\n\u001b[0;32m---> 66\u001b[0;31m             \u001b[0mwell_1\u001b[0m \u001b[0;34m=\u001b[0m \u001b[0mstats\u001b[0m\u001b[0;34m.\u001b[0m\u001b[0mmultivariate_normal\u001b[0m\u001b[0;34m(\u001b[0m\u001b[0;34m[\u001b[0m\u001b[0mx\u001b[0m\u001b[0;34m[\u001b[0m\u001b[0mx_id\u001b[0m\u001b[0;34m]\u001b[0m\u001b[0;34m,\u001b[0m\u001b[0my\u001b[0m\u001b[0;34m[\u001b[0m\u001b[0my_id\u001b[0m\u001b[0;34m]\u001b[0m\u001b[0;34m]\u001b[0m\u001b[0;34m,\u001b[0m\u001b[0mmu_1\u001b[0m\u001b[0;34m,\u001b[0m \u001b[0mcovar_mat_well\u001b[0m\u001b[0;34m)\u001b[0m\u001b[0;34m\u001b[0m\u001b[0;34m\u001b[0m\u001b[0m\n\u001b[0m\u001b[1;32m     67\u001b[0m             \u001b[0mwell_2\u001b[0m \u001b[0;34m=\u001b[0m \u001b[0mstats\u001b[0m\u001b[0;34m.\u001b[0m\u001b[0mmultivariate_normal\u001b[0m\u001b[0;34m(\u001b[0m\u001b[0;34m[\u001b[0m\u001b[0mx\u001b[0m\u001b[0;34m[\u001b[0m\u001b[0mx_id\u001b[0m\u001b[0;34m]\u001b[0m\u001b[0;34m,\u001b[0m\u001b[0my\u001b[0m\u001b[0;34m[\u001b[0m\u001b[0my_id\u001b[0m\u001b[0;34m]\u001b[0m\u001b[0;34m]\u001b[0m\u001b[0;34m,\u001b[0m\u001b[0mmu_2\u001b[0m\u001b[0;34m,\u001b[0m \u001b[0mcovar_mat_well\u001b[0m\u001b[0;34m)\u001b[0m\u001b[0;34m\u001b[0m\u001b[0;34m\u001b[0m\u001b[0m\n\u001b[1;32m     68\u001b[0m             \u001b[0mwell_3\u001b[0m \u001b[0;34m=\u001b[0m \u001b[0mstats\u001b[0m\u001b[0;34m.\u001b[0m\u001b[0mmultivariate_normal\u001b[0m\u001b[0;34m(\u001b[0m\u001b[0;34m[\u001b[0m\u001b[0mx\u001b[0m\u001b[0;34m[\u001b[0m\u001b[0mx_id\u001b[0m\u001b[0;34m]\u001b[0m\u001b[0;34m,\u001b[0m\u001b[0my\u001b[0m\u001b[0;34m[\u001b[0m\u001b[0my_id\u001b[0m\u001b[0;34m]\u001b[0m\u001b[0;34m]\u001b[0m\u001b[0;34m,\u001b[0m\u001b[0mmu_3\u001b[0m\u001b[0;34m,\u001b[0m \u001b[0mcolvar_mat_3\u001b[0m\u001b[0;34m)\u001b[0m \u001b[0;31m# Numeric expression\u001b[0m\u001b[0;34m\u001b[0m\u001b[0;34m\u001b[0m\u001b[0m\n",
      "\u001b[0;32m~/opt/anaconda3/lib/python3.8/site-packages/scipy/stats/_multivariate.py\u001b[0m in \u001b[0;36m__call__\u001b[0;34m(self, mean, cov, allow_singular, seed)\u001b[0m\n\u001b[1;32m    365\u001b[0m \u001b[0;34m\u001b[0m\u001b[0m\n\u001b[1;32m    366\u001b[0m         \"\"\"\n\u001b[0;32m--> 367\u001b[0;31m         return multivariate_normal_frozen(mean, cov,\n\u001b[0m\u001b[1;32m    368\u001b[0m                                           \u001b[0mallow_singular\u001b[0m\u001b[0;34m=\u001b[0m\u001b[0mallow_singular\u001b[0m\u001b[0;34m,\u001b[0m\u001b[0;34m\u001b[0m\u001b[0;34m\u001b[0m\u001b[0m\n\u001b[1;32m    369\u001b[0m                                           seed=seed)\n",
      "\u001b[0;32m~/opt/anaconda3/lib/python3.8/site-packages/scipy/stats/_multivariate.py\u001b[0m in \u001b[0;36m__init__\u001b[0;34m(self, mean, cov, allow_singular, seed, maxpts, abseps, releps)\u001b[0m\n\u001b[1;32m    743\u001b[0m         self.dim, self.mean, self.cov = self._dist._process_parameters(\n\u001b[1;32m    744\u001b[0m                                                             None, mean, cov)\n\u001b[0;32m--> 745\u001b[0;31m         \u001b[0mself\u001b[0m\u001b[0;34m.\u001b[0m\u001b[0mcov_info\u001b[0m \u001b[0;34m=\u001b[0m \u001b[0m_PSD\u001b[0m\u001b[0;34m(\u001b[0m\u001b[0mself\u001b[0m\u001b[0;34m.\u001b[0m\u001b[0mcov\u001b[0m\u001b[0;34m,\u001b[0m \u001b[0mallow_singular\u001b[0m\u001b[0;34m=\u001b[0m\u001b[0mallow_singular\u001b[0m\u001b[0;34m)\u001b[0m\u001b[0;34m\u001b[0m\u001b[0;34m\u001b[0m\u001b[0m\n\u001b[0m\u001b[1;32m    746\u001b[0m         \u001b[0;32mif\u001b[0m \u001b[0;32mnot\u001b[0m \u001b[0mmaxpts\u001b[0m\u001b[0;34m:\u001b[0m\u001b[0;34m\u001b[0m\u001b[0;34m\u001b[0m\u001b[0m\n\u001b[1;32m    747\u001b[0m             \u001b[0mmaxpts\u001b[0m \u001b[0;34m=\u001b[0m \u001b[0;36m1000000\u001b[0m \u001b[0;34m*\u001b[0m \u001b[0mself\u001b[0m\u001b[0;34m.\u001b[0m\u001b[0mdim\u001b[0m\u001b[0;34m\u001b[0m\u001b[0;34m\u001b[0m\u001b[0m\n",
      "\u001b[0;32m~/opt/anaconda3/lib/python3.8/site-packages/scipy/stats/_multivariate.py\u001b[0m in \u001b[0;36m__init__\u001b[0;34m(self, M, cond, rcond, lower, check_finite, allow_singular)\u001b[0m\n\u001b[1;32m    162\u001b[0m         \u001b[0meps\u001b[0m \u001b[0;34m=\u001b[0m \u001b[0m_eigvalsh_to_eps\u001b[0m\u001b[0;34m(\u001b[0m\u001b[0ms\u001b[0m\u001b[0;34m,\u001b[0m \u001b[0mcond\u001b[0m\u001b[0;34m,\u001b[0m \u001b[0mrcond\u001b[0m\u001b[0;34m)\u001b[0m\u001b[0;34m\u001b[0m\u001b[0;34m\u001b[0m\u001b[0m\n\u001b[1;32m    163\u001b[0m         \u001b[0;32mif\u001b[0m \u001b[0mnp\u001b[0m\u001b[0;34m.\u001b[0m\u001b[0mmin\u001b[0m\u001b[0;34m(\u001b[0m\u001b[0ms\u001b[0m\u001b[0;34m)\u001b[0m \u001b[0;34m<\u001b[0m \u001b[0;34m-\u001b[0m\u001b[0meps\u001b[0m\u001b[0;34m:\u001b[0m\u001b[0;34m\u001b[0m\u001b[0;34m\u001b[0m\u001b[0m\n\u001b[0;32m--> 164\u001b[0;31m             \u001b[0;32mraise\u001b[0m \u001b[0mValueError\u001b[0m\u001b[0;34m(\u001b[0m\u001b[0;34m'the input matrix must be positive semidefinite'\u001b[0m\u001b[0;34m)\u001b[0m\u001b[0;34m\u001b[0m\u001b[0;34m\u001b[0m\u001b[0m\n\u001b[0m\u001b[1;32m    165\u001b[0m         \u001b[0md\u001b[0m \u001b[0;34m=\u001b[0m \u001b[0ms\u001b[0m\u001b[0;34m[\u001b[0m\u001b[0ms\u001b[0m \u001b[0;34m>\u001b[0m \u001b[0meps\u001b[0m\u001b[0;34m]\u001b[0m\u001b[0;34m\u001b[0m\u001b[0;34m\u001b[0m\u001b[0m\n\u001b[1;32m    166\u001b[0m         \u001b[0;32mif\u001b[0m \u001b[0mlen\u001b[0m\u001b[0;34m(\u001b[0m\u001b[0md\u001b[0m\u001b[0;34m)\u001b[0m \u001b[0;34m<\u001b[0m \u001b[0mlen\u001b[0m\u001b[0;34m(\u001b[0m\u001b[0ms\u001b[0m\u001b[0;34m)\u001b[0m \u001b[0;32mand\u001b[0m \u001b[0;32mnot\u001b[0m \u001b[0mallow_singular\u001b[0m\u001b[0;34m:\u001b[0m\u001b[0;34m\u001b[0m\u001b[0;34m\u001b[0m\u001b[0m\n",
      "\u001b[0;31mValueError\u001b[0m: the input matrix must be positive semidefinite"
     ]
    }
   ],
   "source": [
    "test_potential, test_x, test_y = generate_potential_2d_Zshape_numeric(test_instates, False)"
   ]
  },
  {
   "cell_type": "code",
   "execution_count": 9,
   "id": "3f3db4aa",
   "metadata": {},
   "outputs": [
    {
     "data": {
      "text/plain": [
       "array([[1., 1., 1., 1., 1., 1., 1., 1., 1., 1.]])"
      ]
     },
     "execution_count": 9,
     "metadata": {},
     "output_type": "execute_result"
    }
   ],
   "source": [
    "np.ones((1,10))"
   ]
  },
  {
   "cell_type": "code",
   "execution_count": 28,
   "id": "098f838c",
   "metadata": {},
   "outputs": [
    {
     "data": {
      "text/plain": [
       "array([[0.4, 0. ],\n",
       "       [0. , 0.4]])"
      ]
     },
     "execution_count": 28,
     "metadata": {},
     "output_type": "execute_result"
    }
   ],
   "source": [
    "np.diag([0.4,0.4])"
   ]
  },
  {
   "cell_type": "code",
   "execution_count": 30,
   "id": "1c924cd3",
   "metadata": {},
   "outputs": [],
   "source": [
    "test_diagones = np.dot(np.array([1,1]), 0.4)"
   ]
  },
  {
   "cell_type": "code",
   "execution_count": 31,
   "id": "53d7ee65",
   "metadata": {},
   "outputs": [
    {
     "data": {
      "text/plain": [
       "array([[0.4, 0. ],\n",
       "       [0. , 0.4]])"
      ]
     },
     "execution_count": 31,
     "metadata": {},
     "output_type": "execute_result"
    }
   ],
   "source": [
    "np.diag(test_diagones)"
   ]
  },
  {
   "cell_type": "code",
   "execution_count": 45,
   "id": "e7abffb8",
   "metadata": {},
   "outputs": [
    {
     "data": {
      "text/plain": [
       "array([[0.4, 0. ],\n",
       "       [0. , 0.4]])"
      ]
     },
     "execution_count": 45,
     "metadata": {},
     "output_type": "execute_result"
    }
   ],
   "source": [
    "np.diag(np.dot(np.ones((2)), 0.4))"
   ]
  },
  {
   "cell_type": "code",
   "execution_count": 41,
   "id": "15af73c2",
   "metadata": {},
   "outputs": [
    {
     "data": {
      "text/plain": [
       "array([[0.4, 0.4]])"
      ]
     },
     "execution_count": 41,
     "metadata": {},
     "output_type": "execute_result"
    }
   ],
   "source": [
    "np.dot(np.ones((1,2)), 0.4)"
   ]
  },
  {
   "cell_type": "code",
   "execution_count": 37,
   "id": "c170675d",
   "metadata": {},
   "outputs": [
    {
     "data": {
      "text/plain": [
       "array([[0.4, 0. ],\n",
       "       [0. , 0.4]])"
      ]
     },
     "execution_count": 37,
     "metadata": {},
     "output_type": "execute_result"
    }
   ],
   "source": [
    "np.diag([0.4,0.4])"
   ]
  },
  {
   "cell_type": "code",
   "execution_count": 42,
   "id": "c29f581d",
   "metadata": {},
   "outputs": [],
   "source": [
    "a = np.array([[0.4,0.4]])"
   ]
  },
  {
   "cell_type": "code",
   "execution_count": 43,
   "id": "982a65f2",
   "metadata": {},
   "outputs": [
    {
     "data": {
      "text/plain": [
       "(1, 2)"
      ]
     },
     "execution_count": 43,
     "metadata": {},
     "output_type": "execute_result"
    }
   ],
   "source": [
    "np.diag(a)\n",
    "a.shape"
   ]
  },
  {
   "cell_type": "code",
   "execution_count": 44,
   "id": "814e9d5f",
   "metadata": {},
   "outputs": [
    {
     "data": {
      "text/plain": [
       "array([0.4])"
      ]
     },
     "execution_count": 44,
     "metadata": {},
     "output_type": "execute_result"
    }
   ],
   "source": [
    "np.diag(a)"
   ]
  },
  {
   "cell_type": "code",
   "execution_count": null,
   "id": "c3dc12d4",
   "metadata": {},
   "outputs": [],
   "source": []
  }
 ],
 "metadata": {
  "kernelspec": {
   "display_name": "Python 3",
   "language": "python",
   "name": "python3"
  },
  "language_info": {
   "codemirror_mode": {
    "name": "ipython",
    "version": 3
   },
   "file_extension": ".py",
   "mimetype": "text/x-python",
   "name": "python",
   "nbconvert_exporter": "python",
   "pygments_lexer": "ipython3",
   "version": "3.8.8"
  }
 },
 "nbformat": 4,
 "nbformat_minor": 5
}
